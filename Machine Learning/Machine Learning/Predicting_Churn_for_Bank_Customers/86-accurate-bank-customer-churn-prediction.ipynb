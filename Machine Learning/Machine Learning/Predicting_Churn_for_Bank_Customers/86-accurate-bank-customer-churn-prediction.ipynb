{
 "cells": [
  {
   "cell_type": "markdown",
   "id": "7fd11eb9",
   "metadata": {
    "papermill": {
     "duration": 0.011885,
     "end_time": "2023-02-06T16:28:37.912577",
     "exception": false,
     "start_time": "2023-02-06T16:28:37.900692",
     "status": "completed"
    },
    "tags": []
   },
   "source": [
    "# Summary\n",
    "\n",
    "![Customer Churn in a Bank](https://miro.medium.com/max/1400/1*47xx1oXuebvYwZeB0OutuA.png)\n",
    "\n",
    "### `*Discover the potential of predictive analytics with this comprehensive guide to predicting customer churn in a bank. With 86% accuracy, *this notebook covers all aspects of data preprocessing, model selection and hyperparameter tuning using Randomized Search Cross Validation. Maximize your results with this cutting-edge approach to customer churn prediction*"
   ]
  },
  {
   "cell_type": "markdown",
   "id": "b23c7dad",
   "metadata": {
    "papermill": {
     "duration": 0.010376,
     "end_time": "2023-02-06T16:28:37.933620",
     "exception": false,
     "start_time": "2023-02-06T16:28:37.923244",
     "status": "completed"
    },
    "tags": []
   },
   "source": [
    "## Importing Libraries & Dataset"
   ]
  },
  {
   "cell_type": "code",
   "execution_count": 1,
   "id": "edac2238",
   "metadata": {
    "_cell_guid": "b1076dfc-b9ad-4769-8c92-a6c4dae69d19",
    "_uuid": "8f2839f25d086af736a60e9eeb907d3b93b6e0e5",
    "execution": {
     "iopub.execute_input": "2023-02-06T16:28:37.958304Z",
     "iopub.status.busy": "2023-02-06T16:28:37.957531Z",
     "iopub.status.idle": "2023-02-06T16:28:39.215349Z",
     "shell.execute_reply": "2023-02-06T16:28:39.213958Z"
    },
    "jupyter": {
     "source_hidden": true
    },
    "papermill": {
     "duration": 1.272578,
     "end_time": "2023-02-06T16:28:39.217909",
     "exception": false,
     "start_time": "2023-02-06T16:28:37.945331",
     "status": "completed"
    },
    "tags": []
   },
   "outputs": [],
   "source": [
    "import numpy as np # linear algebra\n",
    "import pandas as pd # data processing, CSV file I/O (e.g. pd.read_csv)\n",
    "import matplotlib.pyplot as plt\n",
    "import seaborn as sns \n",
    "from sklearn.preprocessing import StandardScaler\n",
    "from sklearn.linear_model import LogisticRegression\n",
    "from sklearn.ensemble import RandomForestClassifier\n",
    "from xgboost import XGBClassifier\n",
    "from sklearn.metrics import confusion_matrix, recall_score, f1_score, accuracy_score, precision_score\n",
    "from sklearn.model_selection import train_test_split , cross_val_score, RandomizedSearchCV\n",
    "import warnings  # ignore all warnings\n",
    "warnings.filterwarnings('ignore')\n",
    "\n",
    "df = pd.read_csv('/kaggle/input/predicting-churn-for-bank-customers/Churn_Modelling.csv')"
   ]
  },
  {
   "cell_type": "markdown",
   "id": "046fd5ab",
   "metadata": {
    "execution": {
     "iopub.execute_input": "2023-02-06T10:48:30.713005Z",
     "iopub.status.busy": "2023-02-06T10:48:30.712586Z",
     "iopub.status.idle": "2023-02-06T10:48:30.718024Z",
     "shell.execute_reply": "2023-02-06T10:48:30.716886Z",
     "shell.execute_reply.started": "2023-02-06T10:48:30.712972Z"
    },
    "papermill": {
     "duration": 0.010484,
     "end_time": "2023-02-06T16:28:39.239499",
     "exception": false,
     "start_time": "2023-02-06T16:28:39.229015",
     "status": "completed"
    },
    "tags": []
   },
   "source": [
    "# Data Exploration"
   ]
  },
  {
   "cell_type": "code",
   "execution_count": 2,
   "id": "0e9aa469",
   "metadata": {
    "execution": {
     "iopub.execute_input": "2023-02-06T16:28:39.262488Z",
     "iopub.status.busy": "2023-02-06T16:28:39.262083Z",
     "iopub.status.idle": "2023-02-06T16:28:39.284735Z",
     "shell.execute_reply": "2023-02-06T16:28:39.283882Z"
    },
    "papermill": {
     "duration": 0.036441,
     "end_time": "2023-02-06T16:28:39.286609",
     "exception": false,
     "start_time": "2023-02-06T16:28:39.250168",
     "status": "completed"
    },
    "tags": []
   },
   "outputs": [
    {
     "data": {
      "text/html": [
       "<div>\n",
       "<style scoped>\n",
       "    .dataframe tbody tr th:only-of-type {\n",
       "        vertical-align: middle;\n",
       "    }\n",
       "\n",
       "    .dataframe tbody tr th {\n",
       "        vertical-align: top;\n",
       "    }\n",
       "\n",
       "    .dataframe thead th {\n",
       "        text-align: right;\n",
       "    }\n",
       "</style>\n",
       "<table border=\"1\" class=\"dataframe\">\n",
       "  <thead>\n",
       "    <tr style=\"text-align: right;\">\n",
       "      <th></th>\n",
       "      <th>RowNumber</th>\n",
       "      <th>CustomerId</th>\n",
       "      <th>Surname</th>\n",
       "      <th>CreditScore</th>\n",
       "      <th>Geography</th>\n",
       "      <th>Gender</th>\n",
       "      <th>Age</th>\n",
       "      <th>Tenure</th>\n",
       "      <th>Balance</th>\n",
       "      <th>NumOfProducts</th>\n",
       "      <th>HasCrCard</th>\n",
       "      <th>IsActiveMember</th>\n",
       "      <th>EstimatedSalary</th>\n",
       "      <th>Exited</th>\n",
       "    </tr>\n",
       "  </thead>\n",
       "  <tbody>\n",
       "    <tr>\n",
       "      <th>0</th>\n",
       "      <td>1</td>\n",
       "      <td>15634602</td>\n",
       "      <td>Hargrave</td>\n",
       "      <td>619</td>\n",
       "      <td>France</td>\n",
       "      <td>Female</td>\n",
       "      <td>42</td>\n",
       "      <td>2</td>\n",
       "      <td>0.00</td>\n",
       "      <td>1</td>\n",
       "      <td>1</td>\n",
       "      <td>1</td>\n",
       "      <td>101348.88</td>\n",
       "      <td>1</td>\n",
       "    </tr>\n",
       "    <tr>\n",
       "      <th>1</th>\n",
       "      <td>2</td>\n",
       "      <td>15647311</td>\n",
       "      <td>Hill</td>\n",
       "      <td>608</td>\n",
       "      <td>Spain</td>\n",
       "      <td>Female</td>\n",
       "      <td>41</td>\n",
       "      <td>1</td>\n",
       "      <td>83807.86</td>\n",
       "      <td>1</td>\n",
       "      <td>0</td>\n",
       "      <td>1</td>\n",
       "      <td>112542.58</td>\n",
       "      <td>0</td>\n",
       "    </tr>\n",
       "    <tr>\n",
       "      <th>2</th>\n",
       "      <td>3</td>\n",
       "      <td>15619304</td>\n",
       "      <td>Onio</td>\n",
       "      <td>502</td>\n",
       "      <td>France</td>\n",
       "      <td>Female</td>\n",
       "      <td>42</td>\n",
       "      <td>8</td>\n",
       "      <td>159660.80</td>\n",
       "      <td>3</td>\n",
       "      <td>1</td>\n",
       "      <td>0</td>\n",
       "      <td>113931.57</td>\n",
       "      <td>1</td>\n",
       "    </tr>\n",
       "    <tr>\n",
       "      <th>3</th>\n",
       "      <td>4</td>\n",
       "      <td>15701354</td>\n",
       "      <td>Boni</td>\n",
       "      <td>699</td>\n",
       "      <td>France</td>\n",
       "      <td>Female</td>\n",
       "      <td>39</td>\n",
       "      <td>1</td>\n",
       "      <td>0.00</td>\n",
       "      <td>2</td>\n",
       "      <td>0</td>\n",
       "      <td>0</td>\n",
       "      <td>93826.63</td>\n",
       "      <td>0</td>\n",
       "    </tr>\n",
       "    <tr>\n",
       "      <th>4</th>\n",
       "      <td>5</td>\n",
       "      <td>15737888</td>\n",
       "      <td>Mitchell</td>\n",
       "      <td>850</td>\n",
       "      <td>Spain</td>\n",
       "      <td>Female</td>\n",
       "      <td>43</td>\n",
       "      <td>2</td>\n",
       "      <td>125510.82</td>\n",
       "      <td>1</td>\n",
       "      <td>1</td>\n",
       "      <td>1</td>\n",
       "      <td>79084.10</td>\n",
       "      <td>0</td>\n",
       "    </tr>\n",
       "  </tbody>\n",
       "</table>\n",
       "</div>"
      ],
      "text/plain": [
       "   RowNumber  CustomerId   Surname  CreditScore Geography  Gender  Age  \\\n",
       "0          1    15634602  Hargrave          619    France  Female   42   \n",
       "1          2    15647311      Hill          608     Spain  Female   41   \n",
       "2          3    15619304      Onio          502    France  Female   42   \n",
       "3          4    15701354      Boni          699    France  Female   39   \n",
       "4          5    15737888  Mitchell          850     Spain  Female   43   \n",
       "\n",
       "   Tenure    Balance  NumOfProducts  HasCrCard  IsActiveMember  \\\n",
       "0       2       0.00              1          1               1   \n",
       "1       1   83807.86              1          0               1   \n",
       "2       8  159660.80              3          1               0   \n",
       "3       1       0.00              2          0               0   \n",
       "4       2  125510.82              1          1               1   \n",
       "\n",
       "   EstimatedSalary  Exited  \n",
       "0        101348.88       1  \n",
       "1        112542.58       0  \n",
       "2        113931.57       1  \n",
       "3         93826.63       0  \n",
       "4         79084.10       0  "
      ]
     },
     "execution_count": 2,
     "metadata": {},
     "output_type": "execute_result"
    }
   ],
   "source": [
    "df.head()"
   ]
  },
  {
   "cell_type": "code",
   "execution_count": 3,
   "id": "4d250444",
   "metadata": {
    "execution": {
     "iopub.execute_input": "2023-02-06T16:28:39.310353Z",
     "iopub.status.busy": "2023-02-06T16:28:39.309969Z",
     "iopub.status.idle": "2023-02-06T16:28:39.314728Z",
     "shell.execute_reply": "2023-02-06T16:28:39.313942Z"
    },
    "papermill": {
     "duration": 0.01954,
     "end_time": "2023-02-06T16:28:39.317138",
     "exception": false,
     "start_time": "2023-02-06T16:28:39.297598",
     "status": "completed"
    },
    "tags": []
   },
   "outputs": [
    {
     "name": "stdout",
     "output_type": "stream",
     "text": [
      "Rows: 10000\n",
      "Columns: 14\n"
     ]
    }
   ],
   "source": [
    "print(f'Rows:',df.shape[0])     #Printing Rows \n",
    "print(f'Columns:',df.shape[1])  #Printing RColumns"
   ]
  },
  {
   "cell_type": "code",
   "execution_count": 4,
   "id": "48809850",
   "metadata": {
    "execution": {
     "iopub.execute_input": "2023-02-06T16:28:39.341346Z",
     "iopub.status.busy": "2023-02-06T16:28:39.340984Z",
     "iopub.status.idle": "2023-02-06T16:28:39.365350Z",
     "shell.execute_reply": "2023-02-06T16:28:39.364349Z"
    },
    "papermill": {
     "duration": 0.038982,
     "end_time": "2023-02-06T16:28:39.367848",
     "exception": false,
     "start_time": "2023-02-06T16:28:39.328866",
     "status": "completed"
    },
    "tags": []
   },
   "outputs": [
    {
     "name": "stdout",
     "output_type": "stream",
     "text": [
      "<class 'pandas.core.frame.DataFrame'>\n",
      "RangeIndex: 10000 entries, 0 to 9999\n",
      "Data columns (total 14 columns):\n",
      " #   Column           Non-Null Count  Dtype  \n",
      "---  ------           --------------  -----  \n",
      " 0   RowNumber        10000 non-null  int64  \n",
      " 1   CustomerId       10000 non-null  int64  \n",
      " 2   Surname          10000 non-null  object \n",
      " 3   CreditScore      10000 non-null  int64  \n",
      " 4   Geography        10000 non-null  object \n",
      " 5   Gender           10000 non-null  object \n",
      " 6   Age              10000 non-null  int64  \n",
      " 7   Tenure           10000 non-null  int64  \n",
      " 8   Balance          10000 non-null  float64\n",
      " 9   NumOfProducts    10000 non-null  int64  \n",
      " 10  HasCrCard        10000 non-null  int64  \n",
      " 11  IsActiveMember   10000 non-null  int64  \n",
      " 12  EstimatedSalary  10000 non-null  float64\n",
      " 13  Exited           10000 non-null  int64  \n",
      "dtypes: float64(2), int64(9), object(3)\n",
      "memory usage: 1.1+ MB\n"
     ]
    }
   ],
   "source": [
    "df.info()  #Checking data info/datatypes "
   ]
  },
  {
   "cell_type": "code",
   "execution_count": 5,
   "id": "6f7c9229",
   "metadata": {
    "execution": {
     "iopub.execute_input": "2023-02-06T16:28:39.391658Z",
     "iopub.status.busy": "2023-02-06T16:28:39.391133Z",
     "iopub.status.idle": "2023-02-06T16:28:39.404318Z",
     "shell.execute_reply": "2023-02-06T16:28:39.403444Z"
    },
    "papermill": {
     "duration": 0.027031,
     "end_time": "2023-02-06T16:28:39.406182",
     "exception": false,
     "start_time": "2023-02-06T16:28:39.379151",
     "status": "completed"
    },
    "tags": []
   },
   "outputs": [
    {
     "data": {
      "text/html": [
       "<div>\n",
       "<style scoped>\n",
       "    .dataframe tbody tr th:only-of-type {\n",
       "        vertical-align: middle;\n",
       "    }\n",
       "\n",
       "    .dataframe tbody tr th {\n",
       "        vertical-align: top;\n",
       "    }\n",
       "\n",
       "    .dataframe thead th {\n",
       "        text-align: right;\n",
       "    }\n",
       "</style>\n",
       "<table border=\"1\" class=\"dataframe\">\n",
       "  <thead>\n",
       "    <tr style=\"text-align: right;\">\n",
       "      <th></th>\n",
       "      <th>Surname</th>\n",
       "      <th>Geography</th>\n",
       "      <th>Gender</th>\n",
       "    </tr>\n",
       "  </thead>\n",
       "  <tbody>\n",
       "    <tr>\n",
       "      <th>0</th>\n",
       "      <td>Hargrave</td>\n",
       "      <td>France</td>\n",
       "      <td>Female</td>\n",
       "    </tr>\n",
       "    <tr>\n",
       "      <th>1</th>\n",
       "      <td>Hill</td>\n",
       "      <td>Spain</td>\n",
       "      <td>Female</td>\n",
       "    </tr>\n",
       "    <tr>\n",
       "      <th>2</th>\n",
       "      <td>Onio</td>\n",
       "      <td>France</td>\n",
       "      <td>Female</td>\n",
       "    </tr>\n",
       "    <tr>\n",
       "      <th>3</th>\n",
       "      <td>Boni</td>\n",
       "      <td>France</td>\n",
       "      <td>Female</td>\n",
       "    </tr>\n",
       "    <tr>\n",
       "      <th>4</th>\n",
       "      <td>Mitchell</td>\n",
       "      <td>Spain</td>\n",
       "      <td>Female</td>\n",
       "    </tr>\n",
       "    <tr>\n",
       "      <th>...</th>\n",
       "      <td>...</td>\n",
       "      <td>...</td>\n",
       "      <td>...</td>\n",
       "    </tr>\n",
       "    <tr>\n",
       "      <th>9995</th>\n",
       "      <td>Obijiaku</td>\n",
       "      <td>France</td>\n",
       "      <td>Male</td>\n",
       "    </tr>\n",
       "    <tr>\n",
       "      <th>9996</th>\n",
       "      <td>Johnstone</td>\n",
       "      <td>France</td>\n",
       "      <td>Male</td>\n",
       "    </tr>\n",
       "    <tr>\n",
       "      <th>9997</th>\n",
       "      <td>Liu</td>\n",
       "      <td>France</td>\n",
       "      <td>Female</td>\n",
       "    </tr>\n",
       "    <tr>\n",
       "      <th>9998</th>\n",
       "      <td>Sabbatini</td>\n",
       "      <td>Germany</td>\n",
       "      <td>Male</td>\n",
       "    </tr>\n",
       "    <tr>\n",
       "      <th>9999</th>\n",
       "      <td>Walker</td>\n",
       "      <td>France</td>\n",
       "      <td>Female</td>\n",
       "    </tr>\n",
       "  </tbody>\n",
       "</table>\n",
       "<p>10000 rows × 3 columns</p>\n",
       "</div>"
      ],
      "text/plain": [
       "        Surname Geography  Gender\n",
       "0      Hargrave    France  Female\n",
       "1          Hill     Spain  Female\n",
       "2          Onio    France  Female\n",
       "3          Boni    France  Female\n",
       "4      Mitchell     Spain  Female\n",
       "...         ...       ...     ...\n",
       "9995   Obijiaku    France    Male\n",
       "9996  Johnstone    France    Male\n",
       "9997        Liu    France  Female\n",
       "9998  Sabbatini   Germany    Male\n",
       "9999     Walker    France  Female\n",
       "\n",
       "[10000 rows x 3 columns]"
      ]
     },
     "execution_count": 5,
     "metadata": {},
     "output_type": "execute_result"
    }
   ],
   "source": [
    "df.select_dtypes(include='object') #Getting Categorical Columns"
   ]
  },
  {
   "cell_type": "code",
   "execution_count": 6,
   "id": "10eba362",
   "metadata": {
    "execution": {
     "iopub.execute_input": "2023-02-06T16:28:39.430852Z",
     "iopub.status.busy": "2023-02-06T16:28:39.429957Z",
     "iopub.status.idle": "2023-02-06T16:28:39.448567Z",
     "shell.execute_reply": "2023-02-06T16:28:39.447658Z"
    },
    "papermill": {
     "duration": 0.032762,
     "end_time": "2023-02-06T16:28:39.450408",
     "exception": false,
     "start_time": "2023-02-06T16:28:39.417646",
     "status": "completed"
    },
    "tags": []
   },
   "outputs": [
    {
     "data": {
      "text/html": [
       "<div>\n",
       "<style scoped>\n",
       "    .dataframe tbody tr th:only-of-type {\n",
       "        vertical-align: middle;\n",
       "    }\n",
       "\n",
       "    .dataframe tbody tr th {\n",
       "        vertical-align: top;\n",
       "    }\n",
       "\n",
       "    .dataframe thead th {\n",
       "        text-align: right;\n",
       "    }\n",
       "</style>\n",
       "<table border=\"1\" class=\"dataframe\">\n",
       "  <thead>\n",
       "    <tr style=\"text-align: right;\">\n",
       "      <th></th>\n",
       "      <th>RowNumber</th>\n",
       "      <th>CustomerId</th>\n",
       "      <th>CreditScore</th>\n",
       "      <th>Age</th>\n",
       "      <th>Tenure</th>\n",
       "      <th>Balance</th>\n",
       "      <th>NumOfProducts</th>\n",
       "      <th>HasCrCard</th>\n",
       "      <th>IsActiveMember</th>\n",
       "      <th>EstimatedSalary</th>\n",
       "      <th>Exited</th>\n",
       "    </tr>\n",
       "  </thead>\n",
       "  <tbody>\n",
       "    <tr>\n",
       "      <th>0</th>\n",
       "      <td>1</td>\n",
       "      <td>15634602</td>\n",
       "      <td>619</td>\n",
       "      <td>42</td>\n",
       "      <td>2</td>\n",
       "      <td>0.00</td>\n",
       "      <td>1</td>\n",
       "      <td>1</td>\n",
       "      <td>1</td>\n",
       "      <td>101348.88</td>\n",
       "      <td>1</td>\n",
       "    </tr>\n",
       "    <tr>\n",
       "      <th>1</th>\n",
       "      <td>2</td>\n",
       "      <td>15647311</td>\n",
       "      <td>608</td>\n",
       "      <td>41</td>\n",
       "      <td>1</td>\n",
       "      <td>83807.86</td>\n",
       "      <td>1</td>\n",
       "      <td>0</td>\n",
       "      <td>1</td>\n",
       "      <td>112542.58</td>\n",
       "      <td>0</td>\n",
       "    </tr>\n",
       "    <tr>\n",
       "      <th>2</th>\n",
       "      <td>3</td>\n",
       "      <td>15619304</td>\n",
       "      <td>502</td>\n",
       "      <td>42</td>\n",
       "      <td>8</td>\n",
       "      <td>159660.80</td>\n",
       "      <td>3</td>\n",
       "      <td>1</td>\n",
       "      <td>0</td>\n",
       "      <td>113931.57</td>\n",
       "      <td>1</td>\n",
       "    </tr>\n",
       "    <tr>\n",
       "      <th>3</th>\n",
       "      <td>4</td>\n",
       "      <td>15701354</td>\n",
       "      <td>699</td>\n",
       "      <td>39</td>\n",
       "      <td>1</td>\n",
       "      <td>0.00</td>\n",
       "      <td>2</td>\n",
       "      <td>0</td>\n",
       "      <td>0</td>\n",
       "      <td>93826.63</td>\n",
       "      <td>0</td>\n",
       "    </tr>\n",
       "    <tr>\n",
       "      <th>4</th>\n",
       "      <td>5</td>\n",
       "      <td>15737888</td>\n",
       "      <td>850</td>\n",
       "      <td>43</td>\n",
       "      <td>2</td>\n",
       "      <td>125510.82</td>\n",
       "      <td>1</td>\n",
       "      <td>1</td>\n",
       "      <td>1</td>\n",
       "      <td>79084.10</td>\n",
       "      <td>0</td>\n",
       "    </tr>\n",
       "    <tr>\n",
       "      <th>...</th>\n",
       "      <td>...</td>\n",
       "      <td>...</td>\n",
       "      <td>...</td>\n",
       "      <td>...</td>\n",
       "      <td>...</td>\n",
       "      <td>...</td>\n",
       "      <td>...</td>\n",
       "      <td>...</td>\n",
       "      <td>...</td>\n",
       "      <td>...</td>\n",
       "      <td>...</td>\n",
       "    </tr>\n",
       "    <tr>\n",
       "      <th>9995</th>\n",
       "      <td>9996</td>\n",
       "      <td>15606229</td>\n",
       "      <td>771</td>\n",
       "      <td>39</td>\n",
       "      <td>5</td>\n",
       "      <td>0.00</td>\n",
       "      <td>2</td>\n",
       "      <td>1</td>\n",
       "      <td>0</td>\n",
       "      <td>96270.64</td>\n",
       "      <td>0</td>\n",
       "    </tr>\n",
       "    <tr>\n",
       "      <th>9996</th>\n",
       "      <td>9997</td>\n",
       "      <td>15569892</td>\n",
       "      <td>516</td>\n",
       "      <td>35</td>\n",
       "      <td>10</td>\n",
       "      <td>57369.61</td>\n",
       "      <td>1</td>\n",
       "      <td>1</td>\n",
       "      <td>1</td>\n",
       "      <td>101699.77</td>\n",
       "      <td>0</td>\n",
       "    </tr>\n",
       "    <tr>\n",
       "      <th>9997</th>\n",
       "      <td>9998</td>\n",
       "      <td>15584532</td>\n",
       "      <td>709</td>\n",
       "      <td>36</td>\n",
       "      <td>7</td>\n",
       "      <td>0.00</td>\n",
       "      <td>1</td>\n",
       "      <td>0</td>\n",
       "      <td>1</td>\n",
       "      <td>42085.58</td>\n",
       "      <td>1</td>\n",
       "    </tr>\n",
       "    <tr>\n",
       "      <th>9998</th>\n",
       "      <td>9999</td>\n",
       "      <td>15682355</td>\n",
       "      <td>772</td>\n",
       "      <td>42</td>\n",
       "      <td>3</td>\n",
       "      <td>75075.31</td>\n",
       "      <td>2</td>\n",
       "      <td>1</td>\n",
       "      <td>0</td>\n",
       "      <td>92888.52</td>\n",
       "      <td>1</td>\n",
       "    </tr>\n",
       "    <tr>\n",
       "      <th>9999</th>\n",
       "      <td>10000</td>\n",
       "      <td>15628319</td>\n",
       "      <td>792</td>\n",
       "      <td>28</td>\n",
       "      <td>4</td>\n",
       "      <td>130142.79</td>\n",
       "      <td>1</td>\n",
       "      <td>1</td>\n",
       "      <td>0</td>\n",
       "      <td>38190.78</td>\n",
       "      <td>0</td>\n",
       "    </tr>\n",
       "  </tbody>\n",
       "</table>\n",
       "<p>10000 rows × 11 columns</p>\n",
       "</div>"
      ],
      "text/plain": [
       "      RowNumber  CustomerId  CreditScore  Age  Tenure    Balance  \\\n",
       "0             1    15634602          619   42       2       0.00   \n",
       "1             2    15647311          608   41       1   83807.86   \n",
       "2             3    15619304          502   42       8  159660.80   \n",
       "3             4    15701354          699   39       1       0.00   \n",
       "4             5    15737888          850   43       2  125510.82   \n",
       "...         ...         ...          ...  ...     ...        ...   \n",
       "9995       9996    15606229          771   39       5       0.00   \n",
       "9996       9997    15569892          516   35      10   57369.61   \n",
       "9997       9998    15584532          709   36       7       0.00   \n",
       "9998       9999    15682355          772   42       3   75075.31   \n",
       "9999      10000    15628319          792   28       4  130142.79   \n",
       "\n",
       "      NumOfProducts  HasCrCard  IsActiveMember  EstimatedSalary  Exited  \n",
       "0                 1          1               1        101348.88       1  \n",
       "1                 1          0               1        112542.58       0  \n",
       "2                 3          1               0        113931.57       1  \n",
       "3                 2          0               0         93826.63       0  \n",
       "4                 1          1               1         79084.10       0  \n",
       "...             ...        ...             ...              ...     ...  \n",
       "9995              2          1               0         96270.64       0  \n",
       "9996              1          1               1        101699.77       0  \n",
       "9997              1          0               1         42085.58       1  \n",
       "9998              2          1               0         92888.52       1  \n",
       "9999              1          1               0         38190.78       0  \n",
       "\n",
       "[10000 rows x 11 columns]"
      ]
     },
     "execution_count": 6,
     "metadata": {},
     "output_type": "execute_result"
    }
   ],
   "source": [
    "df.select_dtypes(include=['int64','float64']) #Getting Numerical Columns"
   ]
  },
  {
   "cell_type": "code",
   "execution_count": 7,
   "id": "176dd391",
   "metadata": {
    "execution": {
     "iopub.execute_input": "2023-02-06T16:28:39.475808Z",
     "iopub.status.busy": "2023-02-06T16:28:39.475153Z",
     "iopub.status.idle": "2023-02-06T16:28:39.513725Z",
     "shell.execute_reply": "2023-02-06T16:28:39.512851Z"
    },
    "papermill": {
     "duration": 0.053034,
     "end_time": "2023-02-06T16:28:39.515587",
     "exception": false,
     "start_time": "2023-02-06T16:28:39.462553",
     "status": "completed"
    },
    "tags": []
   },
   "outputs": [
    {
     "data": {
      "text/html": [
       "<div>\n",
       "<style scoped>\n",
       "    .dataframe tbody tr th:only-of-type {\n",
       "        vertical-align: middle;\n",
       "    }\n",
       "\n",
       "    .dataframe tbody tr th {\n",
       "        vertical-align: top;\n",
       "    }\n",
       "\n",
       "    .dataframe thead th {\n",
       "        text-align: right;\n",
       "    }\n",
       "</style>\n",
       "<table border=\"1\" class=\"dataframe\">\n",
       "  <thead>\n",
       "    <tr style=\"text-align: right;\">\n",
       "      <th></th>\n",
       "      <th>RowNumber</th>\n",
       "      <th>CustomerId</th>\n",
       "      <th>CreditScore</th>\n",
       "      <th>Age</th>\n",
       "      <th>Tenure</th>\n",
       "      <th>Balance</th>\n",
       "      <th>NumOfProducts</th>\n",
       "      <th>HasCrCard</th>\n",
       "      <th>IsActiveMember</th>\n",
       "      <th>EstimatedSalary</th>\n",
       "      <th>Exited</th>\n",
       "    </tr>\n",
       "  </thead>\n",
       "  <tbody>\n",
       "    <tr>\n",
       "      <th>count</th>\n",
       "      <td>10000.00000</td>\n",
       "      <td>1.000000e+04</td>\n",
       "      <td>10000.000000</td>\n",
       "      <td>10000.000000</td>\n",
       "      <td>10000.000000</td>\n",
       "      <td>10000.000000</td>\n",
       "      <td>10000.000000</td>\n",
       "      <td>10000.00000</td>\n",
       "      <td>10000.000000</td>\n",
       "      <td>10000.000000</td>\n",
       "      <td>10000.000000</td>\n",
       "    </tr>\n",
       "    <tr>\n",
       "      <th>mean</th>\n",
       "      <td>5000.50000</td>\n",
       "      <td>1.569094e+07</td>\n",
       "      <td>650.528800</td>\n",
       "      <td>38.921800</td>\n",
       "      <td>5.012800</td>\n",
       "      <td>76485.889288</td>\n",
       "      <td>1.530200</td>\n",
       "      <td>0.70550</td>\n",
       "      <td>0.515100</td>\n",
       "      <td>100090.239881</td>\n",
       "      <td>0.203700</td>\n",
       "    </tr>\n",
       "    <tr>\n",
       "      <th>std</th>\n",
       "      <td>2886.89568</td>\n",
       "      <td>7.193619e+04</td>\n",
       "      <td>96.653299</td>\n",
       "      <td>10.487806</td>\n",
       "      <td>2.892174</td>\n",
       "      <td>62397.405202</td>\n",
       "      <td>0.581654</td>\n",
       "      <td>0.45584</td>\n",
       "      <td>0.499797</td>\n",
       "      <td>57510.492818</td>\n",
       "      <td>0.402769</td>\n",
       "    </tr>\n",
       "    <tr>\n",
       "      <th>min</th>\n",
       "      <td>1.00000</td>\n",
       "      <td>1.556570e+07</td>\n",
       "      <td>350.000000</td>\n",
       "      <td>18.000000</td>\n",
       "      <td>0.000000</td>\n",
       "      <td>0.000000</td>\n",
       "      <td>1.000000</td>\n",
       "      <td>0.00000</td>\n",
       "      <td>0.000000</td>\n",
       "      <td>11.580000</td>\n",
       "      <td>0.000000</td>\n",
       "    </tr>\n",
       "    <tr>\n",
       "      <th>25%</th>\n",
       "      <td>2500.75000</td>\n",
       "      <td>1.562853e+07</td>\n",
       "      <td>584.000000</td>\n",
       "      <td>32.000000</td>\n",
       "      <td>3.000000</td>\n",
       "      <td>0.000000</td>\n",
       "      <td>1.000000</td>\n",
       "      <td>0.00000</td>\n",
       "      <td>0.000000</td>\n",
       "      <td>51002.110000</td>\n",
       "      <td>0.000000</td>\n",
       "    </tr>\n",
       "    <tr>\n",
       "      <th>50%</th>\n",
       "      <td>5000.50000</td>\n",
       "      <td>1.569074e+07</td>\n",
       "      <td>652.000000</td>\n",
       "      <td>37.000000</td>\n",
       "      <td>5.000000</td>\n",
       "      <td>97198.540000</td>\n",
       "      <td>1.000000</td>\n",
       "      <td>1.00000</td>\n",
       "      <td>1.000000</td>\n",
       "      <td>100193.915000</td>\n",
       "      <td>0.000000</td>\n",
       "    </tr>\n",
       "    <tr>\n",
       "      <th>75%</th>\n",
       "      <td>7500.25000</td>\n",
       "      <td>1.575323e+07</td>\n",
       "      <td>718.000000</td>\n",
       "      <td>44.000000</td>\n",
       "      <td>7.000000</td>\n",
       "      <td>127644.240000</td>\n",
       "      <td>2.000000</td>\n",
       "      <td>1.00000</td>\n",
       "      <td>1.000000</td>\n",
       "      <td>149388.247500</td>\n",
       "      <td>0.000000</td>\n",
       "    </tr>\n",
       "    <tr>\n",
       "      <th>max</th>\n",
       "      <td>10000.00000</td>\n",
       "      <td>1.581569e+07</td>\n",
       "      <td>850.000000</td>\n",
       "      <td>92.000000</td>\n",
       "      <td>10.000000</td>\n",
       "      <td>250898.090000</td>\n",
       "      <td>4.000000</td>\n",
       "      <td>1.00000</td>\n",
       "      <td>1.000000</td>\n",
       "      <td>199992.480000</td>\n",
       "      <td>1.000000</td>\n",
       "    </tr>\n",
       "  </tbody>\n",
       "</table>\n",
       "</div>"
      ],
      "text/plain": [
       "         RowNumber    CustomerId   CreditScore           Age        Tenure  \\\n",
       "count  10000.00000  1.000000e+04  10000.000000  10000.000000  10000.000000   \n",
       "mean    5000.50000  1.569094e+07    650.528800     38.921800      5.012800   \n",
       "std     2886.89568  7.193619e+04     96.653299     10.487806      2.892174   \n",
       "min        1.00000  1.556570e+07    350.000000     18.000000      0.000000   \n",
       "25%     2500.75000  1.562853e+07    584.000000     32.000000      3.000000   \n",
       "50%     5000.50000  1.569074e+07    652.000000     37.000000      5.000000   \n",
       "75%     7500.25000  1.575323e+07    718.000000     44.000000      7.000000   \n",
       "max    10000.00000  1.581569e+07    850.000000     92.000000     10.000000   \n",
       "\n",
       "             Balance  NumOfProducts    HasCrCard  IsActiveMember  \\\n",
       "count   10000.000000   10000.000000  10000.00000    10000.000000   \n",
       "mean    76485.889288       1.530200      0.70550        0.515100   \n",
       "std     62397.405202       0.581654      0.45584        0.499797   \n",
       "min         0.000000       1.000000      0.00000        0.000000   \n",
       "25%         0.000000       1.000000      0.00000        0.000000   \n",
       "50%     97198.540000       1.000000      1.00000        1.000000   \n",
       "75%    127644.240000       2.000000      1.00000        1.000000   \n",
       "max    250898.090000       4.000000      1.00000        1.000000   \n",
       "\n",
       "       EstimatedSalary        Exited  \n",
       "count     10000.000000  10000.000000  \n",
       "mean     100090.239881      0.203700  \n",
       "std       57510.492818      0.402769  \n",
       "min          11.580000      0.000000  \n",
       "25%       51002.110000      0.000000  \n",
       "50%      100193.915000      0.000000  \n",
       "75%      149388.247500      0.000000  \n",
       "max      199992.480000      1.000000  "
      ]
     },
     "execution_count": 7,
     "metadata": {},
     "output_type": "execute_result"
    }
   ],
   "source": [
    "df.describe() # statistical summary"
   ]
  },
  {
   "cell_type": "markdown",
   "id": "7eadd848",
   "metadata": {
    "execution": {
     "iopub.execute_input": "2023-02-06T11:00:20.106825Z",
     "iopub.status.busy": "2023-02-06T11:00:20.106373Z",
     "iopub.status.idle": "2023-02-06T11:00:20.111094Z",
     "shell.execute_reply": "2023-02-06T11:00:20.110274Z",
     "shell.execute_reply.started": "2023-02-06T11:00:20.106790Z"
    },
    "papermill": {
     "duration": 0.011625,
     "end_time": "2023-02-06T16:28:39.539282",
     "exception": false,
     "start_time": "2023-02-06T16:28:39.527657",
     "status": "completed"
    },
    "tags": []
   },
   "source": [
    "## Dealing Missing values"
   ]
  },
  {
   "cell_type": "code",
   "execution_count": 8,
   "id": "a069f5c5",
   "metadata": {
    "execution": {
     "iopub.execute_input": "2023-02-06T16:28:39.563843Z",
     "iopub.status.busy": "2023-02-06T16:28:39.563529Z",
     "iopub.status.idle": "2023-02-06T16:28:39.572562Z",
     "shell.execute_reply": "2023-02-06T16:28:39.571883Z"
    },
    "papermill": {
     "duration": 0.02333,
     "end_time": "2023-02-06T16:28:39.574208",
     "exception": false,
     "start_time": "2023-02-06T16:28:39.550878",
     "status": "completed"
    },
    "tags": []
   },
   "outputs": [
    {
     "data": {
      "text/plain": [
       "RowNumber          0\n",
       "CustomerId         0\n",
       "Surname            0\n",
       "CreditScore        0\n",
       "Geography          0\n",
       "Gender             0\n",
       "Age                0\n",
       "Tenure             0\n",
       "Balance            0\n",
       "NumOfProducts      0\n",
       "HasCrCard          0\n",
       "IsActiveMember     0\n",
       "EstimatedSalary    0\n",
       "Exited             0\n",
       "dtype: int64"
      ]
     },
     "execution_count": 8,
     "metadata": {},
     "output_type": "execute_result"
    }
   ],
   "source": [
    "df.isnull().sum()"
   ]
  },
  {
   "cell_type": "markdown",
   "id": "f0125dac",
   "metadata": {
    "execution": {
     "iopub.execute_input": "2023-02-06T11:01:22.627726Z",
     "iopub.status.busy": "2023-02-06T11:01:22.627308Z",
     "iopub.status.idle": "2023-02-06T11:01:22.632443Z",
     "shell.execute_reply": "2023-02-06T11:01:22.631021Z",
     "shell.execute_reply.started": "2023-02-06T11:01:22.627694Z"
    },
    "papermill": {
     "duration": 0.011672,
     "end_time": "2023-02-06T16:28:39.597847",
     "exception": false,
     "start_time": "2023-02-06T16:28:39.586175",
     "status": "completed"
    },
    "tags": []
   },
   "source": [
    "## Feature Enginering"
   ]
  },
  {
   "cell_type": "code",
   "execution_count": 9,
   "id": "a8fe530f",
   "metadata": {
    "execution": {
     "iopub.execute_input": "2023-02-06T16:28:39.622974Z",
     "iopub.status.busy": "2023-02-06T16:28:39.622192Z",
     "iopub.status.idle": "2023-02-06T16:28:39.637011Z",
     "shell.execute_reply": "2023-02-06T16:28:39.636187Z"
    },
    "papermill": {
     "duration": 0.029168,
     "end_time": "2023-02-06T16:28:39.638660",
     "exception": false,
     "start_time": "2023-02-06T16:28:39.609492",
     "status": "completed"
    },
    "tags": []
   },
   "outputs": [
    {
     "data": {
      "text/html": [
       "<div>\n",
       "<style scoped>\n",
       "    .dataframe tbody tr th:only-of-type {\n",
       "        vertical-align: middle;\n",
       "    }\n",
       "\n",
       "    .dataframe tbody tr th {\n",
       "        vertical-align: top;\n",
       "    }\n",
       "\n",
       "    .dataframe thead th {\n",
       "        text-align: right;\n",
       "    }\n",
       "</style>\n",
       "<table border=\"1\" class=\"dataframe\">\n",
       "  <thead>\n",
       "    <tr style=\"text-align: right;\">\n",
       "      <th></th>\n",
       "      <th>RowNumber</th>\n",
       "      <th>CustomerId</th>\n",
       "      <th>Surname</th>\n",
       "      <th>CreditScore</th>\n",
       "      <th>Geography</th>\n",
       "      <th>Gender</th>\n",
       "      <th>Age</th>\n",
       "      <th>Tenure</th>\n",
       "      <th>Balance</th>\n",
       "      <th>NumOfProducts</th>\n",
       "      <th>HasCrCard</th>\n",
       "      <th>IsActiveMember</th>\n",
       "      <th>EstimatedSalary</th>\n",
       "      <th>Exited</th>\n",
       "    </tr>\n",
       "  </thead>\n",
       "  <tbody>\n",
       "    <tr>\n",
       "      <th>0</th>\n",
       "      <td>1</td>\n",
       "      <td>15634602</td>\n",
       "      <td>Hargrave</td>\n",
       "      <td>619</td>\n",
       "      <td>France</td>\n",
       "      <td>Female</td>\n",
       "      <td>42</td>\n",
       "      <td>2</td>\n",
       "      <td>0.00</td>\n",
       "      <td>1</td>\n",
       "      <td>1</td>\n",
       "      <td>1</td>\n",
       "      <td>101348.88</td>\n",
       "      <td>1</td>\n",
       "    </tr>\n",
       "    <tr>\n",
       "      <th>1</th>\n",
       "      <td>2</td>\n",
       "      <td>15647311</td>\n",
       "      <td>Hill</td>\n",
       "      <td>608</td>\n",
       "      <td>Spain</td>\n",
       "      <td>Female</td>\n",
       "      <td>41</td>\n",
       "      <td>1</td>\n",
       "      <td>83807.86</td>\n",
       "      <td>1</td>\n",
       "      <td>0</td>\n",
       "      <td>1</td>\n",
       "      <td>112542.58</td>\n",
       "      <td>0</td>\n",
       "    </tr>\n",
       "    <tr>\n",
       "      <th>2</th>\n",
       "      <td>3</td>\n",
       "      <td>15619304</td>\n",
       "      <td>Onio</td>\n",
       "      <td>502</td>\n",
       "      <td>France</td>\n",
       "      <td>Female</td>\n",
       "      <td>42</td>\n",
       "      <td>8</td>\n",
       "      <td>159660.80</td>\n",
       "      <td>3</td>\n",
       "      <td>1</td>\n",
       "      <td>0</td>\n",
       "      <td>113931.57</td>\n",
       "      <td>1</td>\n",
       "    </tr>\n",
       "    <tr>\n",
       "      <th>3</th>\n",
       "      <td>4</td>\n",
       "      <td>15701354</td>\n",
       "      <td>Boni</td>\n",
       "      <td>699</td>\n",
       "      <td>France</td>\n",
       "      <td>Female</td>\n",
       "      <td>39</td>\n",
       "      <td>1</td>\n",
       "      <td>0.00</td>\n",
       "      <td>2</td>\n",
       "      <td>0</td>\n",
       "      <td>0</td>\n",
       "      <td>93826.63</td>\n",
       "      <td>0</td>\n",
       "    </tr>\n",
       "    <tr>\n",
       "      <th>4</th>\n",
       "      <td>5</td>\n",
       "      <td>15737888</td>\n",
       "      <td>Mitchell</td>\n",
       "      <td>850</td>\n",
       "      <td>Spain</td>\n",
       "      <td>Female</td>\n",
       "      <td>43</td>\n",
       "      <td>2</td>\n",
       "      <td>125510.82</td>\n",
       "      <td>1</td>\n",
       "      <td>1</td>\n",
       "      <td>1</td>\n",
       "      <td>79084.10</td>\n",
       "      <td>0</td>\n",
       "    </tr>\n",
       "  </tbody>\n",
       "</table>\n",
       "</div>"
      ],
      "text/plain": [
       "   RowNumber  CustomerId   Surname  CreditScore Geography  Gender  Age  \\\n",
       "0          1    15634602  Hargrave          619    France  Female   42   \n",
       "1          2    15647311      Hill          608     Spain  Female   41   \n",
       "2          3    15619304      Onio          502    France  Female   42   \n",
       "3          4    15701354      Boni          699    France  Female   39   \n",
       "4          5    15737888  Mitchell          850     Spain  Female   43   \n",
       "\n",
       "   Tenure    Balance  NumOfProducts  HasCrCard  IsActiveMember  \\\n",
       "0       2       0.00              1          1               1   \n",
       "1       1   83807.86              1          0               1   \n",
       "2       8  159660.80              3          1               0   \n",
       "3       1       0.00              2          0               0   \n",
       "4       2  125510.82              1          1               1   \n",
       "\n",
       "   EstimatedSalary  Exited  \n",
       "0        101348.88       1  \n",
       "1        112542.58       0  \n",
       "2        113931.57       1  \n",
       "3         93826.63       0  \n",
       "4         79084.10       0  "
      ]
     },
     "execution_count": 9,
     "metadata": {},
     "output_type": "execute_result"
    }
   ],
   "source": [
    "df.head()"
   ]
  },
  {
   "cell_type": "markdown",
   "id": "d0257120",
   "metadata": {
    "papermill": {
     "duration": 0.011932,
     "end_time": "2023-02-06T16:28:39.662844",
     "exception": false,
     "start_time": "2023-02-06T16:28:39.650912",
     "status": "completed"
    },
    "tags": []
   },
   "source": [
    "We will be dropping the first 3 columns 'RowNumber', 'CustomerId', 'Surname' as it seems usless for further use"
   ]
  },
  {
   "cell_type": "code",
   "execution_count": 10,
   "id": "16a6546f",
   "metadata": {
    "execution": {
     "iopub.execute_input": "2023-02-06T16:28:39.688850Z",
     "iopub.status.busy": "2023-02-06T16:28:39.688222Z",
     "iopub.status.idle": "2023-02-06T16:28:39.693196Z",
     "shell.execute_reply": "2023-02-06T16:28:39.692593Z"
    },
    "papermill": {
     "duration": 0.020027,
     "end_time": "2023-02-06T16:28:39.694861",
     "exception": false,
     "start_time": "2023-02-06T16:28:39.674834",
     "status": "completed"
    },
    "tags": []
   },
   "outputs": [],
   "source": [
    "df.drop(columns=['RowNumber', 'CustomerId', 'Surname'], inplace=True)  #Droped useless columns 'RowNumber', 'CustomerId', 'Surname'"
   ]
  },
  {
   "cell_type": "code",
   "execution_count": 11,
   "id": "a55bb928",
   "metadata": {
    "execution": {
     "iopub.execute_input": "2023-02-06T16:28:39.720248Z",
     "iopub.status.busy": "2023-02-06T16:28:39.719897Z",
     "iopub.status.idle": "2023-02-06T16:28:39.731909Z",
     "shell.execute_reply": "2023-02-06T16:28:39.731097Z"
    },
    "papermill": {
     "duration": 0.02674,
     "end_time": "2023-02-06T16:28:39.733643",
     "exception": false,
     "start_time": "2023-02-06T16:28:39.706903",
     "status": "completed"
    },
    "tags": []
   },
   "outputs": [
    {
     "data": {
      "text/html": [
       "<div>\n",
       "<style scoped>\n",
       "    .dataframe tbody tr th:only-of-type {\n",
       "        vertical-align: middle;\n",
       "    }\n",
       "\n",
       "    .dataframe tbody tr th {\n",
       "        vertical-align: top;\n",
       "    }\n",
       "\n",
       "    .dataframe thead th {\n",
       "        text-align: right;\n",
       "    }\n",
       "</style>\n",
       "<table border=\"1\" class=\"dataframe\">\n",
       "  <thead>\n",
       "    <tr style=\"text-align: right;\">\n",
       "      <th></th>\n",
       "      <th>Geography</th>\n",
       "      <th>Gender</th>\n",
       "    </tr>\n",
       "  </thead>\n",
       "  <tbody>\n",
       "    <tr>\n",
       "      <th>0</th>\n",
       "      <td>France</td>\n",
       "      <td>Female</td>\n",
       "    </tr>\n",
       "    <tr>\n",
       "      <th>1</th>\n",
       "      <td>Spain</td>\n",
       "      <td>Female</td>\n",
       "    </tr>\n",
       "    <tr>\n",
       "      <th>2</th>\n",
       "      <td>France</td>\n",
       "      <td>Female</td>\n",
       "    </tr>\n",
       "    <tr>\n",
       "      <th>3</th>\n",
       "      <td>France</td>\n",
       "      <td>Female</td>\n",
       "    </tr>\n",
       "    <tr>\n",
       "      <th>4</th>\n",
       "      <td>Spain</td>\n",
       "      <td>Female</td>\n",
       "    </tr>\n",
       "    <tr>\n",
       "      <th>...</th>\n",
       "      <td>...</td>\n",
       "      <td>...</td>\n",
       "    </tr>\n",
       "    <tr>\n",
       "      <th>9995</th>\n",
       "      <td>France</td>\n",
       "      <td>Male</td>\n",
       "    </tr>\n",
       "    <tr>\n",
       "      <th>9996</th>\n",
       "      <td>France</td>\n",
       "      <td>Male</td>\n",
       "    </tr>\n",
       "    <tr>\n",
       "      <th>9997</th>\n",
       "      <td>France</td>\n",
       "      <td>Female</td>\n",
       "    </tr>\n",
       "    <tr>\n",
       "      <th>9998</th>\n",
       "      <td>Germany</td>\n",
       "      <td>Male</td>\n",
       "    </tr>\n",
       "    <tr>\n",
       "      <th>9999</th>\n",
       "      <td>France</td>\n",
       "      <td>Female</td>\n",
       "    </tr>\n",
       "  </tbody>\n",
       "</table>\n",
       "<p>10000 rows × 2 columns</p>\n",
       "</div>"
      ],
      "text/plain": [
       "     Geography  Gender\n",
       "0       France  Female\n",
       "1        Spain  Female\n",
       "2       France  Female\n",
       "3       France  Female\n",
       "4        Spain  Female\n",
       "...        ...     ...\n",
       "9995    France    Male\n",
       "9996    France    Male\n",
       "9997    France  Female\n",
       "9998   Germany    Male\n",
       "9999    France  Female\n",
       "\n",
       "[10000 rows x 2 columns]"
      ]
     },
     "execution_count": 11,
     "metadata": {},
     "output_type": "execute_result"
    }
   ],
   "source": [
    "df.select_dtypes(include='object') #checking catigorical columns "
   ]
  },
  {
   "cell_type": "code",
   "execution_count": 12,
   "id": "82050210",
   "metadata": {
    "execution": {
     "iopub.execute_input": "2023-02-06T16:28:39.759754Z",
     "iopub.status.busy": "2023-02-06T16:28:39.759172Z",
     "iopub.status.idle": "2023-02-06T16:28:39.766359Z",
     "shell.execute_reply": "2023-02-06T16:28:39.765436Z"
    },
    "papermill": {
     "duration": 0.022609,
     "end_time": "2023-02-06T16:28:39.768462",
     "exception": false,
     "start_time": "2023-02-06T16:28:39.745853",
     "status": "completed"
    },
    "tags": []
   },
   "outputs": [
    {
     "name": "stdout",
     "output_type": "stream",
     "text": [
      "Geography unique ['France' 'Spain' 'Germany']\n",
      "Gender unique ['Female' 'Male']\n"
     ]
    }
   ],
   "source": [
    "print(f'Geography unique',df.Geography.unique())  #Checking uniqe values in the catigorical column\n",
    "print(f'Gender unique', df.Gender.unique())      #Checking uniqe values in the catigorical column"
   ]
  },
  {
   "cell_type": "code",
   "execution_count": 13,
   "id": "0cb242b2",
   "metadata": {
    "execution": {
     "iopub.execute_input": "2023-02-06T16:28:39.795913Z",
     "iopub.status.busy": "2023-02-06T16:28:39.795548Z",
     "iopub.status.idle": "2023-02-06T16:28:39.816381Z",
     "shell.execute_reply": "2023-02-06T16:28:39.815721Z"
    },
    "papermill": {
     "duration": 0.036535,
     "end_time": "2023-02-06T16:28:39.818131",
     "exception": false,
     "start_time": "2023-02-06T16:28:39.781596",
     "status": "completed"
    },
    "tags": []
   },
   "outputs": [
    {
     "data": {
      "text/html": [
       "<div>\n",
       "<style scoped>\n",
       "    .dataframe tbody tr th:only-of-type {\n",
       "        vertical-align: middle;\n",
       "    }\n",
       "\n",
       "    .dataframe tbody tr th {\n",
       "        vertical-align: top;\n",
       "    }\n",
       "\n",
       "    .dataframe thead th {\n",
       "        text-align: right;\n",
       "    }\n",
       "</style>\n",
       "<table border=\"1\" class=\"dataframe\">\n",
       "  <thead>\n",
       "    <tr style=\"text-align: right;\">\n",
       "      <th></th>\n",
       "      <th>CreditScore</th>\n",
       "      <th>Age</th>\n",
       "      <th>Tenure</th>\n",
       "      <th>Balance</th>\n",
       "      <th>NumOfProducts</th>\n",
       "      <th>HasCrCard</th>\n",
       "      <th>IsActiveMember</th>\n",
       "      <th>EstimatedSalary</th>\n",
       "      <th>Exited</th>\n",
       "      <th>Geography_Germany</th>\n",
       "      <th>Geography_Spain</th>\n",
       "      <th>Gender_Male</th>\n",
       "    </tr>\n",
       "  </thead>\n",
       "  <tbody>\n",
       "    <tr>\n",
       "      <th>0</th>\n",
       "      <td>619</td>\n",
       "      <td>42</td>\n",
       "      <td>2</td>\n",
       "      <td>0.00</td>\n",
       "      <td>1</td>\n",
       "      <td>1</td>\n",
       "      <td>1</td>\n",
       "      <td>101348.88</td>\n",
       "      <td>1</td>\n",
       "      <td>0</td>\n",
       "      <td>0</td>\n",
       "      <td>0</td>\n",
       "    </tr>\n",
       "    <tr>\n",
       "      <th>1</th>\n",
       "      <td>608</td>\n",
       "      <td>41</td>\n",
       "      <td>1</td>\n",
       "      <td>83807.86</td>\n",
       "      <td>1</td>\n",
       "      <td>0</td>\n",
       "      <td>1</td>\n",
       "      <td>112542.58</td>\n",
       "      <td>0</td>\n",
       "      <td>0</td>\n",
       "      <td>1</td>\n",
       "      <td>0</td>\n",
       "    </tr>\n",
       "    <tr>\n",
       "      <th>2</th>\n",
       "      <td>502</td>\n",
       "      <td>42</td>\n",
       "      <td>8</td>\n",
       "      <td>159660.80</td>\n",
       "      <td>3</td>\n",
       "      <td>1</td>\n",
       "      <td>0</td>\n",
       "      <td>113931.57</td>\n",
       "      <td>1</td>\n",
       "      <td>0</td>\n",
       "      <td>0</td>\n",
       "      <td>0</td>\n",
       "    </tr>\n",
       "    <tr>\n",
       "      <th>3</th>\n",
       "      <td>699</td>\n",
       "      <td>39</td>\n",
       "      <td>1</td>\n",
       "      <td>0.00</td>\n",
       "      <td>2</td>\n",
       "      <td>0</td>\n",
       "      <td>0</td>\n",
       "      <td>93826.63</td>\n",
       "      <td>0</td>\n",
       "      <td>0</td>\n",
       "      <td>0</td>\n",
       "      <td>0</td>\n",
       "    </tr>\n",
       "    <tr>\n",
       "      <th>4</th>\n",
       "      <td>850</td>\n",
       "      <td>43</td>\n",
       "      <td>2</td>\n",
       "      <td>125510.82</td>\n",
       "      <td>1</td>\n",
       "      <td>1</td>\n",
       "      <td>1</td>\n",
       "      <td>79084.10</td>\n",
       "      <td>0</td>\n",
       "      <td>0</td>\n",
       "      <td>1</td>\n",
       "      <td>0</td>\n",
       "    </tr>\n",
       "  </tbody>\n",
       "</table>\n",
       "</div>"
      ],
      "text/plain": [
       "   CreditScore  Age  Tenure    Balance  NumOfProducts  HasCrCard  \\\n",
       "0          619   42       2       0.00              1          1   \n",
       "1          608   41       1   83807.86              1          0   \n",
       "2          502   42       8  159660.80              3          1   \n",
       "3          699   39       1       0.00              2          0   \n",
       "4          850   43       2  125510.82              1          1   \n",
       "\n",
       "   IsActiveMember  EstimatedSalary  Exited  Geography_Germany  \\\n",
       "0               1        101348.88       1                  0   \n",
       "1               1        112542.58       0                  0   \n",
       "2               0        113931.57       1                  0   \n",
       "3               0         93826.63       0                  0   \n",
       "4               1         79084.10       0                  0   \n",
       "\n",
       "   Geography_Spain  Gender_Male  \n",
       "0                0            0  \n",
       "1                1            0  \n",
       "2                0            0  \n",
       "3                0            0  \n",
       "4                1            0  "
      ]
     },
     "execution_count": 13,
     "metadata": {},
     "output_type": "execute_result"
    }
   ],
   "source": [
    "df = pd.get_dummies(data=df, drop_first=True) # One Hot Encoding \n",
    "df.head()"
   ]
  },
  {
   "cell_type": "code",
   "execution_count": 14,
   "id": "b2f278bc",
   "metadata": {
    "execution": {
     "iopub.execute_input": "2023-02-06T16:28:39.845405Z",
     "iopub.status.busy": "2023-02-06T16:28:39.844214Z",
     "iopub.status.idle": "2023-02-06T16:28:40.014332Z",
     "shell.execute_reply": "2023-02-06T16:28:40.013202Z"
    },
    "papermill": {
     "duration": 0.185372,
     "end_time": "2023-02-06T16:28:40.016176",
     "exception": false,
     "start_time": "2023-02-06T16:28:39.830804",
     "status": "completed"
    },
    "tags": []
   },
   "outputs": [
    {
     "data": {
      "image/png": "[encoded data removed]",
      "text/plain": [
       "<Figure size 576x432 with 1 Axes>"
      ]
     },
     "metadata": {
      "needs_background": "light"
     },
     "output_type": "display_data"
    },
    {
     "name": "stdout",
     "output_type": "stream",
     "text": [
      "Total Values: 10000\n"
     ]
    }
   ],
   "source": [
    "#Plotting a Countplot to Explore the Label column\n",
    "plt.figure(figsize=(8, 6))\n",
    "sns.countplot(df['Exited'], palette='bright', edgecolor='black') \n",
    "\n",
    "# Adding a title and labels to the plot\n",
    "plt.title('Frequency of Exited', fontsize=16)\n",
    "plt.xlabel('Exited', fontsize=12)\n",
    "plt.ylabel('Count', fontsize=12)\n",
    "\n",
    "# Adding annotations to the bars\n",
    "for i in range(len(df['Exited'].value_counts())):\n",
    "    count = df['Exited'].value_counts()[i]\n",
    "    label = count\n",
    "    plt.annotate(label, (i, count), ha='center', va='bottom', fontsize=12)\n",
    "    \n",
    "\n",
    "plt.show()\n",
    "\n",
    "#Getting the total values\n",
    "print(f'Total Values:',  df.Exited.count()) "
   ]
  },
  {
   "cell_type": "markdown",
   "id": "6494259b",
   "metadata": {
    "execution": {
     "iopub.execute_input": "2023-02-06T12:36:16.284710Z",
     "iopub.status.busy": "2023-02-06T12:36:16.284263Z",
     "iopub.status.idle": "2023-02-06T12:36:16.289675Z",
     "shell.execute_reply": "2023-02-06T12:36:16.288850Z",
     "shell.execute_reply.started": "2023-02-06T12:36:16.284674Z"
    },
    "papermill": {
     "duration": 0.013083,
     "end_time": "2023-02-06T16:28:40.042154",
     "exception": false,
     "start_time": "2023-02-06T16:28:40.029071",
     "status": "completed"
    },
    "tags": []
   },
   "source": [
    "## Corolation"
   ]
  },
  {
   "cell_type": "code",
   "execution_count": 15,
   "id": "2127491a",
   "metadata": {
    "execution": {
     "iopub.execute_input": "2023-02-06T16:28:40.069334Z",
     "iopub.status.busy": "2023-02-06T16:28:40.068588Z",
     "iopub.status.idle": "2023-02-06T16:28:40.082468Z",
     "shell.execute_reply": "2023-02-06T16:28:40.081629Z"
    },
    "papermill": {
     "duration": 0.029508,
     "end_time": "2023-02-06T16:28:40.084214",
     "exception": false,
     "start_time": "2023-02-06T16:28:40.054706",
     "status": "completed"
    },
    "tags": []
   },
   "outputs": [
    {
     "data": {
      "text/html": [
       "<div>\n",
       "<style scoped>\n",
       "    .dataframe tbody tr th:only-of-type {\n",
       "        vertical-align: middle;\n",
       "    }\n",
       "\n",
       "    .dataframe tbody tr th {\n",
       "        vertical-align: top;\n",
       "    }\n",
       "\n",
       "    .dataframe thead th {\n",
       "        text-align: right;\n",
       "    }\n",
       "</style>\n",
       "<table border=\"1\" class=\"dataframe\">\n",
       "  <thead>\n",
       "    <tr style=\"text-align: right;\">\n",
       "      <th></th>\n",
       "      <th>CreditScore</th>\n",
       "      <th>Age</th>\n",
       "      <th>Tenure</th>\n",
       "      <th>Balance</th>\n",
       "      <th>NumOfProducts</th>\n",
       "      <th>HasCrCard</th>\n",
       "      <th>IsActiveMember</th>\n",
       "      <th>EstimatedSalary</th>\n",
       "      <th>Geography_Germany</th>\n",
       "      <th>Geography_Spain</th>\n",
       "      <th>Gender_Male</th>\n",
       "    </tr>\n",
       "  </thead>\n",
       "  <tbody>\n",
       "    <tr>\n",
       "      <th>0</th>\n",
       "      <td>619</td>\n",
       "      <td>42</td>\n",
       "      <td>2</td>\n",
       "      <td>0.00</td>\n",
       "      <td>1</td>\n",
       "      <td>1</td>\n",
       "      <td>1</td>\n",
       "      <td>101348.88</td>\n",
       "      <td>0</td>\n",
       "      <td>0</td>\n",
       "      <td>0</td>\n",
       "    </tr>\n",
       "    <tr>\n",
       "      <th>1</th>\n",
       "      <td>608</td>\n",
       "      <td>41</td>\n",
       "      <td>1</td>\n",
       "      <td>83807.86</td>\n",
       "      <td>1</td>\n",
       "      <td>0</td>\n",
       "      <td>1</td>\n",
       "      <td>112542.58</td>\n",
       "      <td>0</td>\n",
       "      <td>1</td>\n",
       "      <td>0</td>\n",
       "    </tr>\n",
       "    <tr>\n",
       "      <th>2</th>\n",
       "      <td>502</td>\n",
       "      <td>42</td>\n",
       "      <td>8</td>\n",
       "      <td>159660.80</td>\n",
       "      <td>3</td>\n",
       "      <td>1</td>\n",
       "      <td>0</td>\n",
       "      <td>113931.57</td>\n",
       "      <td>0</td>\n",
       "      <td>0</td>\n",
       "      <td>0</td>\n",
       "    </tr>\n",
       "    <tr>\n",
       "      <th>3</th>\n",
       "      <td>699</td>\n",
       "      <td>39</td>\n",
       "      <td>1</td>\n",
       "      <td>0.00</td>\n",
       "      <td>2</td>\n",
       "      <td>0</td>\n",
       "      <td>0</td>\n",
       "      <td>93826.63</td>\n",
       "      <td>0</td>\n",
       "      <td>0</td>\n",
       "      <td>0</td>\n",
       "    </tr>\n",
       "    <tr>\n",
       "      <th>4</th>\n",
       "      <td>850</td>\n",
       "      <td>43</td>\n",
       "      <td>2</td>\n",
       "      <td>125510.82</td>\n",
       "      <td>1</td>\n",
       "      <td>1</td>\n",
       "      <td>1</td>\n",
       "      <td>79084.10</td>\n",
       "      <td>0</td>\n",
       "      <td>1</td>\n",
       "      <td>0</td>\n",
       "    </tr>\n",
       "  </tbody>\n",
       "</table>\n",
       "</div>"
      ],
      "text/plain": [
       "   CreditScore  Age  Tenure    Balance  NumOfProducts  HasCrCard  \\\n",
       "0          619   42       2       0.00              1          1   \n",
       "1          608   41       1   83807.86              1          0   \n",
       "2          502   42       8  159660.80              3          1   \n",
       "3          699   39       1       0.00              2          0   \n",
       "4          850   43       2  125510.82              1          1   \n",
       "\n",
       "   IsActiveMember  EstimatedSalary  Geography_Germany  Geography_Spain  \\\n",
       "0               1        101348.88                  0                0   \n",
       "1               1        112542.58                  0                1   \n",
       "2               0        113931.57                  0                0   \n",
       "3               0         93826.63                  0                0   \n",
       "4               1         79084.10                  0                1   \n",
       "\n",
       "   Gender_Male  \n",
       "0            0  \n",
       "1            0  \n",
       "2            0  \n",
       "3            0  \n",
       "4            0  "
      ]
     },
     "execution_count": 15,
     "metadata": {},
     "output_type": "execute_result"
    }
   ],
   "source": [
    "#Creating a new variable witout he label column 'Exited'\n",
    "df2 = df.drop(columns='Exited') #and droping a unwanted column\n",
    "df2.head()  #Checking the dataset if the label columns is droped in the new varibale"
   ]
  },
  {
   "cell_type": "code",
   "execution_count": 16,
   "id": "2c8b37b9",
   "metadata": {
    "execution": {
     "iopub.execute_input": "2023-02-06T16:28:40.111237Z",
     "iopub.status.busy": "2023-02-06T16:28:40.110722Z",
     "iopub.status.idle": "2023-02-06T16:28:40.360014Z",
     "shell.execute_reply": "2023-02-06T16:28:40.359103Z"
    },
    "papermill": {
     "duration": 0.265227,
     "end_time": "2023-02-06T16:28:40.362340",
     "exception": false,
     "start_time": "2023-02-06T16:28:40.097113",
     "status": "completed"
    },
    "tags": []
   },
   "outputs": [
    {
     "data": {
      "image/png": "[encoded data removed]",
      "text/plain": [
       "<Figure size 1368x720 with 1 Axes>"
      ]
     },
     "metadata": {
      "needs_background": "light"
     },
     "output_type": "display_data"
    }
   ],
   "source": [
    "# Computing the correlation between the features and the label column\n",
    "corrw = df2.corrwith(df['Exited'])\n",
    "\n",
    "# Plotting the bar chart using matplotlib\n",
    "plt.figure(figsize=(19, 10))\n",
    "plt.bar(corrw.index, corrw.values, color='blue', edgecolor='black')\n",
    "\n",
    "# Adding title, labels, and grid to the plot\n",
    "plt.title('Features Correlation with the Label Column \"Exited\"', fontsize=16)\n",
    "plt.xlabel('Features', fontsize=12)\n",
    "plt.ylabel('Correlation', fontsize=12)\n",
    "plt.xticks(rotation=45)\n",
    "plt.grid(True)\n",
    "\n",
    "# Adding annotations to the bars\n",
    "for i, value in enumerate(corrw.values):\n",
    "    label = f\"{value:.2f}\"\n",
    "    plt.annotate(label, (i, value), ha='center', va='bottom', fontsize=12)\n",
    "\n",
    "# Displaying the plot\n",
    "plt.show()"
   ]
  },
  {
   "cell_type": "code",
   "execution_count": 17,
   "id": "8ffba1d1",
   "metadata": {
    "execution": {
     "iopub.execute_input": "2023-02-06T16:28:40.393309Z",
     "iopub.status.busy": "2023-02-06T16:28:40.392993Z",
     "iopub.status.idle": "2023-02-06T16:28:41.076273Z",
     "shell.execute_reply": "2023-02-06T16:28:41.075616Z"
    },
    "papermill": {
     "duration": 0.699343,
     "end_time": "2023-02-06T16:28:41.078152",
     "exception": false,
     "start_time": "2023-02-06T16:28:40.378809",
     "status": "completed"
    },
    "tags": []
   },
   "outputs": [
    {
     "data": {
      "text/plain": [
       "Text(507.2937500000003, 0.5, 'Features')"
      ]
     },
     "execution_count": 17,
     "metadata": {},
     "output_type": "execute_result"
    },
    {
     "data": {
      "image/png": "[encoded data removed]",
      "text/plain": [
       "<Figure size 1440x720 with 2 Axes>"
      ]
     },
     "metadata": {
      "needs_background": "light"
     },
     "output_type": "display_data"
    }
   ],
   "source": [
    "# Plotting a Heatmap to see in depth corrolation \n",
    "corr = df.corr()  #Defining a corrolation variavle (Corrolation Matrix)\n",
    "plt.figure(figsize=(20,10))   \n",
    "sns.heatmap(corr, annot=True, cmap='coolwarm', cbar=True, fmt='.2f', square=True)\n",
    "\n",
    "# Adding title and labels to the plot\n",
    "plt.title('Features Correlation Matrix', fontsize=16)\n",
    "plt.xlabel('Features', fontsize=12)\n",
    "plt.ylabel('Features', fontsize=12)"
   ]
  },
  {
   "cell_type": "markdown",
   "id": "5237036e",
   "metadata": {
    "execution": {
     "iopub.execute_input": "2023-02-06T12:45:40.007061Z",
     "iopub.status.busy": "2023-02-06T12:45:40.006634Z",
     "iopub.status.idle": "2023-02-06T12:45:40.012221Z",
     "shell.execute_reply": "2023-02-06T12:45:40.011145Z",
     "shell.execute_reply.started": "2023-02-06T12:45:40.007027Z"
    },
    "papermill": {
     "duration": 0.014358,
     "end_time": "2023-02-06T16:28:41.107103",
     "exception": false,
     "start_time": "2023-02-06T16:28:41.092745",
     "status": "completed"
    },
    "tags": []
   },
   "source": [
    "## Splitting the dataset "
   ]
  },
  {
   "cell_type": "code",
   "execution_count": 18,
   "id": "50ed91a1",
   "metadata": {
    "execution": {
     "iopub.execute_input": "2023-02-06T16:28:41.137546Z",
     "iopub.status.busy": "2023-02-06T16:28:41.136784Z",
     "iopub.status.idle": "2023-02-06T16:28:41.141366Z",
     "shell.execute_reply": "2023-02-06T16:28:41.140825Z"
    },
    "papermill": {
     "duration": 0.021685,
     "end_time": "2023-02-06T16:28:41.142974",
     "exception": false,
     "start_time": "2023-02-06T16:28:41.121289",
     "status": "completed"
    },
    "tags": []
   },
   "outputs": [],
   "source": [
    "X = df.drop(columns='Exited')  #Droping the 'Exited' columns and giving it to X \n",
    "y = df['Exited']  #Target Feature"
   ]
  },
  {
   "cell_type": "code",
   "execution_count": 19,
   "id": "49490be1",
   "metadata": {
    "execution": {
     "iopub.execute_input": "2023-02-06T16:28:41.174684Z",
     "iopub.status.busy": "2023-02-06T16:28:41.174176Z",
     "iopub.status.idle": "2023-02-06T16:28:41.180192Z",
     "shell.execute_reply": "2023-02-06T16:28:41.179643Z"
    },
    "papermill": {
     "duration": 0.024557,
     "end_time": "2023-02-06T16:28:41.182227",
     "exception": false,
     "start_time": "2023-02-06T16:28:41.157670",
     "status": "completed"
    },
    "tags": []
   },
   "outputs": [],
   "source": [
    "# Slittin into Train & test\n",
    "X_train, X_test, y_train, y_test = train_test_split(X, y, test_size=0.2, random_state=0)"
   ]
  },
  {
   "cell_type": "code",
   "execution_count": 20,
   "id": "172eeca4",
   "metadata": {
    "execution": {
     "iopub.execute_input": "2023-02-06T16:28:41.213482Z",
     "iopub.status.busy": "2023-02-06T16:28:41.213137Z",
     "iopub.status.idle": "2023-02-06T16:28:41.219491Z",
     "shell.execute_reply": "2023-02-06T16:28:41.218103Z"
    },
    "papermill": {
     "duration": 0.023913,
     "end_time": "2023-02-06T16:28:41.221519",
     "exception": false,
     "start_time": "2023-02-06T16:28:41.197606",
     "status": "completed"
    },
    "tags": []
   },
   "outputs": [
    {
     "name": "stdout",
     "output_type": "stream",
     "text": [
      "X_train (8000, 11)\n",
      "y_train (8000,)\n",
      "X_test (2000, 11)\n",
      "y_test (2000,)\n"
     ]
    }
   ],
   "source": [
    "# Checking if the data is splitted properly\n",
    "print(f'X_train',X_train.shape)  #Printing the X_train Features Shape\n",
    "print(f'y_train',y_train.shape)  #Printing the y_train Labels Shape\n",
    "print(f'X_test',X_test.shape)    #Printing the X_test Features Shape\n",
    "print(f'y_test',y_test.shape)    #Printing the y_test Labels  Shape"
   ]
  },
  {
   "cell_type": "code",
   "execution_count": 21,
   "id": "2c1c2085",
   "metadata": {
    "execution": {
     "iopub.execute_input": "2023-02-06T16:28:41.252146Z",
     "iopub.status.busy": "2023-02-06T16:28:41.251757Z",
     "iopub.status.idle": "2023-02-06T16:28:41.261745Z",
     "shell.execute_reply": "2023-02-06T16:28:41.261037Z"
    },
    "papermill": {
     "duration": 0.027357,
     "end_time": "2023-02-06T16:28:41.263557",
     "exception": false,
     "start_time": "2023-02-06T16:28:41.236200",
     "status": "completed"
    },
    "tags": []
   },
   "outputs": [],
   "source": [
    "# Normalizing the data \n",
    "ss = StandardScaler()\n",
    "X_train = ss.fit_transform(X_train)\n",
    "X_test = ss.transform(X_test)"
   ]
  },
  {
   "cell_type": "markdown",
   "id": "f87adfb6",
   "metadata": {
    "execution": {
     "iopub.execute_input": "2023-02-06T13:20:01.396740Z",
     "iopub.status.busy": "2023-02-06T13:20:01.396205Z",
     "iopub.status.idle": "2023-02-06T13:20:01.402324Z",
     "shell.execute_reply": "2023-02-06T13:20:01.400961Z",
     "shell.execute_reply.started": "2023-02-06T13:20:01.396691Z"
    },
    "papermill": {
     "duration": 0.01391,
     "end_time": "2023-02-06T16:28:41.291894",
     "exception": false,
     "start_time": "2023-02-06T16:28:41.277984",
     "status": "completed"
    },
    "tags": []
   },
   "source": [
    "# Building Model "
   ]
  },
  {
   "cell_type": "markdown",
   "id": "29b45e77",
   "metadata": {
    "execution": {
     "iopub.execute_input": "2023-02-06T13:21:04.263032Z",
     "iopub.status.busy": "2023-02-06T13:21:04.262565Z",
     "iopub.status.idle": "2023-02-06T13:21:04.267891Z",
     "shell.execute_reply": "2023-02-06T13:21:04.266804Z",
     "shell.execute_reply.started": "2023-02-06T13:21:04.262983Z"
    },
    "papermill": {
     "duration": 0.01418,
     "end_time": "2023-02-06T16:28:41.320261",
     "exception": false,
     "start_time": "2023-02-06T16:28:41.306081",
     "status": "completed"
    },
    "tags": []
   },
   "source": [
    "# Logistic Regression"
   ]
  },
  {
   "cell_type": "code",
   "execution_count": 22,
   "id": "f75f6b83",
   "metadata": {
    "execution": {
     "iopub.execute_input": "2023-02-06T16:28:41.352081Z",
     "iopub.status.busy": "2023-02-06T16:28:41.351706Z",
     "iopub.status.idle": "2023-02-06T16:28:41.388499Z",
     "shell.execute_reply": "2023-02-06T16:28:41.387667Z"
    },
    "papermill": {
     "duration": 0.054761,
     "end_time": "2023-02-06T16:28:41.390497",
     "exception": false,
     "start_time": "2023-02-06T16:28:41.335736",
     "status": "completed"
    },
    "tags": []
   },
   "outputs": [
    {
     "data": {
      "text/html": [
       "<div>\n",
       "<style scoped>\n",
       "    .dataframe tbody tr th:only-of-type {\n",
       "        vertical-align: middle;\n",
       "    }\n",
       "\n",
       "    .dataframe tbody tr th {\n",
       "        vertical-align: top;\n",
       "    }\n",
       "\n",
       "    .dataframe thead th {\n",
       "        text-align: right;\n",
       "    }\n",
       "</style>\n",
       "<table border=\"1\" class=\"dataframe\">\n",
       "  <thead>\n",
       "    <tr style=\"text-align: right;\">\n",
       "      <th></th>\n",
       "      <th>Model</th>\n",
       "      <th>Accuracy_Score</th>\n",
       "      <th>F1_Score</th>\n",
       "      <th>Recall_Score</th>\n",
       "      <th>Precision_Score</th>\n",
       "    </tr>\n",
       "  </thead>\n",
       "  <tbody>\n",
       "    <tr>\n",
       "      <th>0</th>\n",
       "      <td>Logistic Regression</td>\n",
       "      <td>0.811</td>\n",
       "      <td>0.336842</td>\n",
       "      <td>0.237037</td>\n",
       "      <td>0.581818</td>\n",
       "    </tr>\n",
       "  </tbody>\n",
       "</table>\n",
       "</div>"
      ],
      "text/plain": [
       "                 Model  Accuracy_Score  F1_Score  Recall_Score  \\\n",
       "0  Logistic Regression           0.811  0.336842      0.237037   \n",
       "\n",
       "   Precision_Score  \n",
       "0         0.581818  "
      ]
     },
     "execution_count": 22,
     "metadata": {},
     "output_type": "execute_result"
    }
   ],
   "source": [
    "# Model Building\n",
    "clf_lr = LogisticRegression(random_state=0) #Creating the Logistic Regression Model\n",
    "clf_lr.fit(X_train, y_train)                #Training the Model with X_train & y_train\n",
    "pred = clf_lr.predict(X_test)                #Predicting the X_test \n",
    "\n",
    "#Testing the model accuracy with different paramtes\n",
    "acc  = accuracy_score(y_test, pred)   # Getting the Accuracy Score \n",
    "f1   = f1_score(y_test, pred)         # Getting the f1 Score \n",
    "rec  = recall_score(y_test, pred)     # Getting the recall Score \n",
    "prec = precision_score(y_test, pred)  # Getting the Precision Score \n",
    "cm   = confusion_matrix(y_test, pred) # Getting the confusion Matrix \n",
    "\n",
    "#Defining a DataFrame \n",
    "results = pd.DataFrame([['Logistic Regression', acc, f1, rec, prec]],\n",
    "                      columns=['Model', 'Accuracy_Score', 'F1_Score', 'Recall_Score', 'Precision_Score'])\n",
    "\n",
    "#Printing the Model Results with different Metrics\n",
    "results"
   ]
  },
  {
   "cell_type": "code",
   "execution_count": 23,
   "id": "99820131",
   "metadata": {
    "execution": {
     "iopub.execute_input": "2023-02-06T16:28:41.429868Z",
     "iopub.status.busy": "2023-02-06T16:28:41.429547Z",
     "iopub.status.idle": "2023-02-06T16:28:41.614988Z",
     "shell.execute_reply": "2023-02-06T16:28:41.614277Z"
    },
    "papermill": {
     "duration": 0.207203,
     "end_time": "2023-02-06T16:28:41.616883",
     "exception": false,
     "start_time": "2023-02-06T16:28:41.409680",
     "status": "completed"
    },
    "tags": []
   },
   "outputs": [
    {
     "data": {
      "image/png": "[encoded data removed]",
      "text/plain": [
       "<Figure size 432x288 with 2 Axes>"
      ]
     },
     "metadata": {
      "needs_background": "light"
     },
     "output_type": "display_data"
    }
   ],
   "source": [
    "#Printing Confusion Matrix\n",
    "class_names = ['Positive', 'Negative']\n",
    "cm = confusion_matrix(y_test, pred)\n",
    "\n",
    "fig, ax = plt.subplots()\n",
    "im = ax.imshow(cm, interpolation='nearest', cmap=plt.cm.Blues)\n",
    "ax.figure.colorbar(im, ax=ax)\n",
    "ax.set(xticks=np.arange(cm.shape[1]),\n",
    "       yticks=np.arange(cm.shape[0]),\n",
    "       xticklabels=class_names, yticklabels=class_names,\n",
    "       title='Confusion Matrix',\n",
    "       ylabel='True label',\n",
    "       xlabel='Predicted label')\n",
    "\n",
    "# Loop over data dimensions and create text annotations.\n",
    "thresh = cm.max() / 2.\n",
    "for i in range(cm.shape[0]):\n",
    "    for j in range(cm.shape[1]):\n",
    "        ax.text(j, i, format(cm[i, j]),\n",
    "                ha=\"center\", va=\"center\",\n",
    "                color=\"white\" if cm[i, j] > thresh else \"black\")\n",
    "fig.tight_layout()\n",
    "plt.show()"
   ]
  },
  {
   "cell_type": "code",
   "execution_count": 24,
   "id": "33c83055",
   "metadata": {
    "execution": {
     "iopub.execute_input": "2023-02-06T16:28:41.650647Z",
     "iopub.status.busy": "2023-02-06T16:28:41.650275Z",
     "iopub.status.idle": "2023-02-06T16:28:41.742548Z",
     "shell.execute_reply": "2023-02-06T16:28:41.741676Z"
    },
    "papermill": {
     "duration": 0.110301,
     "end_time": "2023-02-06T16:28:41.744554",
     "exception": false,
     "start_time": "2023-02-06T16:28:41.634253",
     "status": "completed"
    },
    "tags": []
   },
   "outputs": [
    {
     "name": "stdout",
     "output_type": "stream",
     "text": [
      "Accuracy is: 80.8375\n",
      "Standard Deviation is: 0.8786530885395\n"
     ]
    }
   ],
   "source": [
    "# Cross Validation\n",
    "accuracies = cross_val_score(estimator=clf_lr, X=X_train, y=y_train, cv=10) \n",
    "print(f'Accuracy is:', format(accuracies.mean()*100))  #Printing the Mean of the accuracies\n",
    "print(f'Standard Deviation is:',format(accuracies.std()*100)) #Printing the Standard Deviation of accuracies"
   ]
  },
  {
   "cell_type": "markdown",
   "id": "11067c10",
   "metadata": {
    "execution": {
     "iopub.execute_input": "2023-02-06T13:28:25.149107Z",
     "iopub.status.busy": "2023-02-06T13:28:25.148685Z",
     "iopub.status.idle": "2023-02-06T13:28:25.154144Z",
     "shell.execute_reply": "2023-02-06T13:28:25.153116Z",
     "shell.execute_reply.started": "2023-02-06T13:28:25.149073Z"
    },
    "papermill": {
     "duration": 0.019147,
     "end_time": "2023-02-06T16:28:41.783613",
     "exception": false,
     "start_time": "2023-02-06T16:28:41.764466",
     "status": "completed"
    },
    "tags": []
   },
   "source": [
    "# Random Forest"
   ]
  },
  {
   "cell_type": "code",
   "execution_count": 25,
   "id": "41064550",
   "metadata": {
    "execution": {
     "iopub.execute_input": "2023-02-06T16:28:41.825475Z",
     "iopub.status.busy": "2023-02-06T16:28:41.825084Z",
     "iopub.status.idle": "2023-02-06T16:28:42.910620Z",
     "shell.execute_reply": "2023-02-06T16:28:42.909803Z"
    },
    "papermill": {
     "duration": 1.109113,
     "end_time": "2023-02-06T16:28:42.912376",
     "exception": false,
     "start_time": "2023-02-06T16:28:41.803263",
     "status": "completed"
    },
    "tags": []
   },
   "outputs": [
    {
     "data": {
      "text/html": [
       "<div>\n",
       "<style scoped>\n",
       "    .dataframe tbody tr th:only-of-type {\n",
       "        vertical-align: middle;\n",
       "    }\n",
       "\n",
       "    .dataframe tbody tr th {\n",
       "        vertical-align: top;\n",
       "    }\n",
       "\n",
       "    .dataframe thead th {\n",
       "        text-align: right;\n",
       "    }\n",
       "</style>\n",
       "<table border=\"1\" class=\"dataframe\">\n",
       "  <thead>\n",
       "    <tr style=\"text-align: right;\">\n",
       "      <th></th>\n",
       "      <th>Model</th>\n",
       "      <th>Accuracy_Score</th>\n",
       "      <th>F1_Score</th>\n",
       "      <th>Recall_Score</th>\n",
       "      <th>Precision_Score</th>\n",
       "    </tr>\n",
       "  </thead>\n",
       "  <tbody>\n",
       "    <tr>\n",
       "      <th>0</th>\n",
       "      <td>Logistic Regression</td>\n",
       "      <td>0.811</td>\n",
       "      <td>0.336842</td>\n",
       "      <td>0.237037</td>\n",
       "      <td>0.581818</td>\n",
       "    </tr>\n",
       "    <tr>\n",
       "      <th>1</th>\n",
       "      <td>Random Forest Classifier</td>\n",
       "      <td>0.867</td>\n",
       "      <td>0.613372</td>\n",
       "      <td>0.520988</td>\n",
       "      <td>0.745583</td>\n",
       "    </tr>\n",
       "  </tbody>\n",
       "</table>\n",
       "</div>"
      ],
      "text/plain": [
       "                      Model  Accuracy_Score  F1_Score  Recall_Score  \\\n",
       "0       Logistic Regression           0.811  0.336842      0.237037   \n",
       "1  Random Forest Classifier           0.867  0.613372      0.520988   \n",
       "\n",
       "   Precision_Score  \n",
       "0         0.581818  \n",
       "1         0.745583  "
      ]
     },
     "execution_count": 25,
     "metadata": {},
     "output_type": "execute_result"
    }
   ],
   "source": [
    "#Building the model \n",
    "clf_rf = RandomForestClassifier(random_state=0)#Creating the Random Forest Classifier Model\n",
    "clf_rf.fit(X_train, y_train)                   #Training the Model with X_train & y_train\n",
    "pred = clf_rf.predict(X_test)                  #Predicting the X_test \n",
    "\n",
    "#Testing the model accuracy with different paramtes\n",
    "acc  = accuracy_score(y_test, pred)   # Getting the Accuracy Score \n",
    "f1   = f1_score(y_test, pred)         # Getting the f1 Score \n",
    "rec  = recall_score(y_test, pred)     # Getting the recall Score \n",
    "prec = precision_score(y_test, pred)  # Getting the Precision Score \n",
    "cm   = confusion_matrix(y_test, pred) # Getting the confusion Matrix \n",
    "\n",
    "#Defining a DataFrame \n",
    "rf_results = pd.DataFrame([['Random Forest Classifier', acc, f1, rec, prec]],\n",
    "                      columns=['Model', 'Accuracy_Score', 'F1_Score', 'Recall_Score', 'Precision_Score'])\n",
    "results = results.append(rf_results, ignore_index=True)\n",
    "\n",
    "\n",
    "#Printing the Model Results with different Metrics\n",
    "results"
   ]
  },
  {
   "cell_type": "code",
   "execution_count": 26,
   "id": "be5e70dd",
   "metadata": {
    "execution": {
     "iopub.execute_input": "2023-02-06T16:28:42.945203Z",
     "iopub.status.busy": "2023-02-06T16:28:42.944336Z",
     "iopub.status.idle": "2023-02-06T16:28:43.128887Z",
     "shell.execute_reply": "2023-02-06T16:28:43.127890Z"
    },
    "papermill": {
     "duration": 0.203471,
     "end_time": "2023-02-06T16:28:43.130960",
     "exception": false,
     "start_time": "2023-02-06T16:28:42.927489",
     "status": "completed"
    },
    "tags": []
   },
   "outputs": [
    {
     "data": {
      "image/png": "[encoded data removed]",
      "text/plain": [
       "<Figure size 432x288 with 2 Axes>"
      ]
     },
     "metadata": {
      "needs_background": "light"
     },
     "output_type": "display_data"
    }
   ],
   "source": [
    "#Printing Confusion Matrix\n",
    "class_names = ['Positive', 'Negative']\n",
    "cm = confusion_matrix(y_test, pred)\n",
    "\n",
    "fig, ax = plt.subplots()\n",
    "im = ax.imshow(cm, interpolation='nearest', cmap=plt.cm.Blues)\n",
    "ax.figure.colorbar(im, ax=ax)\n",
    "ax.set(xticks=np.arange(cm.shape[1]),\n",
    "       yticks=np.arange(cm.shape[0]),\n",
    "       xticklabels=class_names, yticklabels=class_names,\n",
    "       title='Confusion Matrix',\n",
    "       ylabel='True label',\n",
    "       xlabel='Predicted label')\n",
    "\n",
    "# Loop over data dimensions and create text annotations.\n",
    "thresh = cm.max() / 2.\n",
    "for i in range(cm.shape[0]):\n",
    "    for j in range(cm.shape[1]):\n",
    "        ax.text(j, i, format(cm[i, j]),\n",
    "                ha=\"center\", va=\"center\",\n",
    "                color=\"white\" if cm[i, j] > thresh else \"black\")\n",
    "fig.tight_layout()\n",
    "plt.show()"
   ]
  },
  {
   "cell_type": "code",
   "execution_count": 27,
   "id": "458105b6",
   "metadata": {
    "execution": {
     "iopub.execute_input": "2023-02-06T16:28:43.162972Z",
     "iopub.status.busy": "2023-02-06T16:28:43.162479Z",
     "iopub.status.idle": "2023-02-06T16:28:52.346270Z",
     "shell.execute_reply": "2023-02-06T16:28:52.345408Z"
    },
    "papermill": {
     "duration": 9.202108,
     "end_time": "2023-02-06T16:28:52.348427",
     "exception": false,
     "start_time": "2023-02-06T16:28:43.146319",
     "status": "completed"
    },
    "tags": []
   },
   "outputs": [
    {
     "name": "stdout",
     "output_type": "stream",
     "text": [
      "Accuracy is: 85.9625\n",
      "Standard Deviation is: 1.0186541365939672\n"
     ]
    }
   ],
   "source": [
    "# Cross Validation\n",
    "accuracies = cross_val_score(estimator=clf_rf, X=X_train, y=y_train, cv=10) \n",
    "print(f'Accuracy is:', format(accuracies.mean()*100))  #Printing the Mean of the accuracies\n",
    "print(f'Standard Deviation is:',format(accuracies.std()*100)) #Printing the Standard Deviation of accuracies"
   ]
  },
  {
   "cell_type": "markdown",
   "id": "7882579d",
   "metadata": {
    "execution": {
     "iopub.execute_input": "2023-02-06T13:31:50.162207Z",
     "iopub.status.busy": "2023-02-06T13:31:50.161801Z",
     "iopub.status.idle": "2023-02-06T13:31:50.167332Z",
     "shell.execute_reply": "2023-02-06T13:31:50.166146Z",
     "shell.execute_reply.started": "2023-02-06T13:31:50.162176Z"
    },
    "papermill": {
     "duration": 0.015105,
     "end_time": "2023-02-06T16:28:52.379728",
     "exception": false,
     "start_time": "2023-02-06T16:28:52.364623",
     "status": "completed"
    },
    "tags": []
   },
   "source": [
    "# GXboost"
   ]
  },
  {
   "cell_type": "code",
   "execution_count": 28,
   "id": "5d4505c6",
   "metadata": {
    "execution": {
     "iopub.execute_input": "2023-02-06T16:28:52.412537Z",
     "iopub.status.busy": "2023-02-06T16:28:52.411895Z",
     "iopub.status.idle": "2023-02-06T16:28:53.105510Z",
     "shell.execute_reply": "2023-02-06T16:28:53.104570Z"
    },
    "papermill": {
     "duration": 0.711915,
     "end_time": "2023-02-06T16:28:53.107229",
     "exception": false,
     "start_time": "2023-02-06T16:28:52.395314",
     "status": "completed"
    },
    "tags": []
   },
   "outputs": [
    {
     "data": {
      "text/html": [
       "<div>\n",
       "<style scoped>\n",
       "    .dataframe tbody tr th:only-of-type {\n",
       "        vertical-align: middle;\n",
       "    }\n",
       "\n",
       "    .dataframe tbody tr th {\n",
       "        vertical-align: top;\n",
       "    }\n",
       "\n",
       "    .dataframe thead th {\n",
       "        text-align: right;\n",
       "    }\n",
       "</style>\n",
       "<table border=\"1\" class=\"dataframe\">\n",
       "  <thead>\n",
       "    <tr style=\"text-align: right;\">\n",
       "      <th></th>\n",
       "      <th>Model</th>\n",
       "      <th>Accuracy_Score</th>\n",
       "      <th>F1_Score</th>\n",
       "      <th>Recall_Score</th>\n",
       "      <th>Precision_Score</th>\n",
       "    </tr>\n",
       "  </thead>\n",
       "  <tbody>\n",
       "    <tr>\n",
       "      <th>0</th>\n",
       "      <td>Logistic Regression</td>\n",
       "      <td>0.8110</td>\n",
       "      <td>0.336842</td>\n",
       "      <td>0.237037</td>\n",
       "      <td>0.581818</td>\n",
       "    </tr>\n",
       "    <tr>\n",
       "      <th>1</th>\n",
       "      <td>Random Forest Classifier</td>\n",
       "      <td>0.8670</td>\n",
       "      <td>0.613372</td>\n",
       "      <td>0.520988</td>\n",
       "      <td>0.745583</td>\n",
       "    </tr>\n",
       "    <tr>\n",
       "      <th>2</th>\n",
       "      <td>GXboost</td>\n",
       "      <td>0.8545</td>\n",
       "      <td>0.599725</td>\n",
       "      <td>0.538272</td>\n",
       "      <td>0.677019</td>\n",
       "    </tr>\n",
       "  </tbody>\n",
       "</table>\n",
       "</div>"
      ],
      "text/plain": [
       "                      Model  Accuracy_Score  F1_Score  Recall_Score  \\\n",
       "0       Logistic Regression          0.8110  0.336842      0.237037   \n",
       "1  Random Forest Classifier          0.8670  0.613372      0.520988   \n",
       "2                   GXboost          0.8545  0.599725      0.538272   \n",
       "\n",
       "   Precision_Score  \n",
       "0         0.581818  \n",
       "1         0.745583  \n",
       "2         0.677019  "
      ]
     },
     "execution_count": 28,
     "metadata": {},
     "output_type": "execute_result"
    }
   ],
   "source": [
    "#Building the model \n",
    "clf_gx = XGBClassifier()      #Creating the GXboost Model\n",
    "clf_gx.fit(X_train, y_train)  #Training the Model with X_train & y_train\n",
    "pred = clf_gx.predict(X_test) #Predicting the X_test \n",
    "\n",
    "#Testing the model accuracy with different paramtes\n",
    "acc  = accuracy_score(y_test, pred)   # Getting the Accuracy Score \n",
    "f1   = f1_score(y_test, pred)         # Getting the f1 Score \n",
    "rec  = recall_score(y_test, pred)     # Getting the recall Score \n",
    "prec = precision_score(y_test, pred)  # Getting the Precision Score \n",
    "cm   = confusion_matrix(y_test, pred) # Getting the confusion Matrix \n",
    "\n",
    "#Defining a DataFrame \n",
    "rf_results = pd.DataFrame([['GXboost', acc, f1, rec, prec]],\n",
    "                      columns=['Model', 'Accuracy_Score', 'F1_Score', 'Recall_Score', 'Precision_Score'])\n",
    "results = results.append(rf_results, ignore_index=True)\n",
    "\n",
    "\n",
    "#Printing the Model Results with different Metrics\n",
    "results"
   ]
  },
  {
   "cell_type": "code",
   "execution_count": 29,
   "id": "8772e0d6",
   "metadata": {
    "execution": {
     "iopub.execute_input": "2023-02-06T16:28:53.141213Z",
     "iopub.status.busy": "2023-02-06T16:28:53.140625Z",
     "iopub.status.idle": "2023-02-06T16:28:53.313349Z",
     "shell.execute_reply": "2023-02-06T16:28:53.312281Z"
    },
    "papermill": {
     "duration": 0.192724,
     "end_time": "2023-02-06T16:28:53.315494",
     "exception": false,
     "start_time": "2023-02-06T16:28:53.122770",
     "status": "completed"
    },
    "tags": []
   },
   "outputs": [
    {
     "data": {
      "image/png": "[encoded data removed]",
      "text/plain": [
       "<Figure size 432x288 with 2 Axes>"
      ]
     },
     "metadata": {
      "needs_background": "light"
     },
     "output_type": "display_data"
    }
   ],
   "source": [
    "#Printing Confusion Matrix\n",
    "class_names = ['Positive', 'Negative']\n",
    "cm = confusion_matrix(y_test, pred)\n",
    "\n",
    "fig, ax = plt.subplots()\n",
    "im = ax.imshow(cm, interpolation='nearest', cmap=plt.cm.Blues)\n",
    "ax.figure.colorbar(im, ax=ax)\n",
    "ax.set(xticks=np.arange(cm.shape[1]),\n",
    "       yticks=np.arange(cm.shape[0]),\n",
    "       xticklabels=class_names, yticklabels=class_names,\n",
    "       title='Confusion Matrix',\n",
    "       ylabel='True label',\n",
    "       xlabel='Predicted label')\n",
    "\n",
    "# Loop over data dimensions and create text annotations.\n",
    "thresh = cm.max() / 2.\n",
    "for i in range(cm.shape[0]):\n",
    "    for j in range(cm.shape[1]):\n",
    "        ax.text(j, i, format(cm[i, j]),\n",
    "                ha=\"center\", va=\"center\",\n",
    "                color=\"white\" if cm[i, j] > thresh else \"black\")\n",
    "fig.tight_layout()\n",
    "plt.show()"
   ]
  },
  {
   "cell_type": "code",
   "execution_count": 30,
   "id": "e50975da",
   "metadata": {
    "execution": {
     "iopub.execute_input": "2023-02-06T16:28:53.352916Z",
     "iopub.status.busy": "2023-02-06T16:28:53.352463Z",
     "iopub.status.idle": "2023-02-06T16:28:59.490123Z",
     "shell.execute_reply": "2023-02-06T16:28:59.488763Z"
    },
    "papermill": {
     "duration": 6.157378,
     "end_time": "2023-02-06T16:28:59.492697",
     "exception": false,
     "start_time": "2023-02-06T16:28:53.335319",
     "status": "completed"
    },
    "tags": []
   },
   "outputs": [
    {
     "name": "stdout",
     "output_type": "stream",
     "text": [
      "Accuracy is: 85.2375\n",
      "Standard Deviation is: 1.217643728682573\n"
     ]
    }
   ],
   "source": [
    "# Cross Validation\n",
    "accuracies = cross_val_score(estimator=clf_gx, X=X_train, y=y_train, cv=10) \n",
    "print(f'Accuracy is:', format(accuracies.mean()*100))  #Printing the Mean of the accuracies\n",
    "print(f'Standard Deviation is:',format(accuracies.std()*100)) #Printing the Standard Deviation of accuracies"
   ]
  },
  {
   "cell_type": "markdown",
   "id": "f6e67c83",
   "metadata": {
    "execution": {
     "iopub.execute_input": "2023-02-06T13:49:05.456201Z",
     "iopub.status.busy": "2023-02-06T13:49:05.455782Z",
     "iopub.status.idle": "2023-02-06T13:49:05.462072Z",
     "shell.execute_reply": "2023-02-06T13:49:05.460526Z",
     "shell.execute_reply.started": "2023-02-06T13:49:05.456172Z"
    },
    "papermill": {
     "duration": 0.015367,
     "end_time": "2023-02-06T16:28:59.524042",
     "exception": false,
     "start_time": "2023-02-06T16:28:59.508675",
     "status": "completed"
    },
    "tags": []
   },
   "source": [
    "# Random Search to Find the best parameters for Random Forest "
   ]
  },
  {
   "cell_type": "code",
   "execution_count": 31,
   "id": "43fef87c",
   "metadata": {
    "execution": {
     "iopub.execute_input": "2023-02-06T16:28:59.556263Z",
     "iopub.status.busy": "2023-02-06T16:28:59.555965Z",
     "iopub.status.idle": "2023-02-06T16:28:59.562490Z",
     "shell.execute_reply": "2023-02-06T16:28:59.561823Z"
    },
    "papermill": {
     "duration": 0.024492,
     "end_time": "2023-02-06T16:28:59.564091",
     "exception": false,
     "start_time": "2023-02-06T16:28:59.539599",
     "status": "completed"
    },
    "tags": []
   },
   "outputs": [
    {
     "data": {
      "text/plain": [
       "<bound method BaseEstimator.get_params of RandomForestClassifier()>"
      ]
     },
     "execution_count": 31,
     "metadata": {},
     "output_type": "execute_result"
    }
   ],
   "source": [
    "RandomForestClassifier().get_params"
   ]
  },
  {
   "cell_type": "code",
   "execution_count": 32,
   "id": "c1da990b",
   "metadata": {
    "execution": {
     "iopub.execute_input": "2023-02-06T16:28:59.597541Z",
     "iopub.status.busy": "2023-02-06T16:28:59.596633Z",
     "iopub.status.idle": "2023-02-06T16:30:51.697429Z",
     "shell.execute_reply": "2023-02-06T16:30:51.696538Z"
    },
    "papermill": {
     "duration": 112.120222,
     "end_time": "2023-02-06T16:30:51.699847",
     "exception": false,
     "start_time": "2023-02-06T16:28:59.579625",
     "status": "completed"
    },
    "tags": []
   },
   "outputs": [
    {
     "name": "stdout",
     "output_type": "stream",
     "text": [
      "Fitting 5 folds for each of 100 candidates, totalling 500 fits\n",
      "[CV 3/5] END bootstrap=True, criterion=entropy, max_depth=8, max_features=0.5, min_samples_leaf=90, min_samples_split=60, n_estimators=450, oob_score=False, warm_start=False;, score=nan total time=   0.2s\n",
      "[CV 2/5] END bootstrap=True, criterion=gini, max_depth=1, max_features=0.2, min_samples_leaf=0.25, min_samples_split=60, n_estimators=140, oob_score=True, warm_start=False;, score=nan total time=   0.1s\n",
      "[CV 5/5] END bootstrap=True, criterion=gini, max_depth=1, max_features=0.2, min_samples_leaf=0.25, min_samples_split=60, n_estimators=140, oob_score=True, warm_start=False;, score=nan total time=   0.1s\n",
      "[CV 4/5] END bootstrap=False, criterion=log_loss, max_depth=5, max_features=0.2, min_samples_leaf=6, min_samples_split=1, n_estimators=500, oob_score=False, warm_start=True;, score=nan total time=   0.3s\n",
      "[CV 3/5] END bootstrap=True, criterion=entropy, max_depth=18, max_features=0.2, min_samples_leaf=0.5, min_samples_split=8, n_estimators=500, oob_score=False, warm_start=True;, score=nan total time=   0.3s\n",
      "[CV 2/5] END bootstrap=True, criterion=entropy, max_depth=5, max_features=log2, min_samples_leaf=3.5, min_samples_split=10, n_estimators=350, oob_score=True, warm_start=True;, score=nan total time=   0.2s\n",
      "[CV 4/5] END bootstrap=True, criterion=entropy, max_depth=5, max_features=log2, min_samples_leaf=3.5, min_samples_split=10, n_estimators=350, oob_score=True, warm_start=True;, score=nan total time=   0.2s\n",
      "[CV 3/5] END bootstrap=True, criterion=gini, max_depth=14, max_features=0.3, min_samples_leaf=4.5, min_samples_split=80, n_estimators=850, oob_score=False, warm_start=True;, score=nan total time=   0.5s\n",
      "[CV 2/5] END bootstrap=False, criterion=log_loss, max_depth=3, max_features=0.2, min_samples_leaf=80, min_samples_split=0.5, n_estimators=155, oob_score=True, warm_start=False;, score=nan total time=   0.0s\n",
      "[CV 5/5] END bootstrap=False, criterion=log_loss, max_depth=3, max_features=0.2, min_samples_leaf=80, min_samples_split=0.5, n_estimators=155, oob_score=True, warm_start=False;, score=nan total time=   0.0s\n",
      "[CV 1/5] END bootstrap=True, criterion=entropy, max_depth=25, max_features=auto, min_samples_leaf=3, min_samples_split=0.05, n_estimators=800, oob_score=True, warm_start=True;, score=0.859 total time=   7.1s\n",
      "[CV 1/5] END bootstrap=False, criterion=gini, max_depth=17, max_features=0.5, min_samples_leaf=0.25, min_samples_split=60, n_estimators=750, oob_score=True, warm_start=True;, score=nan total time=   0.0s\n",
      "[CV 2/5] END bootstrap=False, criterion=gini, max_depth=17, max_features=0.5, min_samples_leaf=0.25, min_samples_split=60, n_estimators=750, oob_score=True, warm_start=True;, score=nan total time=   0.0s\n",
      "[CV 3/5] END bootstrap=False, criterion=gini, max_depth=17, max_features=0.5, min_samples_leaf=0.25, min_samples_split=60, n_estimators=750, oob_score=True, warm_start=True;, score=nan total time=   0.0s\n",
      "[CV 4/5] END bootstrap=False, criterion=gini, max_depth=17, max_features=0.5, min_samples_leaf=0.25, min_samples_split=60, n_estimators=750, oob_score=True, warm_start=True;, score=nan total time=   0.0s\n",
      "[CV 5/5] END bootstrap=False, criterion=gini, max_depth=17, max_features=0.5, min_samples_leaf=0.25, min_samples_split=60, n_estimators=750, oob_score=True, warm_start=True;, score=nan total time=   0.0s\n",
      "[CV 1/5] END bootstrap=False, criterion=entropy, max_depth=20, max_features=sqrt, min_samples_leaf=0.01, min_samples_split=60, n_estimators=1000, oob_score=True, warm_start=False;, score=nan total time=   0.0s\n",
      "[CV 2/5] END bootstrap=False, criterion=entropy, max_depth=20, max_features=sqrt, min_samples_leaf=0.01, min_samples_split=60, n_estimators=1000, oob_score=True, warm_start=False;, score=nan total time=   0.0s\n",
      "[CV 3/5] END bootstrap=False, criterion=entropy, max_depth=20, max_features=sqrt, min_samples_leaf=0.01, min_samples_split=60, n_estimators=1000, oob_score=True, warm_start=False;, score=nan total time=   0.0s\n",
      "[CV 4/5] END bootstrap=False, criterion=entropy, max_depth=20, max_features=sqrt, min_samples_leaf=0.01, min_samples_split=60, n_estimators=1000, oob_score=True, warm_start=False;, score=nan total time=   0.0s\n",
      "[CV 5/5] END bootstrap=False, criterion=entropy, max_depth=20, max_features=sqrt, min_samples_leaf=0.01, min_samples_split=60, n_estimators=1000, oob_score=True, warm_start=False;, score=nan total time=   0.0s\n",
      "[CV 1/5] END bootstrap=False, criterion=gini, max_depth=9, max_features=0.5, min_samples_leaf=50, min_samples_split=3.5, n_estimators=200, oob_score=False, warm_start=False;, score=nan total time=   0.1s\n",
      "[CV 4/5] END bootstrap=False, criterion=gini, max_depth=9, max_features=0.5, min_samples_leaf=50, min_samples_split=3.5, n_estimators=200, oob_score=False, warm_start=False;, score=nan total time=   0.1s\n",
      "[CV 2/5] END bootstrap=False, criterion=gini, max_depth=8, max_features=auto, min_samples_leaf=0.01, min_samples_split=2.5, n_estimators=150, oob_score=False, warm_start=False;, score=nan total time=   0.1s\n",
      "[CV 1/5] END bootstrap=False, criterion=gini, max_depth=2, max_features=0.4, min_samples_leaf=35, min_samples_split=100, n_estimators=750, oob_score=True, warm_start=True;, score=nan total time=   0.0s\n",
      "[CV 2/5] END bootstrap=False, criterion=gini, max_depth=2, max_features=0.4, min_samples_leaf=35, min_samples_split=100, n_estimators=750, oob_score=True, warm_start=True;, score=nan total time=   0.0s\n",
      "[CV 3/5] END bootstrap=False, criterion=gini, max_depth=2, max_features=0.4, min_samples_leaf=35, min_samples_split=100, n_estimators=750, oob_score=True, warm_start=True;, score=nan total time=   0.0s\n",
      "[CV 4/5] END bootstrap=False, criterion=gini, max_depth=2, max_features=0.4, min_samples_leaf=35, min_samples_split=100, n_estimators=750, oob_score=True, warm_start=True;, score=nan total time=   0.0s\n",
      "[CV 5/5] END bootstrap=False, criterion=gini, max_depth=2, max_features=0.4, min_samples_leaf=35, min_samples_split=100, n_estimators=750, oob_score=True, warm_start=True;, score=nan total time=   0.0s\n",
      "[CV 1/5] END bootstrap=False, criterion=log_loss, max_depth=14, max_features=sqrt, min_samples_leaf=50, min_samples_split=2, n_estimators=500, oob_score=False, warm_start=True;, score=nan total time=   0.2s\n",
      "[CV 4/5] END bootstrap=False, criterion=log_loss, max_depth=14, max_features=sqrt, min_samples_leaf=50, min_samples_split=2, n_estimators=500, oob_score=False, warm_start=True;, score=nan total time=   0.3s\n",
      "[CV 2/5] END bootstrap=True, criterion=log_loss, max_depth=7, max_features=0.1, min_samples_leaf=15, min_samples_split=5, n_estimators=750, oob_score=True, warm_start=False;, score=nan total time=   0.4s\n",
      "[CV 5/5] END bootstrap=True, criterion=log_loss, max_depth=7, max_features=0.1, min_samples_leaf=15, min_samples_split=5, n_estimators=750, oob_score=True, warm_start=False;, score=nan total time=   0.4s\n",
      "[CV 3/5] END bootstrap=False, criterion=log_loss, max_depth=12, max_features=sqrt, min_samples_leaf=2, min_samples_split=0.01, n_estimators=500, oob_score=False, warm_start=False;, score=nan total time=   0.2s\n",
      "[CV 1/5] END bootstrap=True, criterion=gini, max_depth=3, max_features=0.4, min_samples_leaf=none, min_samples_split=7, n_estimators=300, oob_score=True, warm_start=True;, score=nan total time=   0.1s\n",
      "[CV 3/5] END bootstrap=True, criterion=gini, max_depth=3, max_features=0.4, min_samples_leaf=none, min_samples_split=7, n_estimators=300, oob_score=True, warm_start=True;, score=nan total time=   0.1s\n",
      "[CV 1/5] END bootstrap=True, criterion=log_loss, max_depth=11, max_features=log2, min_samples_leaf=15, min_samples_split=30, n_estimators=150, oob_score=True, warm_start=True;, score=nan total time=   0.1s\n",
      "[CV 2/5] END bootstrap=True, criterion=log_loss, max_depth=11, max_features=log2, min_samples_leaf=15, min_samples_split=30, n_estimators=150, oob_score=True, warm_start=True;, score=nan total time=   0.1s\n",
      "[CV 5/5] END bootstrap=True, criterion=log_loss, max_depth=11, max_features=log2, min_samples_leaf=15, min_samples_split=30, n_estimators=150, oob_score=True, warm_start=True;, score=nan total time=   0.1s\n",
      "[CV 3/5] END bootstrap=True, criterion=entropy, max_depth=9, max_features=log2, min_samples_leaf=1, min_samples_split=3.5, n_estimators=650, oob_score=True, warm_start=False;, score=nan total time=   0.3s[CV 2/5] END bootstrap=True, criterion=entropy, max_depth=8, max_features=0.5, min_samples_leaf=90, min_samples_split=60, n_estimators=450, oob_score=False, warm_start=False;, score=nan total time=   0.2s\n",
      "[CV 1/5] END bootstrap=False, criterion=gini, max_depth=4, max_features=0.3, min_samples_leaf=8, min_samples_split=7, n_estimators=140, oob_score=True, warm_start=False;, score=nan total time=   0.0s\n",
      "[CV 2/5] END bootstrap=False, criterion=gini, max_depth=4, max_features=0.3, min_samples_leaf=8, min_samples_split=7, n_estimators=140, oob_score=True, warm_start=False;, score=nan total time=   0.0s\n",
      "[CV 3/5] END bootstrap=False, criterion=gini, max_depth=4, max_features=0.3, min_samples_leaf=8, min_samples_split=7, n_estimators=140, oob_score=True, warm_start=False;, score=nan total time=   0.0s\n",
      "[CV 4/5] END bootstrap=False, criterion=gini, max_depth=4, max_features=0.3, min_samples_leaf=8, min_samples_split=7, n_estimators=140, oob_score=True, warm_start=False;, score=nan total time=   0.0s\n",
      "[CV 5/5] END bootstrap=False, criterion=gini, max_depth=4, max_features=0.3, min_samples_leaf=8, min_samples_split=7, n_estimators=140, oob_score=True, warm_start=False;, score=nan total time=   0.0s\n",
      "[CV 1/5] END bootstrap=True, criterion=gini, max_depth=1, max_features=0.2, min_samples_leaf=0.25, min_samples_split=60, n_estimators=140, oob_score=True, warm_start=False;, score=nan total time=   0.1s\n",
      "[CV 4/5] END bootstrap=True, criterion=gini, max_depth=1, max_features=0.2, min_samples_leaf=0.25, min_samples_split=60, n_estimators=140, oob_score=True, warm_start=False;, score=nan total time=   0.1s\n",
      "[CV 2/5] END bootstrap=False, criterion=log_loss, max_depth=5, max_features=0.2, min_samples_leaf=6, min_samples_split=1, n_estimators=500, oob_score=False, warm_start=True;, score=nan total time=   0.3s\n",
      "[CV 1/5] END bootstrap=True, criterion=entropy, max_depth=18, max_features=0.2, min_samples_leaf=0.5, min_samples_split=8, n_estimators=500, oob_score=False, warm_start=True;, score=nan total time=   0.3s\n",
      "[CV 5/5] END bootstrap=True, criterion=entropy, max_depth=18, max_features=0.2, min_samples_leaf=0.5, min_samples_split=8, n_estimators=500, oob_score=False, warm_start=True;, score=nan total time=   0.3s\n",
      "[CV 1/5] END bootstrap=True, criterion=gini, max_depth=14, max_features=0.3, min_samples_leaf=4.5, min_samples_split=80, n_estimators=850, oob_score=False, warm_start=True;, score=nan total time=   0.5s\n",
      "[CV 5/5] END bootstrap=True, criterion=gini, max_depth=14, max_features=0.3, min_samples_leaf=4.5, min_samples_split=80, n_estimators=850, oob_score=False, warm_start=True;, score=nan total time=   0.5s\n",
      "[CV 4/5] END bootstrap=True, criterion=entropy, max_depth=25, max_features=auto, min_samples_leaf=3, min_samples_split=0.05, n_estimators=800, oob_score=True, warm_start=True;, score=0.848 total time=   6.9s\n",
      "[CV 3/5] END bootstrap=False, criterion=gini, max_depth=9, max_features=0.5, min_samples_leaf=50, min_samples_split=3.5, n_estimators=200, oob_score=False, warm_start=False;, score=nan total time=   0.1s\n",
      "[CV 1/5] END bootstrap=False, criterion=gini, max_depth=8, max_features=auto, min_samples_leaf=0.01, min_samples_split=2.5, n_estimators=150, oob_score=False, warm_start=False;, score=nan total time=   0.1s\n",
      "[CV 4/5] END bootstrap=False, criterion=gini, max_depth=8, max_features=auto, min_samples_leaf=0.01, min_samples_split=2.5, n_estimators=150, oob_score=False, warm_start=False;, score=nan total time=   0.1s\n",
      "[CV 2/5] END bootstrap=False, criterion=log_loss, max_depth=14, max_features=sqrt, min_samples_leaf=50, min_samples_split=2, n_estimators=500, oob_score=False, warm_start=True;, score=nan total time=   0.3s\n",
      "[CV 5/5] END bootstrap=False, criterion=log_loss, max_depth=14, max_features=sqrt, min_samples_leaf=50, min_samples_split=2, n_estimators=500, oob_score=False, warm_start=True;, score=nan total time=   0.3s\n",
      "[CV 3/5] END bootstrap=True, criterion=log_loss, max_depth=7, max_features=0.1, min_samples_leaf=15, min_samples_split=5, n_estimators=750, oob_score=True, warm_start=False;, score=nan total time=   0.4s\n",
      "[CV 1/5] END bootstrap=False, criterion=log_loss, max_depth=12, max_features=sqrt, min_samples_leaf=2, min_samples_split=0.01, n_estimators=500, oob_score=False, warm_start=False;, score=nan total time=   0.3s\n",
      "[CV 4/5] END bootstrap=False, criterion=log_loss, max_depth=12, max_features=sqrt, min_samples_leaf=2, min_samples_split=0.01, n_estimators=500, oob_score=False, warm_start=False;, score=nan total time=   0.3s\n",
      "[CV 2/5] END bootstrap=True, criterion=gini, max_depth=3, max_features=0.4, min_samples_leaf=none, min_samples_split=7, n_estimators=300, oob_score=True, warm_start=True;, score=nan total time=   0.2s\n",
      "[CV 5/5] END bootstrap=True, criterion=gini, max_depth=3, max_features=0.4, min_samples_leaf=none, min_samples_split=7, n_estimators=300, oob_score=True, warm_start=True;, score=nan total time=   0.2s\n",
      "[CV 4/5] END bootstrap=True, criterion=log_loss, max_depth=11, max_features=log2, min_samples_leaf=15, min_samples_split=30, n_estimators=150, oob_score=True, warm_start=True;, score=nan total time=   0.1s\n",
      "[CV 2/5] END bootstrap=True, criterion=entropy, max_depth=9, max_features=log2, min_samples_leaf=1, min_samples_split=3.5, n_estimators=650, oob_score=True, warm_start=False;, score=nan total time=   0.4s\n",
      "[CV 1/5] END bootstrap=False, criterion=log_loss, max_depth=6, max_features=sqrt, min_samples_leaf=none, min_samples_split=35, n_estimators=160, oob_score=True, warm_start=False;, score=nan total time=   0.0s\n",
      "[CV 2/5] END bootstrap=False, criterion=log_loss, max_depth=6, max_features=sqrt, min_samples_leaf=none, min_samples_split=35, n_estimators=160, oob_score=True, warm_start=False;, score=nan total time=   0.0s\n",
      "[CV 3/5] END bootstrap=False, criterion=log_loss, max_depth=6, max_features=sqrt, min_samples_leaf=none, min_samples_split=35, n_estimators=160, oob_score=True, warm_start=False;, score=nan total time=   0.0s\n",
      "[CV 4/5] END bootstrap=False, criterion=log_loss, max_depth=6, max_features=sqrt, min_samples_leaf=none, min_samples_split=35, n_estimators=160, oob_score=True, warm_start=False;, score=nan total time=   0.0s\n",
      "[CV 5/5] END bootstrap=False, criterion=log_loss, max_depth=6, max_features=sqrt, min_samples_leaf=none, min_samples_split=35, n_estimators=160, oob_score=True, warm_start=False;, score=nan total time=   0.0s\n",
      "[CV 1/5] END bootstrap=False, criterion=gini, max_depth=14, max_features=0.1, min_samples_leaf=0.75, min_samples_split=35, n_estimators=155, oob_score=False, warm_start=True;, score=nan total time=   0.1s\n",
      "[CV 2/5] END bootstrap=False, criterion=gini, max_depth=14, max_features=0.1, min_samples_leaf=0.75, min_samples_split=35, n_estimators=155, oob_score=False, warm_start=True;, score=nan total time=   0.1s\n",
      "[CV 3/5] END bootstrap=False, criterion=gini, max_depth=14, max_features=0.1, min_samples_leaf=0.75, min_samples_split=35, n_estimators=155, oob_score=False, warm_start=True;, score=nan total time=   0.1s\n",
      "[CV 5/5] END bootstrap=False, criterion=gini, max_depth=14, max_features=0.1, min_samples_leaf=0.75, min_samples_split=35, n_estimators=155, oob_score=False, warm_start=True;, score=nan total time=   0.1s\n",
      "[CV 3/5] END bootstrap=False, criterion=log_loss, max_depth=18, max_features=0.4, min_samples_leaf=9, min_samples_split=60, n_estimators=650, oob_score=False, warm_start=False;, score=nan total time=   0.4s\n",
      "[CV 1/5] END bootstrap=True, criterion=log_loss, max_depth=22, max_features=0.4, min_samples_leaf=20, min_samples_split=0.05, n_estimators=100, oob_score=True, warm_start=False;, score=nan total time=   0.1s\n",
      "[CV 2/5] END bootstrap=True, criterion=log_loss, max_depth=22, max_features=0.4, min_samples_leaf=20, min_samples_split=0.05, n_estimators=100, oob_score=True, warm_start=False;, score=nan total time=   0.1s\n",
      "[CV 3/5] END bootstrap=True, criterion=log_loss, max_depth=22, max_features=0.4, min_samples_leaf=20, min_samples_split=0.05, n_estimators=100, oob_score=True, warm_start=False;, score=nan total time=   0.1s\n",
      "[CV 4/5] END bootstrap=True, criterion=log_loss, max_depth=22, max_features=0.4, min_samples_leaf=20, min_samples_split=0.05, n_estimators=100, oob_score=True, warm_start=False;, score=nan total time=   0.1s[CV 1/5] END bootstrap=True, criterion=entropy, max_depth=8, max_features=0.5, min_samples_leaf=90, min_samples_split=60, n_estimators=450, oob_score=False, warm_start=False;, score=nan total time=   0.2s\n",
      "[CV 5/5] END bootstrap=True, criterion=entropy, max_depth=8, max_features=0.5, min_samples_leaf=90, min_samples_split=60, n_estimators=450, oob_score=False, warm_start=False;, score=nan total time=   0.2s\n",
      "[CV 3/5] END bootstrap=False, criterion=log_loss, max_depth=5, max_features=0.2, min_samples_leaf=6, min_samples_split=1, n_estimators=500, oob_score=False, warm_start=True;, score=nan total time=   0.3s\n",
      "[CV 2/5] END bootstrap=True, criterion=entropy, max_depth=18, max_features=0.2, min_samples_leaf=0.5, min_samples_split=8, n_estimators=500, oob_score=False, warm_start=True;, score=nan total time=   0.3s\n",
      "[CV 1/5] END bootstrap=True, criterion=entropy, max_depth=5, max_features=log2, min_samples_leaf=3.5, min_samples_split=10, n_estimators=350, oob_score=True, warm_start=True;, score=nan total time=   0.2s\n",
      "[CV 3/5] END bootstrap=True, criterion=entropy, max_depth=5, max_features=log2, min_samples_leaf=3.5, min_samples_split=10, n_estimators=350, oob_score=True, warm_start=True;, score=nan total time=   0.2s\n",
      "[CV 2/5] END bootstrap=True, criterion=gini, max_depth=14, max_features=0.3, min_samples_leaf=4.5, min_samples_split=80, n_estimators=850, oob_score=False, warm_start=True;, score=nan total time=   0.5s\n",
      "[CV 1/5] END bootstrap=False, criterion=log_loss, max_depth=3, max_features=0.2, min_samples_leaf=80, min_samples_split=0.5, n_estimators=155, oob_score=True, warm_start=False;, score=nan total time=   0.0s\n",
      "[CV 3/5] END bootstrap=False, criterion=log_loss, max_depth=3, max_features=0.2, min_samples_leaf=80, min_samples_split=0.5, n_estimators=155, oob_score=True, warm_start=False;, score=nan total time=   0.0s\n",
      "[CV 4/5] END bootstrap=False, criterion=log_loss, max_depth=3, max_features=0.2, min_samples_leaf=80, min_samples_split=0.5, n_estimators=155, oob_score=True, warm_start=False;, score=nan total time=   0.0s\n",
      "[CV 2/5] END bootstrap=True, criterion=entropy, max_depth=25, max_features=auto, min_samples_leaf=3, min_samples_split=0.05, n_estimators=800, oob_score=True, warm_start=True;, score=0.851 total time=   6.9s\n",
      "[CV 5/5] END bootstrap=True, criterion=entropy, max_depth=25, max_features=auto, min_samples_leaf=3, min_samples_split=0.05, n_estimators=800, oob_score=True, warm_start=True;, score=0.845 total time=   6.8s\n",
      "[CV 1/5] END bootstrap=True, criterion=entropy, max_depth=23, max_features=0.4, min_samples_leaf=35, min_samples_split=25, n_estimators=400, oob_score=False, warm_start=True;, score=nan total time=   0.2s\n",
      "[CV 2/5] END bootstrap=True, criterion=entropy, max_depth=23, max_features=0.4, min_samples_leaf=35, min_samples_split=25, n_estimators=400, oob_score=False, warm_start=True;, score=nan total time=   0.2s\n",
      "[CV 3/5] END bootstrap=True, criterion=entropy, max_depth=23, max_features=0.4, min_samples_leaf=35, min_samples_split=25, n_estimators=400, oob_score=False, warm_start=True;, score=nan total time=   0.2s\n",
      "[CV 4/5] END bootstrap=True, criterion=entropy, max_depth=23, max_features=0.4, min_samples_leaf=35, min_samples_split=25, n_estimators=400, oob_score=False, warm_start=True;, score=nan total time=   0.2s\n",
      "[CV 5/5] END bootstrap=True, criterion=entropy, max_depth=23, max_features=0.4, min_samples_leaf=35, min_samples_split=25, n_estimators=400, oob_score=False, warm_start=True;, score=nan total time=   0.2s\n",
      "[CV 1/5] END bootstrap=True, criterion=entropy, max_depth=20, max_features=0.1, min_samples_leaf=25, min_samples_split=30, n_estimators=155, oob_score=False, warm_start=True;, score=nan total time=   0.1s\n",
      "[CV 2/5] END bootstrap=True, criterion=entropy, max_depth=20, max_features=0.1, min_samples_leaf=25, min_samples_split=30, n_estimators=155, oob_score=False, warm_start=True;, score=nan total time=   0.1s\n",
      "[CV 3/5] END bootstrap=True, criterion=entropy, max_depth=20, max_features=0.1, min_samples_leaf=25, min_samples_split=30, n_estimators=155, oob_score=False, warm_start=True;, score=nan total time=   0.1s\n",
      "[CV 4/5] END bootstrap=True, criterion=entropy, max_depth=20, max_features=0.1, min_samples_leaf=25, min_samples_split=30, n_estimators=155, oob_score=False, warm_start=True;, score=nan total time=   0.1s\n",
      "[CV 5/5] END bootstrap=True, criterion=entropy, max_depth=20, max_features=0.1, min_samples_leaf=25, min_samples_split=30, n_estimators=155, oob_score=False, warm_start=True;, score=nan total time=   0.1s\n",
      "[CV 1/5] END bootstrap=False, criterion=entropy, max_depth=15, max_features=0.3, min_samples_leaf=0.25, min_samples_split=0.01, n_estimators=155, oob_score=True, warm_start=True;, score=nan total time=   0.0s\n",
      "[CV 2/5] END bootstrap=False, criterion=entropy, max_depth=15, max_features=0.3, min_samples_leaf=0.25, min_samples_split=0.01, n_estimators=155, oob_score=True, warm_start=True;, score=nan total time=   0.0s\n",
      "[CV 3/5] END bootstrap=False, criterion=entropy, max_depth=15, max_features=0.3, min_samples_leaf=0.25, min_samples_split=0.01, n_estimators=155, oob_score=True, warm_start=True;, score=nan total time=   0.0s\n",
      "[CV 4/5] END bootstrap=False, criterion=entropy, max_depth=15, max_features=0.3, min_samples_leaf=0.25, min_samples_split=0.01, n_estimators=155, oob_score=True, warm_start=True;, score=nan total time=   0.0s\n",
      "[CV 5/5] END bootstrap=False, criterion=entropy, max_depth=15, max_features=0.3, min_samples_leaf=0.25, min_samples_split=0.01, n_estimators=155, oob_score=True, warm_start=True;, score=nan total time=   0.0s\n",
      "[CV 1/5] END bootstrap=True, criterion=gini, max_depth=24, max_features=0.5, min_samples_leaf=0.5, min_samples_split=1, n_estimators=300, oob_score=True, warm_start=False;, score=nan total time=   0.1s\n",
      "[CV 2/5] END bootstrap=True, criterion=gini, max_depth=24, max_features=0.5, min_samples_leaf=0.5, min_samples_split=1, n_estimators=300, oob_score=True, warm_start=False;, score=nan total time=   0.1s\n",
      "[CV 3/5] END bootstrap=True, criterion=gini, max_depth=24, max_features=0.5, min_samples_leaf=0.5, min_samples_split=1, n_estimators=300, oob_score=True, warm_start=False;, score=nan total time=   0.1s\n",
      "[CV 4/5] END bootstrap=True, criterion=gini, max_depth=24, max_features=0.5, min_samples_leaf=0.5, min_samples_split=1, n_estimators=300, oob_score=True, warm_start=False;, score=nan total time=   0.1s\n",
      "[CV 5/5] END bootstrap=True, criterion=gini, max_depth=24, max_features=0.5, min_samples_leaf=0.5, min_samples_split=1, n_estimators=300, oob_score=True, warm_start=False;, score=nan total time=   0.1s\n",
      "[CV 1/5] END bootstrap=True, criterion=log_loss, max_depth=12, max_features=auto, min_samples_leaf=2, min_samples_split=0.33, n_estimators=450, oob_score=False, warm_start=False;, score=nan total time=   0.2s\n",
      "[CV 2/5] END bootstrap=True, criterion=log_loss, max_depth=12, max_features=auto, min_samples_leaf=2, min_samples_split=0.33, n_estimators=450, oob_score=False, warm_start=False;, score=nan total time=   0.2s\n",
      "[CV 3/5] END bootstrap=True, criterion=log_loss, max_depth=12, max_features=auto, min_samples_leaf=2, min_samples_split=0.33, n_estimators=450, oob_score=False, warm_start=False;, score=nan total time=   0.2s\n",
      "[CV 4/5] END bootstrap=True, criterion=log_loss, max_depth=12, max_features=auto, min_samples_leaf=2, min_samples_split=0.33, n_estimators=450, oob_score=False, warm_start=False;, score=nan total time=   0.2s\n",
      "[CV 5/5] END bootstrap=True, criterion=log_loss, max_depth=12, max_features=auto, min_samples_leaf=2, min_samples_split=0.33, n_estimators=450, oob_score=False, warm_start=False;, score=nan total time=   0.2s\n",
      "[CV 1/5] END bootstrap=True, criterion=gini, max_depth=6, max_features=0.4, min_samples_leaf=40, min_samples_split=8, n_estimators=700, oob_score=False, warm_start=True;, score=nan total time=   0.3s\n",
      "[CV 2/5] END bootstrap=True, criterion=gini, max_depth=6, max_features=0.4, min_samples_leaf=40, min_samples_split=8, n_estimators=700, oob_score=False, warm_start=True;, score=nan total time=   0.3s\n",
      "[CV 3/5] END bootstrap=True, criterion=gini, max_depth=6, max_features=0.4, min_samples_leaf=40, min_samples_split=8, n_estimators=700, oob_score=False, warm_start=True;, score=nan total time=   0.4s[CV 4/5] END bootstrap=True, criterion=entropy, max_depth=8, max_features=0.5, min_samples_leaf=90, min_samples_split=60, n_estimators=450, oob_score=False, warm_start=False;, score=nan total time=   0.2s\n",
      "[CV 3/5] END bootstrap=True, criterion=gini, max_depth=1, max_features=0.2, min_samples_leaf=0.25, min_samples_split=60, n_estimators=140, oob_score=True, warm_start=False;, score=nan total time=   0.1s\n",
      "[CV 1/5] END bootstrap=False, criterion=log_loss, max_depth=5, max_features=0.2, min_samples_leaf=6, min_samples_split=1, n_estimators=500, oob_score=False, warm_start=True;, score=nan total time=   0.3s\n",
      "[CV 5/5] END bootstrap=False, criterion=log_loss, max_depth=5, max_features=0.2, min_samples_leaf=6, min_samples_split=1, n_estimators=500, oob_score=False, warm_start=True;, score=nan total time=   0.3s\n",
      "[CV 4/5] END bootstrap=True, criterion=entropy, max_depth=18, max_features=0.2, min_samples_leaf=0.5, min_samples_split=8, n_estimators=500, oob_score=False, warm_start=True;, score=nan total time=   0.3s\n",
      "[CV 5/5] END bootstrap=True, criterion=entropy, max_depth=5, max_features=log2, min_samples_leaf=3.5, min_samples_split=10, n_estimators=350, oob_score=True, warm_start=True;, score=nan total time=   0.2s\n",
      "[CV 4/5] END bootstrap=True, criterion=gini, max_depth=14, max_features=0.3, min_samples_leaf=4.5, min_samples_split=80, n_estimators=850, oob_score=False, warm_start=True;, score=nan total time=   0.5s\n",
      "[CV 3/5] END bootstrap=True, criterion=entropy, max_depth=25, max_features=auto, min_samples_leaf=3, min_samples_split=0.05, n_estimators=800, oob_score=True, warm_start=True;, score=0.850 total time=   7.2s\n",
      "[CV 2/5] END bootstrap=False, criterion=gini, max_depth=9, max_features=0.5, min_samples_leaf=50, min_samples_split=3.5, n_estimators=200, oob_score=False, warm_start=False;, score=nan total time=   0.1s\n",
      "[CV 5/5] END bootstrap=False, criterion=gini, max_depth=9, max_features=0.5, min_samples_leaf=50, min_samples_split=3.5, n_estimators=200, oob_score=False, warm_start=False;, score=nan total time=   0.1s\n",
      "[CV 3/5] END bootstrap=False, criterion=gini, max_depth=8, max_features=auto, min_samples_leaf=0.01, min_samples_split=2.5, n_estimators=150, oob_score=False, warm_start=False;, score=nan total time=   0.1s\n",
      "[CV 5/5] END bootstrap=False, criterion=gini, max_depth=8, max_features=auto, min_samples_leaf=0.01, min_samples_split=2.5, n_estimators=150, oob_score=False, warm_start=False;, score=nan total time=   0.1s\n",
      "[CV 3/5] END bootstrap=False, criterion=log_loss, max_depth=14, max_features=sqrt, min_samples_leaf=50, min_samples_split=2, n_estimators=500, oob_score=False, warm_start=True;, score=nan total time=   0.3s\n",
      "[CV 1/5] END bootstrap=True, criterion=log_loss, max_depth=7, max_features=0.1, min_samples_leaf=15, min_samples_split=5, n_estimators=750, oob_score=True, warm_start=False;, score=nan total time=   0.4s\n",
      "[CV 4/5] END bootstrap=True, criterion=log_loss, max_depth=7, max_features=0.1, min_samples_leaf=15, min_samples_split=5, n_estimators=750, oob_score=True, warm_start=False;, score=nan total time=   0.4s\n",
      "[CV 2/5] END bootstrap=False, criterion=log_loss, max_depth=12, max_features=sqrt, min_samples_leaf=2, min_samples_split=0.01, n_estimators=500, oob_score=False, warm_start=False;, score=nan total time=   0.3s\n",
      "[CV 5/5] END bootstrap=False, criterion=log_loss, max_depth=12, max_features=sqrt, min_samples_leaf=2, min_samples_split=0.01, n_estimators=500, oob_score=False, warm_start=False;, score=nan total time=   0.3s\n",
      "[CV 4/5] END bootstrap=True, criterion=gini, max_depth=3, max_features=0.4, min_samples_leaf=none, min_samples_split=7, n_estimators=300, oob_score=True, warm_start=True;, score=nan total time=   0.2s\n",
      "[CV 3/5] END bootstrap=True, criterion=log_loss, max_depth=11, max_features=log2, min_samples_leaf=15, min_samples_split=30, n_estimators=150, oob_score=True, warm_start=True;, score=nan total time=   0.1s\n",
      "[CV 1/5] END bootstrap=True, criterion=entropy, max_depth=9, max_features=log2, min_samples_leaf=1, min_samples_split=3.5, n_estimators=650, oob_score=True, warm_start=False;, score=nan total time=   0.4s\n",
      "[CV 4/5] END bootstrap=True, criterion=entropy, max_depth=9, max_features=log2, min_samples_leaf=1, min_samples_split=3.5, n_estimators=650, oob_score=True, warm_start=False;, score=nan total time=   0.4s\n",
      "[CV 1/5] END bootstrap=False, criterion=entropy, max_depth=1, max_features=log2, min_samples_leaf=3, min_samples_split=8, n_estimators=130, oob_score=True, warm_start=True;, score=nan total time=   0.0s\n",
      "[CV 2/5] END bootstrap=False, criterion=entropy, max_depth=1, max_features=log2, min_samples_leaf=3, min_samples_split=8, n_estimators=130, oob_score=True, warm_start=True;, score=nan total time=   0.0s\n",
      "[CV 3/5] END bootstrap=False, criterion=entropy, max_depth=1, max_features=log2, min_samples_leaf=3, min_samples_split=8, n_estimators=130, oob_score=True, warm_start=True;, score=nan total time=   0.0s\n",
      "[CV 4/5] END bootstrap=False, criterion=entropy, max_depth=1, max_features=log2, min_samples_leaf=3, min_samples_split=8, n_estimators=130, oob_score=True, warm_start=True;, score=nan total time=   0.0s\n",
      "[CV 5/5] END bootstrap=False, criterion=entropy, max_depth=1, max_features=log2, min_samples_leaf=3, min_samples_split=8, n_estimators=130, oob_score=True, warm_start=True;, score=nan total time=   0.0s\n",
      "[CV 1/5] END bootstrap=False, criterion=log_loss, max_depth=18, max_features=0.4, min_samples_leaf=9, min_samples_split=60, n_estimators=650, oob_score=False, warm_start=False;, score=nan total time=   0.3s\n",
      "[CV 4/5] END bootstrap=False, criterion=log_loss, max_depth=18, max_features=0.4, min_samples_leaf=9, min_samples_split=60, n_estimators=650, oob_score=False, warm_start=False;, score=nan total time=   0.3s\n",
      "[CV 5/5] END bootstrap=True, criterion=log_loss, max_depth=22, max_features=0.4, min_samples_leaf=20, min_samples_split=0.05, n_estimators=100, oob_score=True, warm_start=False;, score=nan total time=   0.1s\n",
      "[CV 1/5] END bootstrap=False, criterion=entropy, max_depth=22, max_features=0.3, min_samples_leaf=10, min_samples_split=0.1, n_estimators=155, oob_score=False, warm_start=False;, score=nan total time=   0.1s\n",
      "[CV 1/5] END bootstrap=True, criterion=gini, max_depth=20, max_features=0.2, min_samples_leaf=0.01, min_samples_split=1, n_estimators=800, oob_score=False, warm_start=False;, score=nan total time=   0.4s\n",
      "[CV 2/5] END bootstrap=True, criterion=gini, max_depth=20, max_features=0.2, min_samples_leaf=0.01, min_samples_split=1, n_estimators=800, oob_score=False, warm_start=False;, score=nan total time=   0.4s\n",
      "[CV 2/5] END bootstrap=False, criterion=entropy, max_depth=25, max_features=0.1, min_samples_leaf=70, min_samples_split=70, n_estimators=500, oob_score=False, warm_start=False;, score=nan total time=   0.2s\n",
      "[CV 3/5] END bootstrap=False, criterion=entropy, max_depth=25, max_features=0.1, min_samples_leaf=70, min_samples_split=70, n_estimators=500, oob_score=False, warm_start=False;, score=nan total time=   0.2s\n",
      "[CV 3/5] END bootstrap=True, criterion=gini, max_depth=22, max_features=0.1, min_samples_leaf=0.75, min_samples_split=70, n_estimators=800, oob_score=True, warm_start=False;, score=nan total time=   0.4s\n",
      "[CV 4/5] END bootstrap=True, criterion=gini, max_depth=22, max_features=0.1, min_samples_leaf=0.75, min_samples_split=70, n_estimators=800, oob_score=True, warm_start=False;, score=nan total time=   0.5s\n",
      "[CV 4/5] END bootstrap=True, criterion=gini, max_depth=13, max_features=log2, min_samples_leaf=8, min_samples_split=30, n_estimators=750, oob_score=True, warm_start=False;, score=0.857 total time=   7.5s\n",
      "[CV 5/5] END bootstrap=True, criterion=gini, max_depth=13, max_features=log2, min_samples_leaf=8, min_samples_split=30, n_estimators=750, oob_score=True, warm_start=False;, score=0.856 total time=   7.5s\n",
      "[CV 1/5] END bootstrap=False, criterion=log_loss, max_depth=7, max_features=0.2, min_samples_leaf=9, min_samples_split=30, n_estimators=400, oob_score=False, warm_start=True;, score=nan total time=   0.2s\n",
      "[CV 2/5] END bootstrap=False, criterion=log_loss, max_depth=7, max_features=0.2, min_samples_leaf=9, min_samples_split=30, n_estimators=400, oob_score=False, warm_start=True;, score=nan total time=   0.2s\n",
      "[CV 5/5] END bootstrap=True, criterion=entropy, max_depth=9, max_features=log2, min_samples_leaf=1, min_samples_split=3.5, n_estimators=650, oob_score=True, warm_start=False;, score=nan total time=   0.3s\n",
      "[CV 4/5] END bootstrap=False, criterion=gini, max_depth=14, max_features=0.1, min_samples_leaf=0.75, min_samples_split=35, n_estimators=155, oob_score=False, warm_start=True;, score=nan total time=   0.1s\n",
      "[CV 2/5] END bootstrap=False, criterion=log_loss, max_depth=18, max_features=0.4, min_samples_leaf=9, min_samples_split=60, n_estimators=650, oob_score=False, warm_start=False;, score=nan total time=   0.4s\n",
      "[CV 5/5] END bootstrap=False, criterion=log_loss, max_depth=18, max_features=0.4, min_samples_leaf=9, min_samples_split=60, n_estimators=650, oob_score=False, warm_start=False;, score=nan total time=   0.4s\n",
      "[CV 4/5] END bootstrap=False, criterion=entropy, max_depth=22, max_features=0.3, min_samples_leaf=10, min_samples_split=0.1, n_estimators=155, oob_score=False, warm_start=False;, score=nan total time=   0.1s\n",
      "[CV 5/5] END bootstrap=False, criterion=entropy, max_depth=22, max_features=0.3, min_samples_leaf=10, min_samples_split=0.1, n_estimators=155, oob_score=False, warm_start=False;, score=nan total time=   0.1s\n",
      "[CV 5/5] END bootstrap=True, criterion=gini, max_depth=20, max_features=0.2, min_samples_leaf=0.01, min_samples_split=1, n_estimators=800, oob_score=False, warm_start=False;, score=nan total time=   0.4s\n",
      "[CV 1/5] END bootstrap=False, criterion=gini, max_depth=8, max_features=0.1, min_samples_leaf=1, min_samples_split=0.75, n_estimators=450, oob_score=True, warm_start=False;, score=nan total time=   0.0s\n",
      "[CV 2/5] END bootstrap=False, criterion=gini, max_depth=8, max_features=0.1, min_samples_leaf=1, min_samples_split=0.75, n_estimators=450, oob_score=True, warm_start=False;, score=nan total time=   0.0s\n",
      "[CV 3/5] END bootstrap=False, criterion=gini, max_depth=8, max_features=0.1, min_samples_leaf=1, min_samples_split=0.75, n_estimators=450, oob_score=True, warm_start=False;, score=nan total time=   0.0s\n",
      "[CV 4/5] END bootstrap=False, criterion=gini, max_depth=8, max_features=0.1, min_samples_leaf=1, min_samples_split=0.75, n_estimators=450, oob_score=True, warm_start=False;, score=nan total time=   0.0s\n",
      "[CV 5/5] END bootstrap=False, criterion=gini, max_depth=8, max_features=0.1, min_samples_leaf=1, min_samples_split=0.75, n_estimators=450, oob_score=True, warm_start=False;, score=nan total time=   0.0s\n",
      "[CV 1/5] END bootstrap=False, criterion=log_loss, max_depth=5, max_features=log2, min_samples_leaf=0.1, min_samples_split=2, n_estimators=500, oob_score=True, warm_start=True;, score=nan total time=   0.0s\n",
      "[CV 2/5] END bootstrap=False, criterion=log_loss, max_depth=5, max_features=log2, min_samples_leaf=0.1, min_samples_split=2, n_estimators=500, oob_score=True, warm_start=True;, score=nan total time=   0.0s\n",
      "[CV 3/5] END bootstrap=False, criterion=log_loss, max_depth=5, max_features=log2, min_samples_leaf=0.1, min_samples_split=2, n_estimators=500, oob_score=True, warm_start=True;, score=nan total time=   0.0s\n",
      "[CV 4/5] END bootstrap=False, criterion=log_loss, max_depth=5, max_features=log2, min_samples_leaf=0.1, min_samples_split=2, n_estimators=500, oob_score=True, warm_start=True;, score=nan total time=   0.0s\n",
      "[CV 5/5] END bootstrap=False, criterion=log_loss, max_depth=5, max_features=log2, min_samples_leaf=0.1, min_samples_split=2, n_estimators=500, oob_score=True, warm_start=True;, score=nan total time=   0.0s\n",
      "[CV 1/5] END bootstrap=False, criterion=entropy, max_depth=25, max_features=0.1, min_samples_leaf=70, min_samples_split=70, n_estimators=500, oob_score=False, warm_start=False;, score=nan total time=   0.3s\n",
      "[CV 4/5] END bootstrap=False, criterion=entropy, max_depth=25, max_features=0.1, min_samples_leaf=70, min_samples_split=70, n_estimators=500, oob_score=False, warm_start=False;, score=nan total time=   0.3s\n",
      "[CV 5/5] END bootstrap=False, criterion=entropy, max_depth=25, max_features=0.1, min_samples_leaf=70, min_samples_split=70, n_estimators=500, oob_score=False, warm_start=False;, score=nan total time=   0.3s\n",
      "[CV 5/5] END bootstrap=True, criterion=gini, max_depth=22, max_features=0.1, min_samples_leaf=0.75, min_samples_split=70, n_estimators=800, oob_score=True, warm_start=False;, score=nan total time=   0.5s\n",
      "[CV 1/5] END bootstrap=True, criterion=gini, max_depth=13, max_features=log2, min_samples_leaf=8, min_samples_split=30, n_estimators=750, oob_score=True, warm_start=False;, score=0.871 total time=   7.5s\n",
      "[CV 3/5] END bootstrap=False, criterion=gini, max_depth=2, max_features=sqrt, min_samples_leaf=40, min_samples_split=0.01, n_estimators=165, oob_score=False, warm_start=True;, score=0.801 total time=   0.7s\n",
      "[CV 4/5] END bootstrap=False, criterion=gini, max_depth=2, max_features=sqrt, min_samples_leaf=40, min_samples_split=0.01, n_estimators=165, oob_score=False, warm_start=True;, score=0.814 total time=   0.7s\n",
      "[CV 2/5] END bootstrap=True, criterion=gini, max_depth=12, max_features=auto, min_samples_leaf=60, min_samples_split=9, n_estimators=850, oob_score=True, warm_start=True;, score=0.853 total time=   6.7s\n",
      "[CV 3/5] END bootstrap=True, criterion=gini, max_depth=12, max_features=auto, min_samples_leaf=60, min_samples_split=9, n_estimators=850, oob_score=True, warm_start=True;, score=0.855 total time=   6.7s\n",
      "[CV 3/5] END bootstrap=True, criterion=gini, max_depth=8, max_features=log2, min_samples_leaf=3, min_samples_split=6, n_estimators=500, oob_score=True, warm_start=True;, score=0.865 total time=   4.7s\n",
      "[CV 1/5] END bootstrap=False, criterion=gini, max_depth=4, max_features=0.5, min_samples_leaf=0.5, min_samples_split=9, n_estimators=850, oob_score=True, warm_start=True;, score=nan total time=   0.0s\n",
      "[CV 2/5] END bootstrap=False, criterion=gini, max_depth=4, max_features=0.5, min_samples_leaf=0.5, min_samples_split=9, n_estimators=850, oob_score=True, warm_start=True;, score=nan total time=   0.0s\n",
      "[CV 3/5] END bootstrap=False, criterion=gini, max_depth=4, max_features=0.5, min_samples_leaf=0.5, min_samples_split=9, n_estimators=850, oob_score=True, warm_start=True;, score=nan total time=   0.0s\n",
      "[CV 4/5] END bootstrap=False, criterion=gini, max_depth=4, max_features=0.5, min_samples_leaf=0.5, min_samples_split=9, n_estimators=850, oob_score=True, warm_start=True;, score=nan total time=   0.0s\n",
      "[CV 5/5] END bootstrap=False, criterion=gini, max_depth=4, max_features=0.5, min_samples_leaf=0.5, min_samples_split=9, n_estimators=850, oob_score=True, warm_start=True;, score=nan total time=   0.0s\n",
      "[CV 1/5] END bootstrap=True, criterion=entropy, max_depth=25, max_features=0.2, min_samples_leaf=0.5, min_samples_split=8, n_estimators=250, oob_score=True, warm_start=False;, score=nan total time=   0.1s\n",
      "[CV 2/5] END bootstrap=True, criterion=entropy, max_depth=25, max_features=0.2, min_samples_leaf=0.5, min_samples_split=8, n_estimators=250, oob_score=True, warm_start=False;, score=nan total time=   0.1s\n",
      "[CV 3/5] END bootstrap=True, criterion=entropy, max_depth=25, max_features=0.2, min_samples_leaf=0.5, min_samples_split=8, n_estimators=250, oob_score=True, warm_start=False;, score=nan total time=   0.1s\n",
      "[CV 4/5] END bootstrap=True, criterion=entropy, max_depth=25, max_features=0.2, min_samples_leaf=0.5, min_samples_split=8, n_estimators=250, oob_score=True, warm_start=False;, score=nan total time=   0.1s\n",
      "[CV 5/5] END bootstrap=True, criterion=entropy, max_depth=25, max_features=0.2, min_samples_leaf=0.5, min_samples_split=8, n_estimators=250, oob_score=True, warm_start=False;, score=nan total time=   0.1s\n",
      "[CV 1/5] END bootstrap=False, criterion=entropy, max_depth=1, max_features=log2, min_samples_leaf=0.5, min_samples_split=35, n_estimators=140, oob_score=False, warm_start=False;, score=0.559 total time=   0.4s\n",
      "[CV 2/5] END bootstrap=False, criterion=entropy, max_depth=1, max_features=log2, min_samples_leaf=0.5, min_samples_split=35, n_estimators=140, oob_score=False, warm_start=False;, score=0.580 total time=   0.4s\n",
      "[CV 3/5] END bootstrap=False, criterion=entropy, max_depth=1, max_features=log2, min_samples_leaf=0.5, min_samples_split=35, n_estimators=140, oob_score=False, warm_start=False;, score=0.588 total time=   0.4s\n",
      "[CV 3/5] END bootstrap=False, criterion=log_loss, max_depth=7, max_features=0.2, min_samples_leaf=9, min_samples_split=30, n_estimators=400, oob_score=False, warm_start=True;, score=nan total time=   0.2s\n",
      "[CV 4/5] END bootstrap=False, criterion=log_loss, max_depth=7, max_features=0.2, min_samples_leaf=9, min_samples_split=30, n_estimators=400, oob_score=False, warm_start=True;, score=nan total time=   0.2s\n",
      "[CV 2/5] END bootstrap=True, criterion=log_loss, max_depth=14, max_features=log2, min_samples_leaf=50, min_samples_split=50, n_estimators=450, oob_score=True, warm_start=True;, score=nan total time=   0.3s\n",
      "[CV 4/5] END bootstrap=True, criterion=log_loss, max_depth=14, max_features=log2, min_samples_leaf=50, min_samples_split=50, n_estimators=450, oob_score=True, warm_start=True;, score=nan total time=   0.3s\n",
      "[CV 1/5] END bootstrap=True, criterion=gini, max_depth=7, max_features=0.2, min_samples_leaf=4, min_samples_split=0.5, n_estimators=500, oob_score=True, warm_start=True;, score=nan total time=   0.3s\n",
      "[CV 3/5] END bootstrap=True, criterion=gini, max_depth=7, max_features=0.2, min_samples_leaf=4, min_samples_split=0.5, n_estimators=500, oob_score=True, warm_start=True;, score=nan total time=   0.3s\n",
      "[CV 5/5] END bootstrap=True, criterion=gini, max_depth=7, max_features=0.2, min_samples_leaf=4, min_samples_split=0.5, n_estimators=500, oob_score=True, warm_start=True;, score=nan total time=   0.3s\n",
      "[CV 2/5] END bootstrap=True, criterion=gini, max_depth=22, max_features=0.3, min_samples_leaf=1, min_samples_split=5, n_estimators=700, oob_score=False, warm_start=True;, score=nan total time=   0.4s\n",
      "[CV 4/5] END bootstrap=True, criterion=gini, max_depth=22, max_features=0.3, min_samples_leaf=1, min_samples_split=5, n_estimators=700, oob_score=False, warm_start=True;, score=nan total time=   0.4s\n",
      "[CV 1/5] END bootstrap=True, criterion=log_loss, max_depth=20, max_features=0.3, min_samples_leaf=100, min_samples_split=7, n_estimators=500, oob_score=False, warm_start=False;, score=nan total time=   0.3s\n",
      "[CV 3/5] END bootstrap=True, criterion=log_loss, max_depth=20, max_features=0.3, min_samples_leaf=100, min_samples_split=7, n_estimators=500, oob_score=False, warm_start=False;, score=nan total time=   0.3s\n",
      "[CV 5/5] END bootstrap=True, criterion=log_loss, max_depth=20, max_features=0.3, min_samples_leaf=100, min_samples_split=7, n_estimators=500, oob_score=False, warm_start=False;, score=nan total time=   0.3s\n",
      "[CV 2/5] END bootstrap=True, criterion=gini, max_depth=8, max_features=0.2, min_samples_leaf=7, min_samples_split=5, n_estimators=500, oob_score=False, warm_start=False;, score=nan total time=   0.3s\n",
      "[CV 4/5] END bootstrap=True, criterion=gini, max_depth=8, max_features=0.2, min_samples_leaf=7, min_samples_split=5, n_estimators=500, oob_score=False, warm_start=False;, score=nan total time=   0.3s\n",
      "[CV 1/5] END bootstrap=True, criterion=entropy, max_depth=16, max_features=0.3, min_samples_leaf=0.33, min_samples_split=0.01, n_estimators=500, oob_score=False, warm_start=False;, score=nan total time=   0.3s\n",
      "[CV 3/5] END bootstrap=True, criterion=entropy, max_depth=16, max_features=0.3, min_samples_leaf=0.33, min_samples_split=0.01, n_estimators=500, oob_score=False, warm_start=False;, score=nan total time=   0.3s\n",
      "[CV 5/5] END bootstrap=True, criterion=entropy, max_depth=16, max_features=0.3, min_samples_leaf=0.33, min_samples_split=0.01, n_estimators=500, oob_score=False, warm_start=False;, score=nan total time=   0.3s\n",
      "[CV 2/5] END bootstrap=True, criterion=gini, max_depth=None, max_features=0.5, min_samples_leaf=90, min_samples_split=2.5, n_estimators=300, oob_score=True, warm_start=True;, score=nan total time=   0.2s\n",
      "[CV 4/5] END bootstrap=True, criterion=gini, max_depth=None, max_features=0.5, min_samples_leaf=90, min_samples_split=2.5, n_estimators=300, oob_score=True, warm_start=True;, score=nan total time=   0.2s\n",
      "[CV 1/5] END bootstrap=True, criterion=gini, max_depth=8, max_features=log2, min_samples_leaf=3, min_samples_split=6, n_estimators=500, oob_score=True, warm_start=True;, score=0.871 total time=   4.5s\n",
      "[CV 4/5] END bootstrap=True, criterion=gini, max_depth=8, max_features=log2, min_samples_leaf=3, min_samples_split=6, n_estimators=500, oob_score=True, warm_start=True;, score=0.859 total time=   4.4s\n",
      "[CV 4/5] END bootstrap=False, criterion=log_loss, max_depth=20, max_features=0.4, min_samples_leaf=15, min_samples_split=40, n_estimators=750, oob_score=False, warm_start=False;, score=nan total time=   0.4s\n",
      "[CV 3/5] END bootstrap=True, criterion=gini, max_depth=22, max_features=log2, min_samples_leaf=0.01, min_samples_split=9, n_estimators=600, oob_score=False, warm_start=True;, score=0.855 total time=   4.1s\n",
      "[CV 2/5] END bootstrap=True, criterion=gini, max_depth=25, max_features=none, min_samples_leaf=40, min_samples_split=5, n_estimators=140, oob_score=False, warm_start=False;, score=nan total time=   0.1s\n",
      "[CV 5/5] END bootstrap=True, criterion=gini, max_depth=25, max_features=none, min_samples_leaf=40, min_samples_split=5, n_estimators=140, oob_score=False, warm_start=False;, score=nan total time=   0.1s\n",
      "[CV 3/5] END bootstrap=False, criterion=log_loss, max_depth=8, max_features=sqrt, min_samples_leaf=10, min_samples_split=0.75, n_estimators=140, oob_score=False, warm_start=True;, score=nan total time=   0.1s\n",
      "[CV 1/5] END bootstrap=False, criterion=gini, max_depth=7, max_features=sqrt, min_samples_leaf=4.5, min_samples_split=9, n_estimators=150, oob_score=True, warm_start=True;, score=nan total time=   0.0s\n",
      "[CV 2/5] END bootstrap=False, criterion=gini, max_depth=7, max_features=sqrt, min_samples_leaf=4.5, min_samples_split=9, n_estimators=150, oob_score=True, warm_start=True;, score=nan total time=   0.0s\n",
      "[CV 3/5] END bootstrap=False, criterion=gini, max_depth=7, max_features=sqrt, min_samples_leaf=4.5, min_samples_split=9, n_estimators=150, oob_score=True, warm_start=True;, score=nan total time=   0.0s\n",
      "[CV 5/5] END bootstrap=False, criterion=gini, max_depth=7, max_features=sqrt, min_samples_leaf=4.5, min_samples_split=9, n_estimators=150, oob_score=True, warm_start=True;, score=nan total time=   0.0s\n",
      "[CV 3/5] END bootstrap=False, criterion=entropy, max_depth=23, max_features=0.2, min_samples_leaf=35, min_samples_split=60, n_estimators=100, oob_score=True, warm_start=False;, score=nan total time=   0.0s\n",
      "[CV 5/5] END bootstrap=False, criterion=entropy, max_depth=23, max_features=0.2, min_samples_leaf=35, min_samples_split=60, n_estimators=100, oob_score=True, warm_start=False;, score=nan total time=   0.0s\n",
      "[CV 2/5] END bootstrap=True, criterion=gini, max_depth=18, max_features=sqrt, min_samples_leaf=none, min_samples_split=0.33, n_estimators=140, oob_score=True, warm_start=False;, score=nan total time=   0.1s\n",
      "[CV 3/5] END bootstrap=True, criterion=gini, max_depth=18, max_features=sqrt, min_samples_leaf=none, min_samples_split=0.33, n_estimators=140, oob_score=True, warm_start=False;, score=nan total time=   0.1s\n",
      "[CV 3/5] END bootstrap=True, criterion=log_loss, max_depth=12, max_features=none, min_samples_leaf=9, min_samples_split=8, n_estimators=140, oob_score=True, warm_start=False;, score=nan total time=   0.1s\n",
      "[CV 4/5] END bootstrap=True, criterion=log_loss, max_depth=12, max_features=none, min_samples_leaf=9, min_samples_split=8, n_estimators=140, oob_score=True, warm_start=False;, score=nan total time=   0.1s\n",
      "[CV 4/5] END bootstrap=False, criterion=entropy, max_depth=24, max_features=none, min_samples_leaf=15, min_samples_split=1, n_estimators=1000, oob_score=False, warm_start=True;, score=nan total time=   0.6s\n",
      "[CV 5/5] END bootstrap=False, criterion=entropy, max_depth=24, max_features=none, min_samples_leaf=15, min_samples_split=1, n_estimators=1000, oob_score=False, warm_start=True;, score=nan total time=   0.6s\n",
      "[CV 2/5] END bootstrap=True, criterion=gini, max_depth=2, max_features=auto, min_samples_leaf=10, min_samples_split=30, n_estimators=500, oob_score=False, warm_start=True;, score=0.822 total time=   2.0s\n",
      "[CV 3/5] END bootstrap=True, criterion=gini, max_depth=2, max_features=auto, min_samples_leaf=10, min_samples_split=30, n_estimators=500, oob_score=False, warm_start=True;, score=0.809 total time=   1.9s\n",
      "[CV 4/5] END bootstrap=True, criterion=gini, max_depth=2, max_features=auto, min_samples_leaf=10, min_samples_split=30, n_estimators=500, oob_score=False, warm_start=True;, score=0.819 total time=   1.8s\n",
      "[CV 4/5] END bootstrap=True, criterion=gini, max_depth=6, max_features=0.4, min_samples_leaf=40, min_samples_split=8, n_estimators=700, oob_score=False, warm_start=True;, score=nan total time=   0.3s\n",
      "[CV 5/5] END bootstrap=True, criterion=gini, max_depth=6, max_features=0.4, min_samples_leaf=40, min_samples_split=8, n_estimators=700, oob_score=False, warm_start=True;, score=nan total time=   0.3s\n",
      "[CV 1/5] END bootstrap=False, criterion=entropy, max_depth=18, max_features=none, min_samples_leaf=3, min_samples_split=40, n_estimators=155, oob_score=True, warm_start=False;, score=nan total time=   0.0s\n",
      "[CV 2/5] END bootstrap=False, criterion=entropy, max_depth=18, max_features=none, min_samples_leaf=3, min_samples_split=40, n_estimators=155, oob_score=True, warm_start=False;, score=nan total time=   0.0s\n",
      "[CV 3/5] END bootstrap=False, criterion=entropy, max_depth=18, max_features=none, min_samples_leaf=3, min_samples_split=40, n_estimators=155, oob_score=True, warm_start=False;, score=nan total time=   0.0s\n",
      "[CV 4/5] END bootstrap=False, criterion=entropy, max_depth=18, max_features=none, min_samples_leaf=3, min_samples_split=40, n_estimators=155, oob_score=True, warm_start=False;, score=nan total time=   0.0s\n",
      "[CV 5/5] END bootstrap=False, criterion=entropy, max_depth=18, max_features=none, min_samples_leaf=3, min_samples_split=40, n_estimators=155, oob_score=True, warm_start=False;, score=nan total time=   0.0s\n",
      "[CV 1/5] END bootstrap=False, criterion=log_loss, max_depth=11, max_features=0.5, min_samples_leaf=0.01, min_samples_split=none, n_estimators=550, oob_score=False, warm_start=False;, score=nan total time=   0.3s\n",
      "[CV 2/5] END bootstrap=False, criterion=log_loss, max_depth=11, max_features=0.5, min_samples_leaf=0.01, min_samples_split=none, n_estimators=550, oob_score=False, warm_start=False;, score=nan total time=   0.3s\n",
      "[CV 3/5] END bootstrap=False, criterion=log_loss, max_depth=11, max_features=0.5, min_samples_leaf=0.01, min_samples_split=none, n_estimators=550, oob_score=False, warm_start=False;, score=nan total time=   0.3s\n",
      "[CV 4/5] END bootstrap=False, criterion=log_loss, max_depth=11, max_features=0.5, min_samples_leaf=0.01, min_samples_split=none, n_estimators=550, oob_score=False, warm_start=False;, score=nan total time=   0.3s\n",
      "[CV 5/5] END bootstrap=False, criterion=log_loss, max_depth=11, max_features=0.5, min_samples_leaf=0.01, min_samples_split=none, n_estimators=550, oob_score=False, warm_start=False;, score=nan total time=   0.3s\n",
      "[CV 1/5] END bootstrap=False, criterion=gini, max_depth=2, max_features=sqrt, min_samples_leaf=40, min_samples_split=0.01, n_estimators=165, oob_score=False, warm_start=True;, score=0.812 total time=   0.7s\n",
      "[CV 2/5] END bootstrap=False, criterion=gini, max_depth=2, max_features=sqrt, min_samples_leaf=40, min_samples_split=0.01, n_estimators=165, oob_score=False, warm_start=True;, score=0.818 total time=   0.7s\n",
      "[CV 5/5] END bootstrap=False, criterion=gini, max_depth=2, max_features=sqrt, min_samples_leaf=40, min_samples_split=0.01, n_estimators=165, oob_score=False, warm_start=True;, score=0.810 total time=   0.7s\n",
      "[CV 1/5] END bootstrap=True, criterion=gini, max_depth=12, max_features=auto, min_samples_leaf=60, min_samples_split=9, n_estimators=850, oob_score=True, warm_start=True;, score=0.859 total time=   6.6s\n",
      "[CV 5/5] END bootstrap=False, criterion=log_loss, max_depth=7, max_features=0.2, min_samples_leaf=9, min_samples_split=30, n_estimators=400, oob_score=False, warm_start=True;, score=nan total time=   0.3s\n",
      "[CV 1/5] END bootstrap=True, criterion=log_loss, max_depth=14, max_features=log2, min_samples_leaf=50, min_samples_split=50, n_estimators=450, oob_score=True, warm_start=True;, score=nan total time=   0.3s\n",
      "[CV 3/5] END bootstrap=True, criterion=log_loss, max_depth=14, max_features=log2, min_samples_leaf=50, min_samples_split=50, n_estimators=450, oob_score=True, warm_start=True;, score=nan total time=   0.2s\n",
      "[CV 5/5] END bootstrap=True, criterion=log_loss, max_depth=14, max_features=log2, min_samples_leaf=50, min_samples_split=50, n_estimators=450, oob_score=True, warm_start=True;, score=nan total time=   0.2s\n",
      "[CV 2/5] END bootstrap=True, criterion=gini, max_depth=7, max_features=0.2, min_samples_leaf=4, min_samples_split=0.5, n_estimators=500, oob_score=True, warm_start=True;, score=nan total time=   0.3s\n",
      "[CV 4/5] END bootstrap=True, criterion=gini, max_depth=7, max_features=0.2, min_samples_leaf=4, min_samples_split=0.5, n_estimators=500, oob_score=True, warm_start=True;, score=nan total time=   0.3s\n",
      "[CV 1/5] END bootstrap=True, criterion=gini, max_depth=22, max_features=0.3, min_samples_leaf=1, min_samples_split=5, n_estimators=700, oob_score=False, warm_start=True;, score=nan total time=   0.4s\n",
      "[CV 3/5] END bootstrap=True, criterion=gini, max_depth=22, max_features=0.3, min_samples_leaf=1, min_samples_split=5, n_estimators=700, oob_score=False, warm_start=True;, score=nan total time=   0.4s\n",
      "[CV 5/5] END bootstrap=True, criterion=gini, max_depth=22, max_features=0.3, min_samples_leaf=1, min_samples_split=5, n_estimators=700, oob_score=False, warm_start=True;, score=nan total time=   0.4s\n",
      "[CV 2/5] END bootstrap=True, criterion=log_loss, max_depth=20, max_features=0.3, min_samples_leaf=100, min_samples_split=7, n_estimators=500, oob_score=False, warm_start=False;, score=nan total time=   0.3s\n",
      "[CV 4/5] END bootstrap=True, criterion=log_loss, max_depth=20, max_features=0.3, min_samples_leaf=100, min_samples_split=7, n_estimators=500, oob_score=False, warm_start=False;, score=nan total time=   0.3s\n",
      "[CV 1/5] END bootstrap=True, criterion=gini, max_depth=8, max_features=0.2, min_samples_leaf=7, min_samples_split=5, n_estimators=500, oob_score=False, warm_start=False;, score=nan total time=   0.3s\n",
      "[CV 3/5] END bootstrap=True, criterion=gini, max_depth=8, max_features=0.2, min_samples_leaf=7, min_samples_split=5, n_estimators=500, oob_score=False, warm_start=False;, score=nan total time=   0.3s\n",
      "[CV 5/5] END bootstrap=True, criterion=gini, max_depth=8, max_features=0.2, min_samples_leaf=7, min_samples_split=5, n_estimators=500, oob_score=False, warm_start=False;, score=nan total time=   0.3s\n",
      "[CV 2/5] END bootstrap=True, criterion=entropy, max_depth=16, max_features=0.3, min_samples_leaf=0.33, min_samples_split=0.01, n_estimators=500, oob_score=False, warm_start=False;, score=nan total time=   0.3s\n",
      "[CV 4/5] END bootstrap=True, criterion=entropy, max_depth=16, max_features=0.3, min_samples_leaf=0.33, min_samples_split=0.01, n_estimators=500, oob_score=False, warm_start=False;, score=nan total time=   0.3s\n",
      "[CV 1/5] END bootstrap=True, criterion=gini, max_depth=None, max_features=0.5, min_samples_leaf=90, min_samples_split=2.5, n_estimators=300, oob_score=True, warm_start=True;, score=nan total time=   0.2s\n",
      "[CV 3/5] END bootstrap=True, criterion=gini, max_depth=None, max_features=0.5, min_samples_leaf=90, min_samples_split=2.5, n_estimators=300, oob_score=True, warm_start=True;, score=nan total time=   0.2s\n",
      "[CV 5/5] END bootstrap=True, criterion=gini, max_depth=None, max_features=0.5, min_samples_leaf=90, min_samples_split=2.5, n_estimators=300, oob_score=True, warm_start=True;, score=nan total time=   0.2s\n",
      "[CV 2/5] END bootstrap=True, criterion=gini, max_depth=8, max_features=log2, min_samples_leaf=3, min_samples_split=6, n_estimators=500, oob_score=True, warm_start=True;, score=0.862 total time=   4.7s\n",
      "[CV 5/5] END bootstrap=True, criterion=gini, max_depth=8, max_features=log2, min_samples_leaf=3, min_samples_split=6, n_estimators=500, oob_score=True, warm_start=True;, score=0.855 total time=   4.4s\n",
      "[CV 1/5] END bootstrap=True, criterion=gini, max_depth=22, max_features=log2, min_samples_leaf=0.01, min_samples_split=9, n_estimators=600, oob_score=False, warm_start=True;, score=0.858 total time=   4.1s\n",
      "[CV 5/5] END bootstrap=True, criterion=gini, max_depth=22, max_features=log2, min_samples_leaf=0.01, min_samples_split=9, n_estimators=600, oob_score=False, warm_start=True;, score=0.848 total time=   4.2s\n",
      "[CV 3/5] END bootstrap=True, criterion=entropy, max_depth=23, max_features=sqrt, min_samples_leaf=3, min_samples_split=3, n_estimators=600, oob_score=True, warm_start=True;, score=0.867 total time=   7.7s\n",
      "[CV 5/5] END bootstrap=False, criterion=entropy, max_depth=1, max_features=log2, min_samples_leaf=0.5, min_samples_split=35, n_estimators=140, oob_score=False, warm_start=False;, score=0.575 total time=   0.4s\n",
      "[CV 2/5] END bootstrap=False, criterion=entropy, max_depth=13, max_features=0.1, min_samples_leaf=0.75, min_samples_split=3, n_estimators=250, oob_score=False, warm_start=True;, score=nan total time=   0.1s\n",
      "[CV 4/5] END bootstrap=False, criterion=entropy, max_depth=13, max_features=0.1, min_samples_leaf=0.75, min_samples_split=3, n_estimators=250, oob_score=False, warm_start=True;, score=nan total time=   0.1s\n",
      "[CV 1/5] END bootstrap=False, criterion=entropy, max_depth=6, max_features=sqrt, min_samples_leaf=0.33, min_samples_split=0.05, n_estimators=150, oob_score=True, warm_start=True;, score=nan total time=   0.0s\n",
      "[CV 2/5] END bootstrap=False, criterion=entropy, max_depth=6, max_features=sqrt, min_samples_leaf=0.33, min_samples_split=0.05, n_estimators=150, oob_score=True, warm_start=True;, score=nan total time=   0.0s\n",
      "[CV 3/5] END bootstrap=False, criterion=entropy, max_depth=6, max_features=sqrt, min_samples_leaf=0.33, min_samples_split=0.05, n_estimators=150, oob_score=True, warm_start=True;, score=nan total time=   0.0s\n",
      "[CV 4/5] END bootstrap=False, criterion=entropy, max_depth=6, max_features=sqrt, min_samples_leaf=0.33, min_samples_split=0.05, n_estimators=150, oob_score=True, warm_start=True;, score=nan total time=   0.0s\n",
      "[CV 5/5] END bootstrap=False, criterion=entropy, max_depth=6, max_features=sqrt, min_samples_leaf=0.33, min_samples_split=0.05, n_estimators=150, oob_score=True, warm_start=True;, score=nan total time=   0.0s\n",
      "[CV 1/5] END bootstrap=False, criterion=log_loss, max_depth=20, max_features=0.4, min_samples_leaf=15, min_samples_split=40, n_estimators=750, oob_score=False, warm_start=False;, score=nan total time=   0.4s\n",
      "[CV 3/5] END bootstrap=False, criterion=log_loss, max_depth=20, max_features=0.4, min_samples_leaf=15, min_samples_split=40, n_estimators=750, oob_score=False, warm_start=False;, score=nan total time=   0.4s\n",
      "[CV 2/5] END bootstrap=True, criterion=gini, max_depth=22, max_features=log2, min_samples_leaf=0.01, min_samples_split=9, n_estimators=600, oob_score=False, warm_start=True;, score=0.852 total time=   4.1s\n",
      "[CV 1/5] END bootstrap=False, criterion=log_loss, max_depth=3, max_features=0.1, min_samples_leaf=1, min_samples_split=90, n_estimators=140, oob_score=True, warm_start=False;, score=nan total time=   0.0s\n",
      "[CV 2/5] END bootstrap=False, criterion=log_loss, max_depth=3, max_features=0.1, min_samples_leaf=1, min_samples_split=90, n_estimators=140, oob_score=True, warm_start=False;, score=nan total time=   0.0s\n",
      "[CV 3/5] END bootstrap=False, criterion=log_loss, max_depth=3, max_features=0.1, min_samples_leaf=1, min_samples_split=90, n_estimators=140, oob_score=True, warm_start=False;, score=nan total time=   0.0s\n",
      "[CV 4/5] END bootstrap=False, criterion=log_loss, max_depth=3, max_features=0.1, min_samples_leaf=1, min_samples_split=90, n_estimators=140, oob_score=True, warm_start=False;, score=nan total time=   0.0s\n",
      "[CV 5/5] END bootstrap=False, criterion=log_loss, max_depth=3, max_features=0.1, min_samples_leaf=1, min_samples_split=90, n_estimators=140, oob_score=True, warm_start=False;, score=nan total time=   0.0s\n",
      "[CV 1/5] END bootstrap=True, criterion=gini, max_depth=25, max_features=none, min_samples_leaf=40, min_samples_split=5, n_estimators=140, oob_score=False, warm_start=False;, score=nan total time=   0.1s\n",
      "[CV 4/5] END bootstrap=True, criterion=gini, max_depth=25, max_features=none, min_samples_leaf=40, min_samples_split=5, n_estimators=140, oob_score=False, warm_start=False;, score=nan total time=   0.1s\n",
      "[CV 2/5] END bootstrap=False, criterion=log_loss, max_depth=8, max_features=sqrt, min_samples_leaf=10, min_samples_split=0.75, n_estimators=140, oob_score=False, warm_start=True;, score=nan total time=   0.1s\n",
      "[CV 5/5] END bootstrap=False, criterion=log_loss, max_depth=8, max_features=sqrt, min_samples_leaf=10, min_samples_split=0.75, n_estimators=140, oob_score=False, warm_start=True;, score=nan total time=   0.1s\n",
      "[CV 4/5] END bootstrap=True, criterion=gini, max_depth=18, max_features=sqrt, min_samples_leaf=none, min_samples_split=0.33, n_estimators=140, oob_score=True, warm_start=False;, score=nan total time=   0.1s\n",
      "[CV 5/5] END bootstrap=True, criterion=gini, max_depth=18, max_features=sqrt, min_samples_leaf=none, min_samples_split=0.33, n_estimators=140, oob_score=True, warm_start=False;, score=nan total time=   0.1s\n",
      "[CV 5/5] END bootstrap=True, criterion=log_loss, max_depth=12, max_features=none, min_samples_leaf=9, min_samples_split=8, n_estimators=140, oob_score=True, warm_start=False;, score=nan total time=   0.1s\n",
      "[CV 1/5] END bootstrap=False, criterion=entropy, max_depth=24, max_features=none, min_samples_leaf=15, min_samples_split=1, n_estimators=1000, oob_score=False, warm_start=True;, score=nan total time=   0.6s\n",
      "[CV 1/5] END bootstrap=True, criterion=entropy, max_depth=24, max_features=0.4, min_samples_leaf=50, min_samples_split=0.01, n_estimators=800, oob_score=False, warm_start=True;, score=nan total time=   0.4s\n",
      "[CV 2/5] END bootstrap=True, criterion=entropy, max_depth=24, max_features=0.4, min_samples_leaf=50, min_samples_split=0.01, n_estimators=800, oob_score=False, warm_start=True;, score=nan total time=   0.4s\n",
      "[CV 1/5] END bootstrap=True, criterion=log_loss, max_depth=8, max_features=sqrt, min_samples_leaf=20, min_samples_split=10, n_estimators=600, oob_score=False, warm_start=False;, score=nan total time=   0.3s\n",
      "[CV 2/5] END bootstrap=True, criterion=log_loss, max_depth=8, max_features=sqrt, min_samples_leaf=20, min_samples_split=10, n_estimators=600, oob_score=False, warm_start=False;, score=nan total time=   0.3s\n",
      "[CV 3/5] END bootstrap=True, criterion=log_loss, max_depth=8, max_features=sqrt, min_samples_leaf=20, min_samples_split=10, n_estimators=600, oob_score=False, warm_start=False;, score=nan total time=   0.3s\n",
      "[CV 4/5] END bootstrap=True, criterion=log_loss, max_depth=8, max_features=sqrt, min_samples_leaf=20, min_samples_split=10, n_estimators=600, oob_score=False, warm_start=False;, score=nan total time=   0.3s\n",
      "[CV 5/5] END bootstrap=True, criterion=log_loss, max_depth=8, max_features=sqrt, min_samples_leaf=20, min_samples_split=10, n_estimators=600, oob_score=False, warm_start=False;, score=nan total time=   0.3s\n",
      "[CV 1/5] END bootstrap=False, criterion=log_loss, max_depth=7, max_features=0.5, min_samples_leaf=80, min_samples_split=2, n_estimators=130, oob_score=False, warm_start=False;, score=nan total time=   0.1s\n",
      "[CV 2/5] END bootstrap=False, criterion=log_loss, max_depth=7, max_features=0.5, min_samples_leaf=80, min_samples_split=2, n_estimators=130, oob_score=False, warm_start=False;, score=nan total time=   0.1s\n",
      "[CV 3/5] END bootstrap=False, criterion=log_loss, max_depth=7, max_features=0.5, min_samples_leaf=80, min_samples_split=2, n_estimators=130, oob_score=False, warm_start=False;, score=nan total time=   0.1s\n",
      "[CV 4/5] END bootstrap=False, criterion=log_loss, max_depth=7, max_features=0.5, min_samples_leaf=80, min_samples_split=2, n_estimators=130, oob_score=False, warm_start=False;, score=nan total time=   0.1s\n",
      "[CV 5/5] END bootstrap=False, criterion=log_loss, max_depth=7, max_features=0.5, min_samples_leaf=80, min_samples_split=2, n_estimators=130, oob_score=False, warm_start=False;, score=nan total time=   0.1s\n",
      "[CV 1/5] END bootstrap=True, criterion=entropy, max_depth=23, max_features=sqrt, min_samples_leaf=3, min_samples_split=3, n_estimators=600, oob_score=True, warm_start=True;, score=0.869 total time=   7.9s\n",
      "[CV 2/5] END bootstrap=True, criterion=entropy, max_depth=23, max_features=sqrt, min_samples_leaf=3, min_samples_split=3, n_estimators=600, oob_score=True, warm_start=True;, score=0.861 total time=   7.7s\n",
      "[CV 3/5] END bootstrap=False, criterion=entropy, max_depth=21, max_features=sqrt, min_samples_leaf=1, min_samples_split=6, n_estimators=200, oob_score=False, warm_start=True;, score=0.858 total time=   4.0s\n",
      "[CV 5/5] END bootstrap=False, criterion=entropy, max_depth=21, max_features=sqrt, min_samples_leaf=1, min_samples_split=6, n_estimators=200, oob_score=False, warm_start=True;, score=0.850 total time=   3.6s\n",
      "[CV 2/5] END bootstrap=False, criterion=entropy, max_depth=22, max_features=0.3, min_samples_leaf=10, min_samples_split=0.1, n_estimators=155, oob_score=False, warm_start=False;, score=nan total time=   0.1s\n",
      "[CV 3/5] END bootstrap=False, criterion=entropy, max_depth=22, max_features=0.3, min_samples_leaf=10, min_samples_split=0.1, n_estimators=155, oob_score=False, warm_start=False;, score=nan total time=   0.1s\n",
      "[CV 3/5] END bootstrap=True, criterion=gini, max_depth=20, max_features=0.2, min_samples_leaf=0.01, min_samples_split=1, n_estimators=800, oob_score=False, warm_start=False;, score=nan total time=   0.4s\n",
      "[CV 4/5] END bootstrap=True, criterion=gini, max_depth=20, max_features=0.2, min_samples_leaf=0.01, min_samples_split=1, n_estimators=800, oob_score=False, warm_start=False;, score=nan total time=   0.4s\n",
      "[CV 1/5] END bootstrap=True, criterion=gini, max_depth=22, max_features=0.1, min_samples_leaf=0.75, min_samples_split=70, n_estimators=800, oob_score=True, warm_start=False;, score=nan total time=   0.4s\n",
      "[CV 2/5] END bootstrap=True, criterion=gini, max_depth=22, max_features=0.1, min_samples_leaf=0.75, min_samples_split=70, n_estimators=800, oob_score=True, warm_start=False;, score=nan total time=   0.4s\n",
      "[CV 2/5] END bootstrap=True, criterion=gini, max_depth=13, max_features=log2, min_samples_leaf=8, min_samples_split=30, n_estimators=750, oob_score=True, warm_start=False;, score=0.862 total time=   7.4s\n",
      "[CV 3/5] END bootstrap=True, criterion=gini, max_depth=13, max_features=log2, min_samples_leaf=8, min_samples_split=30, n_estimators=750, oob_score=True, warm_start=False;, score=0.867 total time=   7.5s\n",
      "[CV 4/5] END bootstrap=True, criterion=gini, max_depth=12, max_features=auto, min_samples_leaf=60, min_samples_split=9, n_estimators=850, oob_score=True, warm_start=True;, score=0.849 total time=   6.8s\n",
      "[CV 5/5] END bootstrap=True, criterion=gini, max_depth=12, max_features=auto, min_samples_leaf=60, min_samples_split=9, n_estimators=850, oob_score=True, warm_start=True;, score=0.848 total time=   7.0s\n",
      "[CV 4/5] END bootstrap=False, criterion=entropy, max_depth=1, max_features=log2, min_samples_leaf=0.5, min_samples_split=35, n_estimators=140, oob_score=False, warm_start=False;, score=0.578 total time=   0.4s\n",
      "[CV 1/5] END bootstrap=False, criterion=entropy, max_depth=13, max_features=0.1, min_samples_leaf=0.75, min_samples_split=3, n_estimators=250, oob_score=False, warm_start=True;, score=nan total time=   0.1s\n",
      "[CV 3/5] END bootstrap=False, criterion=entropy, max_depth=13, max_features=0.1, min_samples_leaf=0.75, min_samples_split=3, n_estimators=250, oob_score=False, warm_start=True;, score=nan total time=   0.1s\n",
      "[CV 5/5] END bootstrap=False, criterion=entropy, max_depth=13, max_features=0.1, min_samples_leaf=0.75, min_samples_split=3, n_estimators=250, oob_score=False, warm_start=True;, score=nan total time=   0.1s\n",
      "[CV 2/5] END bootstrap=False, criterion=log_loss, max_depth=20, max_features=0.4, min_samples_leaf=15, min_samples_split=40, n_estimators=750, oob_score=False, warm_start=False;, score=nan total time=   0.4s\n",
      "[CV 5/5] END bootstrap=False, criterion=log_loss, max_depth=20, max_features=0.4, min_samples_leaf=15, min_samples_split=40, n_estimators=750, oob_score=False, warm_start=False;, score=nan total time=   0.4s\n",
      "[CV 4/5] END bootstrap=True, criterion=gini, max_depth=22, max_features=log2, min_samples_leaf=0.01, min_samples_split=9, n_estimators=600, oob_score=False, warm_start=True;, score=0.848 total time=   4.1s\n",
      "[CV 3/5] END bootstrap=True, criterion=gini, max_depth=25, max_features=none, min_samples_leaf=40, min_samples_split=5, n_estimators=140, oob_score=False, warm_start=False;, score=nan total time=   0.1s\n",
      "[CV 1/5] END bootstrap=False, criterion=log_loss, max_depth=8, max_features=sqrt, min_samples_leaf=10, min_samples_split=0.75, n_estimators=140, oob_score=False, warm_start=True;, score=nan total time=   0.1s\n",
      "[CV 4/5] END bootstrap=False, criterion=log_loss, max_depth=8, max_features=sqrt, min_samples_leaf=10, min_samples_split=0.75, n_estimators=140, oob_score=False, warm_start=True;, score=nan total time=   0.1s\n",
      "[CV 4/5] END bootstrap=False, criterion=gini, max_depth=7, max_features=sqrt, min_samples_leaf=4.5, min_samples_split=9, n_estimators=150, oob_score=True, warm_start=True;, score=nan total time=   0.0s\n",
      "[CV 1/5] END bootstrap=False, criterion=entropy, max_depth=23, max_features=0.2, min_samples_leaf=35, min_samples_split=60, n_estimators=100, oob_score=True, warm_start=False;, score=nan total time=   0.0s\n",
      "[CV 2/5] END bootstrap=False, criterion=entropy, max_depth=23, max_features=0.2, min_samples_leaf=35, min_samples_split=60, n_estimators=100, oob_score=True, warm_start=False;, score=nan total time=   0.0s\n",
      "[CV 4/5] END bootstrap=False, criterion=entropy, max_depth=23, max_features=0.2, min_samples_leaf=35, min_samples_split=60, n_estimators=100, oob_score=True, warm_start=False;, score=nan total time=   0.0s\n",
      "[CV 1/5] END bootstrap=True, criterion=gini, max_depth=18, max_features=sqrt, min_samples_leaf=none, min_samples_split=0.33, n_estimators=140, oob_score=True, warm_start=False;, score=nan total time=   0.1s\n",
      "[CV 1/5] END bootstrap=True, criterion=log_loss, max_depth=12, max_features=none, min_samples_leaf=9, min_samples_split=8, n_estimators=140, oob_score=True, warm_start=False;, score=nan total time=   0.1s\n",
      "[CV 2/5] END bootstrap=True, criterion=log_loss, max_depth=12, max_features=none, min_samples_leaf=9, min_samples_split=8, n_estimators=140, oob_score=True, warm_start=False;, score=nan total time=   0.1s\n",
      "[CV 2/5] END bootstrap=False, criterion=entropy, max_depth=24, max_features=none, min_samples_leaf=15, min_samples_split=1, n_estimators=1000, oob_score=False, warm_start=True;, score=nan total time=   0.5s\n",
      "[CV 3/5] END bootstrap=False, criterion=entropy, max_depth=24, max_features=none, min_samples_leaf=15, min_samples_split=1, n_estimators=1000, oob_score=False, warm_start=True;, score=nan total time=   0.5s\n",
      "[CV 3/5] END bootstrap=True, criterion=entropy, max_depth=24, max_features=0.4, min_samples_leaf=50, min_samples_split=0.01, n_estimators=800, oob_score=False, warm_start=True;, score=nan total time=   0.4s\n",
      "[CV 4/5] END bootstrap=True, criterion=entropy, max_depth=24, max_features=0.4, min_samples_leaf=50, min_samples_split=0.01, n_estimators=800, oob_score=False, warm_start=True;, score=nan total time=   0.4s\n",
      "[CV 5/5] END bootstrap=True, criterion=entropy, max_depth=24, max_features=0.4, min_samples_leaf=50, min_samples_split=0.01, n_estimators=800, oob_score=False, warm_start=True;, score=nan total time=   0.4s\n",
      "[CV 1/5] END bootstrap=True, criterion=gini, max_depth=2, max_features=auto, min_samples_leaf=10, min_samples_split=30, n_estimators=500, oob_score=False, warm_start=True;, score=0.817 total time=   2.0s\n",
      "[CV 2/5] END bootstrap=True, criterion=entropy, max_depth=9, max_features=auto, min_samples_leaf=10, min_samples_split=20, n_estimators=800, oob_score=True, warm_start=True;, score=0.864 total time=   8.0s\n",
      "[CV 3/5] END bootstrap=True, criterion=entropy, max_depth=9, max_features=auto, min_samples_leaf=10, min_samples_split=20, n_estimators=800, oob_score=True, warm_start=True;, score=0.865 total time=   8.2s\n",
      "[CV 4/5] END bootstrap=True, criterion=entropy, max_depth=9, max_features=auto, min_samples_leaf=10, min_samples_split=20, n_estimators=800, oob_score=True, warm_start=True;, score=0.857 total time=   8.2s\n",
      "[CV 5/5] END bootstrap=True, criterion=entropy, max_depth=9, max_features=auto, min_samples_leaf=10, min_samples_split=20, n_estimators=800, oob_score=True, warm_start=True;, score=0.857 total time=   8.2s\n",
      "[CV 1/5] END bootstrap=False, criterion=log_loss, max_depth=9, max_features=auto, min_samples_leaf=0.25, min_samples_split=40, n_estimators=140, oob_score=False, warm_start=True;, score=nan total time=   0.1s\n",
      "[CV 2/5] END bootstrap=False, criterion=log_loss, max_depth=9, max_features=auto, min_samples_leaf=0.25, min_samples_split=40, n_estimators=140, oob_score=False, warm_start=True;, score=nan total time=   0.1s\n",
      "[CV 3/5] END bootstrap=False, criterion=log_loss, max_depth=9, max_features=auto, min_samples_leaf=0.25, min_samples_split=40, n_estimators=140, oob_score=False, warm_start=True;, score=nan total time=   0.1s\n",
      "[CV 5/5] END bootstrap=True, criterion=gini, max_depth=2, max_features=auto, min_samples_leaf=10, min_samples_split=30, n_estimators=500, oob_score=False, warm_start=True;, score=0.815 total time=   1.8s\n",
      "[CV 1/5] END bootstrap=False, criterion=gini, max_depth=17, max_features=0.5, min_samples_leaf=0.25, min_samples_split=0.75, n_estimators=450, oob_score=True, warm_start=False;, score=nan total time=   0.0s\n",
      "[CV 2/5] END bootstrap=False, criterion=gini, max_depth=17, max_features=0.5, min_samples_leaf=0.25, min_samples_split=0.75, n_estimators=450, oob_score=True, warm_start=False;, score=nan total time=   0.0s\n",
      "[CV 3/5] END bootstrap=False, criterion=gini, max_depth=17, max_features=0.5, min_samples_leaf=0.25, min_samples_split=0.75, n_estimators=450, oob_score=True, warm_start=False;, score=nan total time=   0.0s\n",
      "[CV 4/5] END bootstrap=False, criterion=gini, max_depth=17, max_features=0.5, min_samples_leaf=0.25, min_samples_split=0.75, n_estimators=450, oob_score=True, warm_start=False;, score=nan total time=   0.0s\n",
      "[CV 5/5] END bootstrap=False, criterion=gini, max_depth=17, max_features=0.5, min_samples_leaf=0.25, min_samples_split=0.75, n_estimators=450, oob_score=True, warm_start=False;, score=nan total time=   0.0s\n",
      "[CV 1/5] END bootstrap=False, criterion=entropy, max_depth=8, max_features=0.1, min_samples_leaf=3, min_samples_split=35, n_estimators=800, oob_score=False, warm_start=True;, score=nan total time=   0.4s\n",
      "[CV 2/5] END bootstrap=False, criterion=entropy, max_depth=8, max_features=0.1, min_samples_leaf=3, min_samples_split=35, n_estimators=800, oob_score=False, warm_start=True;, score=nan total time=   0.4s\n",
      "[CV 3/5] END bootstrap=False, criterion=entropy, max_depth=8, max_features=0.1, min_samples_leaf=3, min_samples_split=35, n_estimators=800, oob_score=False, warm_start=True;, score=nan total time=   0.4s\n",
      "[CV 4/5] END bootstrap=False, criterion=entropy, max_depth=8, max_features=0.1, min_samples_leaf=3, min_samples_split=35, n_estimators=800, oob_score=False, warm_start=True;, score=nan total time=   0.4s\n",
      "[CV 5/5] END bootstrap=False, criterion=entropy, max_depth=8, max_features=0.1, min_samples_leaf=3, min_samples_split=35, n_estimators=800, oob_score=False, warm_start=True;, score=nan total time=   0.4s\n",
      "[CV 1/5] END bootstrap=False, criterion=gini, max_depth=11, max_features=none, min_samples_leaf=100, min_samples_split=10, n_estimators=120, oob_score=True, warm_start=True;, score=nan total time=   0.0s\n",
      "[CV 2/5] END bootstrap=False, criterion=gini, max_depth=11, max_features=none, min_samples_leaf=100, min_samples_split=10, n_estimators=120, oob_score=True, warm_start=True;, score=nan total time=   0.0s\n",
      "[CV 3/5] END bootstrap=False, criterion=gini, max_depth=11, max_features=none, min_samples_leaf=100, min_samples_split=10, n_estimators=120, oob_score=True, warm_start=True;, score=nan total time=   0.0s\n",
      "[CV 4/5] END bootstrap=False, criterion=gini, max_depth=11, max_features=none, min_samples_leaf=100, min_samples_split=10, n_estimators=120, oob_score=True, warm_start=True;, score=nan total time=   0.0s\n",
      "[CV 5/5] END bootstrap=False, criterion=gini, max_depth=11, max_features=none, min_samples_leaf=100, min_samples_split=10, n_estimators=120, oob_score=True, warm_start=True;, score=nan total time=   0.0s\n",
      "[CV 1/5] END bootstrap=True, criterion=entropy, max_depth=13, max_features=0.2, min_samples_leaf=0.33, min_samples_split=80, n_estimators=350, oob_score=False, warm_start=False;, score=nan total time=   0.2s\n",
      "[CV 2/5] END bootstrap=True, criterion=entropy, max_depth=13, max_features=0.2, min_samples_leaf=0.33, min_samples_split=80, n_estimators=350, oob_score=False, warm_start=False;, score=nan total time=   0.2s\n",
      "[CV 3/5] END bootstrap=True, criterion=entropy, max_depth=13, max_features=0.2, min_samples_leaf=0.33, min_samples_split=80, n_estimators=350, oob_score=False, warm_start=False;, score=nan total time=   0.2s\n",
      "[CV 4/5] END bootstrap=True, criterion=entropy, max_depth=13, max_features=0.2, min_samples_leaf=0.33, min_samples_split=80, n_estimators=350, oob_score=False, warm_start=False;, score=nan total time=   0.2s\n",
      "[CV 5/5] END bootstrap=True, criterion=entropy, max_depth=13, max_features=0.2, min_samples_leaf=0.33, min_samples_split=80, n_estimators=350, oob_score=False, warm_start=False;, score=nan total time=   0.2s\n",
      "[CV 1/5] END bootstrap=True, criterion=gini, max_depth=None, max_features=none, min_samples_leaf=0.25, min_samples_split=35, n_estimators=140, oob_score=True, warm_start=False;, score=nan total time=   0.1s\n",
      "[CV 2/5] END bootstrap=True, criterion=gini, max_depth=None, max_features=none, min_samples_leaf=0.25, min_samples_split=35, n_estimators=140, oob_score=True, warm_start=False;, score=nan total time=   0.1s\n",
      "[CV 3/5] END bootstrap=True, criterion=gini, max_depth=None, max_features=none, min_samples_leaf=0.25, min_samples_split=35, n_estimators=140, oob_score=True, warm_start=False;, score=nan total time=   0.1s\n",
      "[CV 4/5] END bootstrap=True, criterion=gini, max_depth=None, max_features=none, min_samples_leaf=0.25, min_samples_split=35, n_estimators=140, oob_score=True, warm_start=False;, score=nan total time=   0.1s\n",
      "[CV 5/5] END bootstrap=True, criterion=gini, max_depth=None, max_features=none, min_samples_leaf=0.25, min_samples_split=35, n_estimators=140, oob_score=True, warm_start=False;, score=nan total time=   0.1s\n",
      "[CV 1/5] END bootstrap=True, criterion=entropy, max_depth=15, max_features=0.1, min_samples_leaf=70, min_samples_split=5, n_estimators=500, oob_score=True, warm_start=False;, score=nan total time=   0.2s\n",
      "[CV 2/5] END bootstrap=True, criterion=entropy, max_depth=15, max_features=0.1, min_samples_leaf=70, min_samples_split=5, n_estimators=500, oob_score=True, warm_start=False;, score=nan total time=   0.2s\n",
      "[CV 3/5] END bootstrap=True, criterion=entropy, max_depth=15, max_features=0.1, min_samples_leaf=70, min_samples_split=5, n_estimators=500, oob_score=True, warm_start=False;, score=nan total time=   0.2s\n",
      "[CV 4/5] END bootstrap=True, criterion=entropy, max_depth=15, max_features=0.1, min_samples_leaf=70, min_samples_split=5, n_estimators=500, oob_score=True, warm_start=False;, score=nan total time=   0.2s\n",
      "[CV 5/5] END bootstrap=True, criterion=entropy, max_depth=15, max_features=0.1, min_samples_leaf=70, min_samples_split=5, n_estimators=500, oob_score=True, warm_start=False;, score=nan total time=   0.2s\n",
      "[CV 1/5] END bootstrap=False, criterion=entropy, max_depth=21, max_features=sqrt, min_samples_leaf=1, min_samples_split=6, n_estimators=200, oob_score=False, warm_start=True;, score=0.858 total time=   3.5s\n",
      "[CV 2/5] END bootstrap=False, criterion=entropy, max_depth=21, max_features=sqrt, min_samples_leaf=1, min_samples_split=6, n_estimators=200, oob_score=False, warm_start=True;, score=0.854 total time=   3.6s\n",
      "[CV 4/5] END bootstrap=False, criterion=entropy, max_depth=21, max_features=sqrt, min_samples_leaf=1, min_samples_split=6, n_estimators=200, oob_score=False, warm_start=True;, score=0.847 total time=   3.4s\n",
      "[CV 1/5] END bootstrap=True, criterion=gini, max_depth=25, max_features=sqrt, min_samples_leaf=15, min_samples_split=10, n_estimators=900, oob_score=True, warm_start=False;, score=0.870 total time=   8.4s\n",
      "[CV 3/5] END bootstrap=True, criterion=gini, max_depth=25, max_features=sqrt, min_samples_leaf=15, min_samples_split=10, n_estimators=900, oob_score=True, warm_start=False;, score=0.866 total time=   8.6s\n",
      "[CV 2/5] END bootstrap=True, criterion=entropy, max_depth=3, max_features=sqrt, min_samples_leaf=20, min_samples_split=0.01, n_estimators=800, oob_score=True, warm_start=True;, score=0.834 total time=   4.7s\n",
      "[CV 1/5] END bootstrap=False, criterion=log_loss, max_depth=7, max_features=0.3, min_samples_leaf=none, min_samples_split=0.5, n_estimators=140, oob_score=False, warm_start=False;, score=nan total time=   0.1s\n",
      "[CV 2/5] END bootstrap=False, criterion=log_loss, max_depth=7, max_features=0.3, min_samples_leaf=none, min_samples_split=0.5, n_estimators=140, oob_score=False, warm_start=False;, score=nan total time=   0.1s\n",
      "[CV 3/5] END bootstrap=False, criterion=log_loss, max_depth=7, max_features=0.3, min_samples_leaf=none, min_samples_split=0.5, n_estimators=140, oob_score=False, warm_start=False;, score=nan total time=   0.1s"
     ]
    },
    {
     "data": {
      "text/plain": [
       "RandomizedSearchCV(cv=5, estimator=RandomForestClassifier(random_state=0),\n",
       "                   n_iter=100, n_jobs=-1,\n",
       "                   param_distributions={'bootstrap': [True, False],\n",
       "                                        'criterion': ['gini', 'entropy',\n",
       "                                                      'log_loss'],\n",
       "                                        'max_depth': [None, 1, 2, 3, 4, 5, 6, 7,\n",
       "                                                      8, 9, 10, 11, 12, 13, 14,\n",
       "                                                      15, 16, 17, 18, 19, 20,\n",
       "                                                      21, 22, 23, 24, 25],\n",
       "                                        'max_features': ['sqrt', 'log2', 'none',\n",
       "                                                         'auto', '0.1', '0.2',\n",
       "                                                         '0.3', '0.4', '0.5'],\n",
       "                                        'min_sam...\n",
       "                                                             9, 10, 15, 20, 25,\n",
       "                                                             30, 35, 40, 50, 60,\n",
       "                                                             70, 80, 90, ...],\n",
       "                                        'min_samples_split': [0.01, 0.05, 0.1,\n",
       "                                                              0.25, 0.33, 0.5,\n",
       "                                                              0.75, 1, 2, 2.5,\n",
       "                                                              3, 3.5, 4, 5, 6,\n",
       "                                                              7, 8, 9, 10, 15,\n",
       "                                                              20, 25, 30, 35,\n",
       "                                                              40, 50, 60, 70,\n",
       "                                                              80, 90, ...],\n",
       "                                        'n_estimators': [100, 130, 160, 150,\n",
       "                                                         140, 120, 165, 155,\n",
       "                                                         200, 250, 300, 350,\n",
       "                                                         400, 450, 500, 550,\n",
       "                                                         600, 650, 700, 750,\n",
       "                                                         800, 850, 900, 1000],\n",
       "                                        'oob_score': [True, False],\n",
       "                                        'warm_start': [True, False]},\n",
       "                   scoring='roc_auc', verbose=3)"
      ]
     },
     "execution_count": 32,
     "metadata": {},
     "output_type": "execute_result"
    }
   ],
   "source": [
    "#Defining the Parameters \n",
    "params = {'n_estimators':[100, 130, 160, 150, 140, 120, 165, 155, 200, 250, 300, 350, 400, 450, 500, 550, 600, 650, 700, 750, 800, 850, 900, 1000],\n",
    "          'criterion': ['gini', 'entropy', 'log_loss'],\n",
    "          'max_features': ['sqrt', 'log2', 'none', 'auto', '0.1', '0.2', '0.3', '0.4', '0.5'],\n",
    "          'bootstrap': [True, False],\n",
    "          'oob_score': [True, False],\n",
    "          'warm_start': [True, False],\n",
    "          'max_depth': [None, 1, 2, 3, 4, 5, 6, 7, 8, 9, 10, 11, 12, 13, 14, 15, 16, 17, 18, 19, 20, 21, 22, 23, 24, 25],\n",
    "          'min_samples_split': [0.01, 0.05, 0.10, 0.25, 0.33, 0.5, 0.75, 1, 2, 2.5, 3, 3.5, 4, 5, 6, 7, 8, 9, 10, 15, 20, 25, 30, 35, 40, 50, 60, 70, 80, 90, 100, 'none'],\n",
    "          'min_samples_leaf': [0.01, 0.05, 0.10, 0.25, 0.33, 0.5, 0.75, 1, 2, 3, 3.5, 4, 4.5, 5, 6, 7, 8, 9, 10, 15, 20, 25, 30, 35, 40, 50, 60, 70, 80, 90, 100, 'none']}\n",
    "\n",
    "#Tuning the randomized Search CV\n",
    "rand_search = RandomizedSearchCV(estimator=clf_rf,\n",
    "                                param_distributions=params,\n",
    "                                n_iter=100,\n",
    "                                scoring='roc_auc',\n",
    "                                n_jobs=-1,\n",
    "                                cv=5,\n",
    "                                verbose=3)\n",
    "\n",
    "#Training the Model\n",
    "rand_search.fit(X_train, y_train)"
   ]
  },
  {
   "cell_type": "code",
   "execution_count": 33,
   "id": "25ffeff6",
   "metadata": {
    "execution": {
     "iopub.execute_input": "2023-02-06T16:30:51.736530Z",
     "iopub.status.busy": "2023-02-06T16:30:51.736177Z",
     "iopub.status.idle": "2023-02-06T16:30:51.741840Z",
     "shell.execute_reply": "2023-02-06T16:30:51.741043Z"
    },
    "papermill": {
     "duration": 0.026771,
     "end_time": "2023-02-06T16:30:51.744428",
     "exception": false,
     "start_time": "2023-02-06T16:30:51.717657",
     "status": "completed"
    },
    "tags": []
   },
   "outputs": [
    {
     "name": "stdout",
     "output_type": "stream",
     "text": [
      "Best Est:   RandomForestClassifier(criterion='entropy', max_depth=9, min_samples_leaf=10,\n",
      "                       min_samples_split=20, n_estimators=800, oob_score=True,\n",
      "                       random_state=0, warm_start=True)\n",
      "Best Score:  0.8632938771935945\n",
      "Best Params:  {'warm_start': True, 'oob_score': True, 'n_estimators': 800, 'min_samples_split': 20, 'min_samples_leaf': 10, 'max_features': 'auto', 'max_depth': 9, 'criterion': 'entropy', 'bootstrap': True}\n"
     ]
    }
   ],
   "source": [
    "#Getting the best estimators, score & parameters\n",
    "print(f'Best Est:  ',rand_search.best_estimator_)\n",
    "print(f'Best Score: ',rand_search.best_score_)\n",
    "print(f'Best Params: ', rand_search.best_params_)"
   ]
  },
  {
   "cell_type": "markdown",
   "id": "dcede189",
   "metadata": {
    "execution": {
     "iopub.execute_input": "2023-02-06T14:20:54.812323Z",
     "iopub.status.busy": "2023-02-06T14:20:54.811487Z",
     "iopub.status.idle": "2023-02-06T14:20:54.817299Z",
     "shell.execute_reply": "2023-02-06T14:20:54.815876Z",
     "shell.execute_reply.started": "2023-02-06T14:20:54.812284Z"
    },
    "papermill": {
     "duration": 0.016837,
     "end_time": "2023-02-06T16:30:51.779680",
     "exception": false,
     "start_time": "2023-02-06T16:30:51.762843",
     "status": "completed"
    },
    "tags": []
   },
   "source": [
    "# Final Model"
   ]
  },
  {
   "cell_type": "code",
   "execution_count": 34,
   "id": "23abf5aa",
   "metadata": {
    "execution": {
     "iopub.execute_input": "2023-02-06T16:30:51.815834Z",
     "iopub.status.busy": "2023-02-06T16:30:51.815517Z",
     "iopub.status.idle": "2023-02-06T16:31:05.032068Z",
     "shell.execute_reply": "2023-02-06T16:31:05.031381Z"
    },
    "papermill": {
     "duration": 13.237227,
     "end_time": "2023-02-06T16:31:05.033928",
     "exception": false,
     "start_time": "2023-02-06T16:30:51.796701",
     "status": "completed"
    },
    "tags": []
   },
   "outputs": [
    {
     "data": {
      "text/html": [
       "<div>\n",
       "<style scoped>\n",
       "    .dataframe tbody tr th:only-of-type {\n",
       "        vertical-align: middle;\n",
       "    }\n",
       "\n",
       "    .dataframe tbody tr th {\n",
       "        vertical-align: top;\n",
       "    }\n",
       "\n",
       "    .dataframe thead th {\n",
       "        text-align: right;\n",
       "    }\n",
       "</style>\n",
       "<table border=\"1\" class=\"dataframe\">\n",
       "  <thead>\n",
       "    <tr style=\"text-align: right;\">\n",
       "      <th></th>\n",
       "      <th>Model</th>\n",
       "      <th>Accuracy_Score</th>\n",
       "      <th>F1_Score</th>\n",
       "      <th>Recall_Score</th>\n",
       "      <th>Precision_Score</th>\n",
       "    </tr>\n",
       "  </thead>\n",
       "  <tbody>\n",
       "    <tr>\n",
       "      <th>0</th>\n",
       "      <td>Logistic Regression</td>\n",
       "      <td>0.8110</td>\n",
       "      <td>0.336842</td>\n",
       "      <td>0.237037</td>\n",
       "      <td>0.581818</td>\n",
       "    </tr>\n",
       "    <tr>\n",
       "      <th>1</th>\n",
       "      <td>Random Forest Classifier</td>\n",
       "      <td>0.8670</td>\n",
       "      <td>0.613372</td>\n",
       "      <td>0.520988</td>\n",
       "      <td>0.745583</td>\n",
       "    </tr>\n",
       "    <tr>\n",
       "      <th>2</th>\n",
       "      <td>GXboost</td>\n",
       "      <td>0.8545</td>\n",
       "      <td>0.599725</td>\n",
       "      <td>0.538272</td>\n",
       "      <td>0.677019</td>\n",
       "    </tr>\n",
       "    <tr>\n",
       "      <th>3</th>\n",
       "      <td>Final Hypertuned Random Forest Classifier</td>\n",
       "      <td>0.8110</td>\n",
       "      <td>0.336842</td>\n",
       "      <td>0.237037</td>\n",
       "      <td>0.581818</td>\n",
       "    </tr>\n",
       "  </tbody>\n",
       "</table>\n",
       "</div>"
      ],
      "text/plain": [
       "                                       Model  Accuracy_Score  F1_Score  \\\n",
       "0                        Logistic Regression          0.8110  0.336842   \n",
       "1                   Random Forest Classifier          0.8670  0.613372   \n",
       "2                                    GXboost          0.8545  0.599725   \n",
       "3  Final Hypertuned Random Forest Classifier          0.8110  0.336842   \n",
       "\n",
       "   Recall_Score  Precision_Score  \n",
       "0      0.237037         0.581818  \n",
       "1      0.520988         0.745583  \n",
       "2      0.538272         0.677019  \n",
       "3      0.237037         0.581818  "
      ]
     },
     "execution_count": 34,
     "metadata": {},
     "output_type": "execute_result"
    }
   ],
   "source": [
    "# Model Building\n",
    "final_clf = RandomForestClassifier(bootstrap=False, criterion='entropy', max_depth=19,\n",
    "                       min_samples_leaf=5, min_samples_split=35,\n",
    "                       n_estimators=900, random_state=0, warm_start=True)\n",
    "final_clf.fit(X_train, y_train)                 #Training the Model with X_train & y_train\n",
    "pred = clf_lr.predict(X_test)                #Predicting the X_test \n",
    "\n",
    "#Testing the model accuracy with different paramtes\n",
    "acc  = accuracy_score(y_test, pred)   # Getting the Accuracy Score \n",
    "f1   = f1_score(y_test, pred)         # Getting the f1 Score \n",
    "rec  = recall_score(y_test, pred)     # Getting the recall Score \n",
    "prec = precision_score(y_test, pred)  # Getting the Precision Score \n",
    "cm   = confusion_matrix(y_test, pred) # Getting the confusion Matrix \n",
    "\n",
    "#Defining a DataFrame \n",
    "model_results = pd.DataFrame([['Final Hypertuned Random Forest Classifier', acc, f1, rec, prec]],\n",
    "                      columns=['Model', 'Accuracy_Score', 'F1_Score', 'Recall_Score', 'Precision_Score'])\n",
    "\n",
    "results = results.append(model_results, ignore_index=True)\n",
    "#Printing the Model Results with different Metrics\n",
    "results"
   ]
  },
  {
   "cell_type": "code",
   "execution_count": 35,
   "id": "435a31fb",
   "metadata": {
    "execution": {
     "iopub.execute_input": "2023-02-06T16:31:05.083560Z",
     "iopub.status.busy": "2023-02-06T16:31:05.083181Z",
     "iopub.status.idle": "2023-02-06T16:31:05.262682Z",
     "shell.execute_reply": "2023-02-06T16:31:05.261969Z"
    },
    "papermill": {
     "duration": 0.206833,
     "end_time": "2023-02-06T16:31:05.265199",
     "exception": false,
     "start_time": "2023-02-06T16:31:05.058366",
     "status": "completed"
    },
    "tags": []
   },
   "outputs": [
    {
     "data": {
      "image/png": "[encoded data removed]",
      "text/plain": [
       "<Figure size 432x288 with 2 Axes>"
      ]
     },
     "metadata": {
      "needs_background": "light"
     },
     "output_type": "display_data"
    }
   ],
   "source": [
    "#Printing Confusion Matrix\n",
    "class_names = ['Positive', 'Negative']\n",
    "cm = confusion_matrix(y_test, pred)\n",
    "\n",
    "fig, ax = plt.subplots()\n",
    "im = ax.imshow(cm, interpolation='nearest', cmap=plt.cm.Blues)\n",
    "ax.figure.colorbar(im, ax=ax)\n",
    "ax.set(xticks=np.arange(cm.shape[1]),\n",
    "       yticks=np.arange(cm.shape[0]),\n",
    "       xticklabels=class_names, yticklabels=class_names,\n",
    "       title='Confusion Matrix',\n",
    "       ylabel='True label',\n",
    "       xlabel='Predicted label')\n",
    "\n",
    "# Loop over data dimensions and create text annotations.\n",
    "thresh = cm.max() / 2.\n",
    "for i in range(cm.shape[0]):\n",
    "    for j in range(cm.shape[1]):\n",
    "        ax.text(j, i, format(cm[i, j]),\n",
    "                ha=\"center\", va=\"center\",\n",
    "                color=\"white\" if cm[i, j] > thresh else \"black\")\n",
    "fig.tight_layout()\n",
    "plt.show()"
   ]
  },
  {
   "cell_type": "code",
   "execution_count": 36,
   "id": "70fd7c30",
   "metadata": {
    "execution": {
     "iopub.execute_input": "2023-02-06T16:31:05.304729Z",
     "iopub.status.busy": "2023-02-06T16:31:05.304243Z",
     "iopub.status.idle": "2023-02-06T16:33:03.650777Z",
     "shell.execute_reply": "2023-02-06T16:33:03.649818Z"
    },
    "papermill": {
     "duration": 118.385343,
     "end_time": "2023-02-06T16:33:03.671187",
     "exception": false,
     "start_time": "2023-02-06T16:31:05.285844",
     "status": "completed"
    },
    "tags": []
   },
   "outputs": [
    {
     "name": "stdout",
     "output_type": "stream",
     "text": [
      "Accuracy is: 86.39999999999999\n",
      "Standard Deviation is: 0.9934158243152772\n"
     ]
    }
   ],
   "source": [
    "# Cross Validation\n",
    "accuracies = cross_val_score(estimator=final_clf, X=X_train, y=y_train, cv=10) \n",
    "print(f'Accuracy is:', format(accuracies.mean()*100))  #Printing the Mean of the accuracies\n",
    "print(f'Standard Deviation is:',format(accuracies.std()*100)) #Printing the Standard Deviation of accuraciesa"
   ]
  },
  {
   "cell_type": "markdown",
   "id": "1717e458",
   "metadata": {
    "execution": {
     "iopub.execute_input": "2023-02-06T14:22:39.128031Z",
     "iopub.status.busy": "2023-02-06T14:22:39.127582Z",
     "iopub.status.idle": "2023-02-06T14:22:39.132899Z",
     "shell.execute_reply": "2023-02-06T14:22:39.131689Z",
     "shell.execute_reply.started": "2023-02-06T14:22:39.127996Z"
    },
    "papermill": {
     "duration": 0.01793,
     "end_time": "2023-02-06T16:33:03.708650",
     "exception": false,
     "start_time": "2023-02-06T16:33:03.690720",
     "status": "completed"
    },
    "tags": []
   },
   "source": [
    "# Predicting unknown values of Patents"
   ]
  },
  {
   "cell_type": "code",
   "execution_count": 37,
   "id": "a7cb758b",
   "metadata": {
    "execution": {
     "iopub.execute_input": "2023-02-06T16:33:03.747194Z",
     "iopub.status.busy": "2023-02-06T16:33:03.746567Z",
     "iopub.status.idle": "2023-02-06T16:33:03.759261Z",
     "shell.execute_reply": "2023-02-06T16:33:03.758450Z"
    },
    "papermill": {
     "duration": 0.03409,
     "end_time": "2023-02-06T16:33:03.761099",
     "exception": false,
     "start_time": "2023-02-06T16:33:03.727009",
     "status": "completed"
    },
    "tags": []
   },
   "outputs": [
    {
     "data": {
      "text/html": [
       "<div>\n",
       "<style scoped>\n",
       "    .dataframe tbody tr th:only-of-type {\n",
       "        vertical-align: middle;\n",
       "    }\n",
       "\n",
       "    .dataframe tbody tr th {\n",
       "        vertical-align: top;\n",
       "    }\n",
       "\n",
       "    .dataframe thead th {\n",
       "        text-align: right;\n",
       "    }\n",
       "</style>\n",
       "<table border=\"1\" class=\"dataframe\">\n",
       "  <thead>\n",
       "    <tr style=\"text-align: right;\">\n",
       "      <th></th>\n",
       "      <th>CreditScore</th>\n",
       "      <th>Age</th>\n",
       "      <th>Tenure</th>\n",
       "      <th>Balance</th>\n",
       "      <th>NumOfProducts</th>\n",
       "      <th>HasCrCard</th>\n",
       "      <th>IsActiveMember</th>\n",
       "      <th>EstimatedSalary</th>\n",
       "      <th>Exited</th>\n",
       "      <th>Geography_Germany</th>\n",
       "      <th>Geography_Spain</th>\n",
       "      <th>Gender_Male</th>\n",
       "    </tr>\n",
       "  </thead>\n",
       "  <tbody>\n",
       "    <tr>\n",
       "      <th>0</th>\n",
       "      <td>619</td>\n",
       "      <td>42</td>\n",
       "      <td>2</td>\n",
       "      <td>0.00</td>\n",
       "      <td>1</td>\n",
       "      <td>1</td>\n",
       "      <td>1</td>\n",
       "      <td>101348.88</td>\n",
       "      <td>1</td>\n",
       "      <td>0</td>\n",
       "      <td>0</td>\n",
       "      <td>0</td>\n",
       "    </tr>\n",
       "    <tr>\n",
       "      <th>1</th>\n",
       "      <td>608</td>\n",
       "      <td>41</td>\n",
       "      <td>1</td>\n",
       "      <td>83807.86</td>\n",
       "      <td>1</td>\n",
       "      <td>0</td>\n",
       "      <td>1</td>\n",
       "      <td>112542.58</td>\n",
       "      <td>0</td>\n",
       "      <td>0</td>\n",
       "      <td>1</td>\n",
       "      <td>0</td>\n",
       "    </tr>\n",
       "    <tr>\n",
       "      <th>2</th>\n",
       "      <td>502</td>\n",
       "      <td>42</td>\n",
       "      <td>8</td>\n",
       "      <td>159660.80</td>\n",
       "      <td>3</td>\n",
       "      <td>1</td>\n",
       "      <td>0</td>\n",
       "      <td>113931.57</td>\n",
       "      <td>1</td>\n",
       "      <td>0</td>\n",
       "      <td>0</td>\n",
       "      <td>0</td>\n",
       "    </tr>\n",
       "    <tr>\n",
       "      <th>3</th>\n",
       "      <td>699</td>\n",
       "      <td>39</td>\n",
       "      <td>1</td>\n",
       "      <td>0.00</td>\n",
       "      <td>2</td>\n",
       "      <td>0</td>\n",
       "      <td>0</td>\n",
       "      <td>93826.63</td>\n",
       "      <td>0</td>\n",
       "      <td>0</td>\n",
       "      <td>0</td>\n",
       "      <td>0</td>\n",
       "    </tr>\n",
       "    <tr>\n",
       "      <th>4</th>\n",
       "      <td>850</td>\n",
       "      <td>43</td>\n",
       "      <td>2</td>\n",
       "      <td>125510.82</td>\n",
       "      <td>1</td>\n",
       "      <td>1</td>\n",
       "      <td>1</td>\n",
       "      <td>79084.10</td>\n",
       "      <td>0</td>\n",
       "      <td>0</td>\n",
       "      <td>1</td>\n",
       "      <td>0</td>\n",
       "    </tr>\n",
       "  </tbody>\n",
       "</table>\n",
       "</div>"
      ],
      "text/plain": [
       "   CreditScore  Age  Tenure    Balance  NumOfProducts  HasCrCard  \\\n",
       "0          619   42       2       0.00              1          1   \n",
       "1          608   41       1   83807.86              1          0   \n",
       "2          502   42       8  159660.80              3          1   \n",
       "3          699   39       1       0.00              2          0   \n",
       "4          850   43       2  125510.82              1          1   \n",
       "\n",
       "   IsActiveMember  EstimatedSalary  Exited  Geography_Germany  \\\n",
       "0               1        101348.88       1                  0   \n",
       "1               1        112542.58       0                  0   \n",
       "2               0        113931.57       1                  0   \n",
       "3               0         93826.63       0                  0   \n",
       "4               1         79084.10       0                  0   \n",
       "\n",
       "   Geography_Spain  Gender_Male  \n",
       "0                0            0  \n",
       "1                1            0  \n",
       "2                0            0  \n",
       "3                0            0  \n",
       "4                1            0  "
      ]
     },
     "execution_count": 37,
     "metadata": {},
     "output_type": "execute_result"
    }
   ],
   "source": [
    "pd.options.display.max_columns = None # to see all the columns\n",
    "df.head()"
   ]
  },
  {
   "cell_type": "code",
   "execution_count": 38,
   "id": "4049e50a",
   "metadata": {
    "execution": {
     "iopub.execute_input": "2023-02-06T16:33:03.800202Z",
     "iopub.status.busy": "2023-02-06T16:33:03.799576Z",
     "iopub.status.idle": "2023-02-06T16:33:03.803961Z",
     "shell.execute_reply": "2023-02-06T16:33:03.803337Z"
    },
    "papermill": {
     "duration": 0.026039,
     "end_time": "2023-02-06T16:33:03.805695",
     "exception": false,
     "start_time": "2023-02-06T16:33:03.779656",
     "status": "completed"
    },
    "tags": []
   },
   "outputs": [],
   "source": [
    "unknown_customer= [[615, 45, 1, 50000.10, 2, 0, 1, 2348.88, 1, 0, 1]]"
   ]
  },
  {
   "cell_type": "code",
   "execution_count": 39,
   "id": "fd467520",
   "metadata": {
    "execution": {
     "iopub.execute_input": "2023-02-06T16:33:03.844328Z",
     "iopub.status.busy": "2023-02-06T16:33:03.843990Z",
     "iopub.status.idle": "2023-02-06T16:33:03.935018Z",
     "shell.execute_reply": "2023-02-06T16:33:03.934150Z"
    },
    "papermill": {
     "duration": 0.112515,
     "end_time": "2023-02-06T16:33:03.936828",
     "exception": false,
     "start_time": "2023-02-06T16:33:03.824313",
     "status": "completed"
    },
    "tags": []
   },
   "outputs": [
    {
     "data": {
      "text/plain": [
       "array([0])"
      ]
     },
     "execution_count": 39,
     "metadata": {},
     "output_type": "execute_result"
    }
   ],
   "source": [
    "final_clf.predict(ss.transform(unknown_customer))"
   ]
  },
  {
   "cell_type": "markdown",
   "id": "ef0d0d7a",
   "metadata": {
    "execution": {
     "iopub.execute_input": "2023-02-06T12:29:20.205608Z",
     "iopub.status.busy": "2023-02-06T12:29:20.204855Z",
     "iopub.status.idle": "2023-02-06T12:29:20.210773Z",
     "shell.execute_reply": "2023-02-06T12:29:20.209390Z",
     "shell.execute_reply.started": "2023-02-06T12:29:20.205565Z"
    },
    "papermill": {
     "duration": 0.018094,
     "end_time": "2023-02-06T16:33:03.973351",
     "exception": false,
     "start_time": "2023-02-06T16:33:03.955257",
     "status": "completed"
    },
    "tags": []
   },
   "source": [
    "## The END"
   ]
  },
  {
   "cell_type": "markdown",
   "id": "044fc6f5",
   "metadata": {
    "papermill": {
     "duration": 0.018978,
     "end_time": "2023-02-06T16:33:04.010746",
     "exception": false,
     "start_time": "2023-02-06T16:33:03.991768",
     "status": "completed"
    },
    "tags": []
   },
   "source": [
    "`If you found my work to be informative and valuable, I would greatly appreciate it if you could take a moment to` **upvote** `this notebook. Your support not only motivates me to continue creating and sharing my work, but also helps it reach a wider audience. Thank you in advance for your time and consideration.`"
   ]
  }
 ],
 "metadata": {
  "kernelspec": {
   "display_name": "Python 3",
   "language": "python",
   "name": "python3"
  },
  "language_info": {
   "codemirror_mode": {
    "name": "ipython",
    "version": 3
   },
   "file_extension": ".py",
   "mimetype": "text/x-python",
   "name": "python",
   "nbconvert_exporter": "python",
   "pygments_lexer": "ipython3",
   "version": "3.7.12"
  },
  "papermill": {
   "default_parameters": {},
   "duration": 275.482805,
   "end_time": "2023-02-06T16:33:06.652043",
   "environment_variables": {},
   "exception": null,
   "input_path": "__notebook__.ipynb",
   "output_path": "__notebook__.ipynb",
   "parameters": {},
   "start_time": "2023-02-06T16:28:31.169238",
   "version": "2.3.4"
  }
 },
 "nbformat": 4,
 "nbformat_minor": 5
}
